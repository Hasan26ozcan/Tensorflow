{
 "cells": [
  {
   "cell_type": "code",
   "execution_count": 1,
   "id": "139837ea",
   "metadata": {},
   "outputs": [],
   "source": [
    "#PYTHON BASİCS"
   ]
  },
  {
   "cell_type": "code",
   "execution_count": 6,
   "id": "a23e1dec",
   "metadata": {},
   "outputs": [
    {
     "data": {
      "text/plain": [
       "20"
      ]
     },
     "execution_count": 6,
     "metadata": {},
     "output_type": "execute_result"
    }
   ],
   "source": [
    "5*4"
   ]
  },
  {
   "cell_type": "code",
   "execution_count": 7,
   "id": "d65597c6",
   "metadata": {},
   "outputs": [
    {
     "name": "stdout",
     "output_type": "stream",
     "text": [
      "25\n"
     ]
    }
   ],
   "source": [
    "print(5*5)"
   ]
  },
  {
   "cell_type": "code",
   "execution_count": 19,
   "id": "cd62bf51",
   "metadata": {},
   "outputs": [],
   "source": [
    "# python"
   ]
  },
  {
   "cell_type": "code",
   "execution_count": 18,
   "id": "2d6d6781",
   "metadata": {},
   "outputs": [],
   "source": [
    "# python"
   ]
  },
  {
   "cell_type": "code",
   "execution_count": 21,
   "id": "f96a9820",
   "metadata": {},
   "outputs": [
    {
     "data": {
      "text/plain": [
       "3500"
      ]
     },
     "execution_count": 21,
     "metadata": {},
     "output_type": "execute_result"
    }
   ],
   "source": [
    "1000+2500"
   ]
  },
  {
   "cell_type": "code",
   "execution_count": 36,
   "id": "915d6bba",
   "metadata": {},
   "outputs": [],
   "source": [
    "# variables(degiskenler)"
   ]
  },
  {
   "cell_type": "code",
   "execution_count": 29,
   "id": "8a7b030e",
   "metadata": {},
   "outputs": [],
   "source": [
    "x=5"
   ]
  },
  {
   "cell_type": "code",
   "execution_count": 23,
   "id": "a619c863",
   "metadata": {},
   "outputs": [],
   "source": [
    "y=4"
   ]
  },
  {
   "cell_type": "code",
   "execution_count": 30,
   "id": "761f4c87",
   "metadata": {},
   "outputs": [
    {
     "name": "stdout",
     "output_type": "stream",
     "text": [
      "20\n"
     ]
    }
   ],
   "source": [
    "print(x*y)"
   ]
  },
  {
   "cell_type": "code",
   "execution_count": 25,
   "id": "5bce1ae0",
   "metadata": {},
   "outputs": [
    {
     "data": {
      "text/plain": [
       "9"
      ]
     },
     "execution_count": 25,
     "metadata": {},
     "output_type": "execute_result"
    }
   ],
   "source": [
    "x+y"
   ]
  },
  {
   "cell_type": "code",
   "execution_count": 26,
   "id": "ac91f596",
   "metadata": {},
   "outputs": [],
   "source": [
    "x=6"
   ]
  },
  {
   "cell_type": "code",
   "execution_count": 27,
   "id": "fe22fe55",
   "metadata": {},
   "outputs": [
    {
     "data": {
      "text/plain": [
       "24"
      ]
     },
     "execution_count": 27,
     "metadata": {},
     "output_type": "execute_result"
    }
   ],
   "source": [
    "x*y"
   ]
  },
  {
   "cell_type": "code",
   "execution_count": 31,
   "id": "68130008",
   "metadata": {},
   "outputs": [],
   "source": [
    "# burada da olduğu gibi In[26] ya da başka bir sayı ile en son çalıştırılan deger egöre o degiskene o deger ave o degere göre islemlerini yerine getirir"
   ]
  },
  {
   "cell_type": "code",
   "execution_count": null,
   "id": "f718c0b2",
   "metadata": {
    "scrolled": true
   },
   "outputs": [],
   "source": [
    "# normal += işlemlerini yerine getirebiliyoruz"
   ]
  },
  {
   "cell_type": "code",
   "execution_count": 33,
   "id": "284f967a",
   "metadata": {},
   "outputs": [],
   "source": [
    "y+=10"
   ]
  },
  {
   "cell_type": "code",
   "execution_count": 34,
   "id": "892eb4c6",
   "metadata": {},
   "outputs": [
    {
     "data": {
      "text/plain": [
       "14"
      ]
     },
     "execution_count": 34,
     "metadata": {},
     "output_type": "execute_result"
    }
   ],
   "source": [
    "y"
   ]
  },
  {
   "cell_type": "code",
   "execution_count": 37,
   "id": "39645595",
   "metadata": {},
   "outputs": [],
   "source": [
    "benimdegiskenim=10\n",
    "benimdigerdegiskenim=20"
   ]
  },
  {
   "cell_type": "code",
   "execution_count": 38,
   "id": "20e73656",
   "metadata": {},
   "outputs": [
    {
     "data": {
      "text/plain": [
       "30"
      ]
     },
     "execution_count": 38,
     "metadata": {},
     "output_type": "execute_result"
    }
   ],
   "source": [
    "benimdegiskenim + benimdigerdegiskenim"
   ]
  },
  {
   "cell_type": "code",
   "execution_count": 39,
   "id": "fec74da8",
   "metadata": {},
   "outputs": [
    {
     "data": {
      "text/plain": [
       "int"
      ]
     },
     "execution_count": 39,
     "metadata": {},
     "output_type": "execute_result"
    }
   ],
   "source": [
    "type(benimdegiskenim)"
   ]
  },
  {
   "cell_type": "code",
   "execution_count": 41,
   "id": "87e1f8d1",
   "metadata": {},
   "outputs": [],
   "source": [
    "sonuc=benimdigerdegiskenim/benimdegiskenim"
   ]
  },
  {
   "cell_type": "code",
   "execution_count": 42,
   "id": "66703c70",
   "metadata": {},
   "outputs": [
    {
     "data": {
      "text/plain": [
       "float"
      ]
     },
     "execution_count": 42,
     "metadata": {},
     "output_type": "execute_result"
    }
   ],
   "source": [
    "type(sonuc)"
   ]
  },
  {
   "cell_type": "code",
   "execution_count": 43,
   "id": "8a0cfde3",
   "metadata": {},
   "outputs": [],
   "source": [
    "a=3\n",
    "b=2"
   ]
  },
  {
   "cell_type": "code",
   "execution_count": 46,
   "id": "ec28e7d8",
   "metadata": {},
   "outputs": [],
   "source": [
    "deger=a/b"
   ]
  },
  {
   "cell_type": "code",
   "execution_count": 47,
   "id": "47283bf5",
   "metadata": {},
   "outputs": [],
   "source": [
    "pi=3.14"
   ]
  },
  {
   "cell_type": "code",
   "execution_count": 48,
   "id": "6167eb06",
   "metadata": {},
   "outputs": [
    {
     "data": {
      "text/plain": [
       "float"
      ]
     },
     "execution_count": 48,
     "metadata": {},
     "output_type": "execute_result"
    }
   ],
   "source": [
    "type(pi)"
   ]
  },
  {
   "cell_type": "code",
   "execution_count": 49,
   "id": "20e2f3a5",
   "metadata": {},
   "outputs": [],
   "source": [
    "a=5"
   ]
  },
  {
   "cell_type": "code",
   "execution_count": 50,
   "id": "2adb8aff",
   "metadata": {},
   "outputs": [
    {
     "data": {
      "text/plain": [
       "int"
      ]
     },
     "execution_count": 50,
     "metadata": {},
     "output_type": "execute_result"
    }
   ],
   "source": [
    "type(a)"
   ]
  },
  {
   "cell_type": "code",
   "execution_count": 51,
   "id": "141bed04",
   "metadata": {},
   "outputs": [
    {
     "data": {
      "text/plain": [
       "8.14"
      ]
     },
     "execution_count": 51,
     "metadata": {},
     "output_type": "execute_result"
    }
   ],
   "source": [
    "a+pi"
   ]
  },
  {
   "cell_type": "code",
   "execution_count": 52,
   "id": "a9e4272d",
   "metadata": {},
   "outputs": [],
   "source": [
    "a=5\n",
    "b=4"
   ]
  },
  {
   "cell_type": "code",
   "execution_count": 54,
   "id": "983493e7",
   "metadata": {},
   "outputs": [],
   "source": [
    "sonuc1=a+b"
   ]
  },
  {
   "cell_type": "code",
   "execution_count": 55,
   "id": "873ef2c8",
   "metadata": {},
   "outputs": [
    {
     "data": {
      "text/plain": [
       "int"
      ]
     },
     "execution_count": 55,
     "metadata": {},
     "output_type": "execute_result"
    }
   ],
   "source": [
    "type(sonuc1)"
   ]
  },
  {
   "cell_type": "code",
   "execution_count": 56,
   "id": "56cd26ca",
   "metadata": {},
   "outputs": [],
   "source": [
    "sonuc2=a*b"
   ]
  },
  {
   "cell_type": "code",
   "execution_count": 57,
   "id": "0719ff7f",
   "metadata": {},
   "outputs": [
    {
     "data": {
      "text/plain": [
       "int"
      ]
     },
     "execution_count": 57,
     "metadata": {},
     "output_type": "execute_result"
    }
   ],
   "source": [
    "type(sonuc2)"
   ]
  },
  {
   "cell_type": "code",
   "execution_count": 59,
   "id": "5ca9c119",
   "metadata": {},
   "outputs": [],
   "source": [
    "#matematiksel işlemler"
   ]
  },
  {
   "cell_type": "code",
   "execution_count": 60,
   "id": "067d2afa",
   "metadata": {},
   "outputs": [],
   "source": [
    "x=5\n",
    "y=4"
   ]
  },
  {
   "cell_type": "code",
   "execution_count": 61,
   "id": "f410bec3",
   "metadata": {},
   "outputs": [
    {
     "data": {
      "text/plain": [
       "625"
      ]
     },
     "execution_count": 61,
     "metadata": {},
     "output_type": "execute_result"
    }
   ],
   "source": [
    "x*x*x*x"
   ]
  },
  {
   "cell_type": "code",
   "execution_count": 62,
   "id": "b51dc188",
   "metadata": {},
   "outputs": [
    {
     "data": {
      "text/plain": [
       "625"
      ]
     },
     "execution_count": 62,
     "metadata": {},
     "output_type": "execute_result"
    }
   ],
   "source": [
    "x**4"
   ]
  },
  {
   "cell_type": "code",
   "execution_count": 63,
   "id": "d03bb72d",
   "metadata": {},
   "outputs": [
    {
     "data": {
      "text/plain": [
       "0"
      ]
     },
     "execution_count": 63,
     "metadata": {},
     "output_type": "execute_result"
    }
   ],
   "source": [
    "# remainder  => kalanını bulmak\n",
    "10%2"
   ]
  },
  {
   "cell_type": "code",
   "execution_count": 64,
   "id": "4eae9fc7",
   "metadata": {},
   "outputs": [
    {
     "data": {
      "text/plain": [
       "1"
      ]
     },
     "execution_count": 64,
     "metadata": {},
     "output_type": "execute_result"
    }
   ],
   "source": [
    "11%2"
   ]
  },
  {
   "cell_type": "code",
   "execution_count": 65,
   "id": "b6434939",
   "metadata": {},
   "outputs": [
    {
     "data": {
      "text/plain": [
       "2"
      ]
     },
     "execution_count": 65,
     "metadata": {},
     "output_type": "execute_result"
    }
   ],
   "source": [
    "11%3"
   ]
  },
  {
   "cell_type": "code",
   "execution_count": 66,
   "id": "e36643e9",
   "metadata": {},
   "outputs": [],
   "source": [
    "KullanıcınınYası=10"
   ]
  },
  {
   "cell_type": "code",
   "execution_count": 67,
   "id": "7c3a919a",
   "metadata": {},
   "outputs": [],
   "source": [
    "#camelCase kullanıcıYası snake_case kullanıcı_yası"
   ]
  },
  {
   "cell_type": "code",
   "execution_count": 68,
   "id": "8ff368bd",
   "metadata": {},
   "outputs": [
    {
     "data": {
      "text/plain": [
       "16.666666666666668"
      ]
     },
     "execution_count": 68,
     "metadata": {},
     "output_type": "execute_result"
    }
   ],
   "source": [
    "KullanıcınınYası*5/3"
   ]
  },
  {
   "cell_type": "code",
   "execution_count": 69,
   "id": "c9331f5e",
   "metadata": {},
   "outputs": [
    {
     "name": "stdout",
     "output_type": "stream",
     "text": [
      "yaşınızı giriniz:60\n"
     ]
    },
    {
     "data": {
      "text/plain": [
       "'60'"
      ]
     },
     "execution_count": 69,
     "metadata": {},
     "output_type": "execute_result"
    }
   ],
   "source": [
    "input(\"yaşınızı giriniz:\")"
   ]
  },
  {
   "cell_type": "code",
   "execution_count": 70,
   "id": "dbb70960",
   "metadata": {},
   "outputs": [
    {
     "name": "stdout",
     "output_type": "stream",
     "text": [
      "yaşınızı giriniz: 60\n"
     ]
    }
   ],
   "source": [
    "kullanıcının_yasi=input(\"yaşınızı giriniz: \")"
   ]
  },
  {
   "cell_type": "code",
   "execution_count": 71,
   "id": "eff0e33e",
   "metadata": {},
   "outputs": [
    {
     "data": {
      "text/plain": [
       "'60'"
      ]
     },
     "execution_count": 71,
     "metadata": {},
     "output_type": "execute_result"
    }
   ],
   "source": [
    "kullanıcının_yasi"
   ]
  },
  {
   "cell_type": "code",
   "execution_count": 72,
   "id": "635bddb7",
   "metadata": {},
   "outputs": [
    {
     "data": {
      "text/plain": [
       "str"
      ]
     },
     "execution_count": 72,
     "metadata": {},
     "output_type": "execute_result"
    }
   ],
   "source": [
    "type(kullanıcının_yasi)"
   ]
  },
  {
   "cell_type": "code",
   "execution_count": 73,
   "id": "d94ddb63",
   "metadata": {},
   "outputs": [
    {
     "data": {
      "text/plain": [
       "'6060606060'"
      ]
     },
     "execution_count": 73,
     "metadata": {},
     "output_type": "execute_result"
    }
   ],
   "source": [
    "kullanıcının_yasi*5"
   ]
  },
  {
   "cell_type": "code",
   "execution_count": 74,
   "id": "4689345b",
   "metadata": {},
   "outputs": [],
   "source": [
    "x=\"merhaba dünya\""
   ]
  },
  {
   "cell_type": "code",
   "execution_count": 75,
   "id": "7b393439",
   "metadata": {},
   "outputs": [],
   "source": [
    "x=10"
   ]
  },
  {
   "cell_type": "code",
   "execution_count": 76,
   "id": "b4d05ea7",
   "metadata": {},
   "outputs": [],
   "source": [
    "x=9.8"
   ]
  },
  {
   "cell_type": "code",
   "execution_count": 77,
   "id": "1b8d2310",
   "metadata": {},
   "outputs": [],
   "source": [
    "x=\"hello\""
   ]
  },
  {
   "cell_type": "code",
   "execution_count": 78,
   "id": "d08cdf13",
   "metadata": {},
   "outputs": [],
   "source": [
    "y=\"atıl ın yeri\""
   ]
  },
  {
   "cell_type": "code",
   "execution_count": 79,
   "id": "88b81d0b",
   "metadata": {},
   "outputs": [],
   "source": [
    "y=20"
   ]
  },
  {
   "cell_type": "code",
   "execution_count": 80,
   "id": "1826a716",
   "metadata": {},
   "outputs": [
    {
     "data": {
      "text/plain": [
       "int"
      ]
     },
     "execution_count": 80,
     "metadata": {},
     "output_type": "execute_result"
    }
   ],
   "source": [
    "type(y)"
   ]
  },
  {
   "cell_type": "code",
   "execution_count": 81,
   "id": "fa189d8c",
   "metadata": {},
   "outputs": [],
   "source": [
    "y=\"atıl\""
   ]
  },
  {
   "cell_type": "code",
   "execution_count": 82,
   "id": "7e969ef7",
   "metadata": {},
   "outputs": [
    {
     "data": {
      "text/plain": [
       "str"
      ]
     },
     "execution_count": 82,
     "metadata": {},
     "output_type": "execute_result"
    }
   ],
   "source": [
    "type(y)"
   ]
  },
  {
   "cell_type": "code",
   "execution_count": 83,
   "id": "61edd132",
   "metadata": {},
   "outputs": [
    {
     "data": {
      "text/plain": [
       "\" Atıl'ın yeri\""
      ]
     },
     "execution_count": 83,
     "metadata": {},
     "output_type": "execute_result"
    }
   ],
   "source": [
    "\" Atıl'ın yeri\""
   ]
  },
  {
   "cell_type": "code",
   "execution_count": 85,
   "id": "8de8fc2e",
   "metadata": {},
   "outputs": [
    {
     "data": {
      "text/plain": [
       "-1"
      ]
     },
     "execution_count": 85,
     "metadata": {},
     "output_type": "execute_result"
    }
   ],
   "source": [
    "y.find(\"A\")"
   ]
  },
  {
   "cell_type": "code",
   "execution_count": 87,
   "id": "15c63416",
   "metadata": {},
   "outputs": [],
   "source": [
    "y=\"yeni  string\""
   ]
  },
  {
   "cell_type": "code",
   "execution_count": 88,
   "id": "d20cedde",
   "metadata": {},
   "outputs": [
    {
     "data": {
      "text/plain": [
       "'Yeni  string'"
      ]
     },
     "execution_count": 88,
     "metadata": {},
     "output_type": "execute_result"
    }
   ],
   "source": [
    "y.capitalize()"
   ]
  },
  {
   "cell_type": "code",
   "execution_count": 89,
   "id": "6b54155f",
   "metadata": {},
   "outputs": [],
   "source": [
    "benimstring=\"atıl samancıoğlu\""
   ]
  },
  {
   "cell_type": "code",
   "execution_count": 90,
   "id": "c4db79b7",
   "metadata": {},
   "outputs": [
    {
     "data": {
      "text/plain": [
       "'atıl samancıoğluatıl samancıoğluatıl samancıoğluatıl samancıoğlu'"
      ]
     },
     "execution_count": 90,
     "metadata": {},
     "output_type": "execute_result"
    }
   ],
   "source": [
    "benimstring*4"
   ]
  },
  {
   "cell_type": "code",
   "execution_count": 91,
   "id": "d350dbc9",
   "metadata": {},
   "outputs": [
    {
     "data": {
      "text/plain": [
       "int"
      ]
     },
     "execution_count": 91,
     "metadata": {},
     "output_type": "execute_result"
    }
   ],
   "source": [
    "type(benimdegiskenim)"
   ]
  },
  {
   "cell_type": "code",
   "execution_count": 92,
   "id": "5c17c455",
   "metadata": {},
   "outputs": [
    {
     "data": {
      "text/plain": [
       "str"
      ]
     },
     "execution_count": 92,
     "metadata": {},
     "output_type": "execute_result"
    }
   ],
   "source": [
    "type(benimstring)"
   ]
  },
  {
   "cell_type": "code",
   "execution_count": 94,
   "id": "47f1f6a3",
   "metadata": {},
   "outputs": [
    {
     "name": "stdout",
     "output_type": "stream",
     "text": [
      "benim yaşım6\n"
     ]
    }
   ],
   "source": [
    "benim_yas=input(\"benim yaşım: \")"
   ]
  },
  {
   "cell_type": "code",
   "execution_count": 95,
   "id": "f0013457",
   "metadata": {},
   "outputs": [
    {
     "data": {
      "text/plain": [
       "str"
      ]
     },
     "execution_count": 95,
     "metadata": {},
     "output_type": "execute_result"
    }
   ],
   "source": [
    "type(benim_yas)"
   ]
  },
  {
   "cell_type": "code",
   "execution_count": 96,
   "id": "716bc72f",
   "metadata": {},
   "outputs": [],
   "source": [
    "benim_yas=int(benim_yas)"
   ]
  },
  {
   "cell_type": "code",
   "execution_count": 97,
   "id": "51e61d78",
   "metadata": {},
   "outputs": [
    {
     "data": {
      "text/plain": [
       "int"
      ]
     },
     "execution_count": 97,
     "metadata": {},
     "output_type": "execute_result"
    }
   ],
   "source": [
    "type(benim_yas)"
   ]
  },
  {
   "cell_type": "code",
   "execution_count": 98,
   "id": "26e2c743",
   "metadata": {},
   "outputs": [],
   "source": [
    "k=\"ozcan\""
   ]
  },
  {
   "cell_type": "code",
   "execution_count": 99,
   "id": "e596a00f",
   "metadata": {},
   "outputs": [
    {
     "data": {
      "text/plain": [
       "5"
      ]
     },
     "execution_count": 99,
     "metadata": {},
     "output_type": "execute_result"
    }
   ],
   "source": [
    "len(k)"
   ]
  },
  {
   "cell_type": "code",
   "execution_count": 101,
   "id": "8a642ab8",
   "metadata": {},
   "outputs": [
    {
     "name": "stdout",
     "output_type": "stream",
     "text": [
      "merhaba \n",
      "python \n"
     ]
    }
   ],
   "source": [
    "print(\"merhaba \\npython \")"
   ]
  },
  {
   "cell_type": "code",
   "execution_count": 102,
   "id": "e4ec7f28",
   "metadata": {},
   "outputs": [],
   "source": [
    "isimString=\"Hasan Özcan\""
   ]
  },
  {
   "cell_type": "code",
   "execution_count": 103,
   "id": "3c516fce",
   "metadata": {},
   "outputs": [],
   "source": [
    "#index"
   ]
  },
  {
   "cell_type": "code",
   "execution_count": 108,
   "id": "4dc285e2",
   "metadata": {},
   "outputs": [
    {
     "data": {
      "text/plain": [
       "'H'"
      ]
     },
     "execution_count": 108,
     "metadata": {},
     "output_type": "execute_result"
    }
   ],
   "source": [
    "isimString[0]"
   ]
  },
  {
   "cell_type": "code",
   "execution_count": 109,
   "id": "d9f65cff",
   "metadata": {},
   "outputs": [
    {
     "data": {
      "text/plain": [
       "'n'"
      ]
     },
     "execution_count": 109,
     "metadata": {},
     "output_type": "execute_result"
    }
   ],
   "source": [
    "isimString[-1]"
   ]
  },
  {
   "cell_type": "code",
   "execution_count": 110,
   "id": "48f03185",
   "metadata": {},
   "outputs": [
    {
     "data": {
      "text/plain": [
       "'an '"
      ]
     },
     "execution_count": 110,
     "metadata": {},
     "output_type": "execute_result"
    }
   ],
   "source": [
    "isimString[3:6]"
   ]
  },
  {
   "cell_type": "code",
   "execution_count": 111,
   "id": "b5cd550a",
   "metadata": {},
   "outputs": [],
   "source": [
    "harfstring=\"abcdefg\""
   ]
  },
  {
   "cell_type": "code",
   "execution_count": 112,
   "id": "d6438120",
   "metadata": {},
   "outputs": [
    {
     "data": {
      "text/plain": [
       "'efg'"
      ]
     },
     "execution_count": 112,
     "metadata": {},
     "output_type": "execute_result"
    }
   ],
   "source": [
    "harfstring[4:]"
   ]
  },
  {
   "cell_type": "code",
   "execution_count": 113,
   "id": "4aec510b",
   "metadata": {},
   "outputs": [
    {
     "data": {
      "text/plain": [
       "'abcd'"
      ]
     },
     "execution_count": 113,
     "metadata": {},
     "output_type": "execute_result"
    }
   ],
   "source": [
    "harfstring[:4]"
   ]
  },
  {
   "cell_type": "code",
   "execution_count": 114,
   "id": "c1cf688c",
   "metadata": {},
   "outputs": [],
   "source": [
    "gelenveri=\"ahmetinyası65\""
   ]
  },
  {
   "cell_type": "code",
   "execution_count": 115,
   "id": "384f7148",
   "metadata": {},
   "outputs": [
    {
     "data": {
      "text/plain": [
       "65"
      ]
     },
     "execution_count": 115,
     "metadata": {},
     "output_type": "execute_result"
    }
   ],
   "source": [
    "int(gelenveri[-2:])"
   ]
  },
  {
   "cell_type": "code",
   "execution_count": 116,
   "id": "d2614f6c",
   "metadata": {},
   "outputs": [],
   "source": [
    "#step size"
   ]
  },
  {
   "cell_type": "code",
   "execution_count": 117,
   "id": "e7ea84be",
   "metadata": {},
   "outputs": [
    {
     "data": {
      "text/plain": [
       "'aens5'"
      ]
     },
     "execution_count": 117,
     "metadata": {},
     "output_type": "execute_result"
    }
   ],
   "source": [
    "gelenveri[::3]"
   ]
  },
  {
   "cell_type": "code",
   "execution_count": 118,
   "id": "9dce6cce",
   "metadata": {},
   "outputs": [
    {
     "data": {
      "text/plain": [
       "'56ısaynitemha'"
      ]
     },
     "execution_count": 118,
     "metadata": {},
     "output_type": "execute_result"
    }
   ],
   "source": [
    "gelenveri[::-1]"
   ]
  },
  {
   "cell_type": "code",
   "execution_count": 122,
   "id": "c3504e16",
   "metadata": {},
   "outputs": [],
   "source": [
    "benimismim=\"hasan\""
   ]
  },
  {
   "cell_type": "code",
   "execution_count": 123,
   "id": "dd737c31",
   "metadata": {},
   "outputs": [
    {
     "data": {
      "text/plain": [
       "'Hasan'"
      ]
     },
     "execution_count": 123,
     "metadata": {},
     "output_type": "execute_result"
    }
   ],
   "source": [
    "benimismim.capitalize()"
   ]
  },
  {
   "cell_type": "code",
   "execution_count": 124,
   "id": "9f7cadf2",
   "metadata": {},
   "outputs": [
    {
     "data": {
      "text/plain": [
       "'hasan'"
      ]
     },
     "execution_count": 124,
     "metadata": {},
     "output_type": "execute_result"
    }
   ],
   "source": [
    "benimismim"
   ]
  },
  {
   "cell_type": "code",
   "execution_count": 125,
   "id": "88847300",
   "metadata": {},
   "outputs": [],
   "source": [
    "benimyenisimim=benimismim.capitalize()"
   ]
  },
  {
   "cell_type": "code",
   "execution_count": 126,
   "id": "f6b9493d",
   "metadata": {},
   "outputs": [
    {
     "data": {
      "text/plain": [
       "'Hasan'"
      ]
     },
     "execution_count": 126,
     "metadata": {},
     "output_type": "execute_result"
    }
   ],
   "source": [
    "benimyenisimim"
   ]
  },
  {
   "cell_type": "code",
   "execution_count": 129,
   "id": "f0edb36b",
   "metadata": {},
   "outputs": [],
   "source": [
    "benimtamismim=\"Hasan Özcan test\""
   ]
  },
  {
   "cell_type": "code",
   "execution_count": 130,
   "id": "f59130f2",
   "metadata": {},
   "outputs": [],
   "source": [
    "listeler=benimtamismim.split()"
   ]
  },
  {
   "cell_type": "code",
   "execution_count": 131,
   "id": "a2b2501f",
   "metadata": {},
   "outputs": [
    {
     "data": {
      "text/plain": [
       "['Hasan', 'Özcan', 'test']"
      ]
     },
     "execution_count": 131,
     "metadata": {},
     "output_type": "execute_result"
    }
   ],
   "source": [
    "listeler"
   ]
  },
  {
   "cell_type": "code",
   "execution_count": 132,
   "id": "0acd34b9",
   "metadata": {},
   "outputs": [
    {
     "data": {
      "text/plain": [
       "'Hasan'"
      ]
     },
     "execution_count": 132,
     "metadata": {},
     "output_type": "execute_result"
    }
   ],
   "source": [
    "listeler[0]"
   ]
  },
  {
   "cell_type": "code",
   "execution_count": 134,
   "id": "862aa19f",
   "metadata": {},
   "outputs": [
    {
     "data": {
      "text/plain": [
       "True"
      ]
     },
     "execution_count": 134,
     "metadata": {},
     "output_type": "execute_result"
    }
   ],
   "source": [
    "benimtamismim.startswith(\"Ha\")"
   ]
  },
  {
   "cell_type": "code",
   "execution_count": 135,
   "id": "03da5b03",
   "metadata": {},
   "outputs": [
    {
     "data": {
      "text/plain": [
       "'HASAN ÖZCAN TEST'"
      ]
     },
     "execution_count": 135,
     "metadata": {},
     "output_type": "execute_result"
    }
   ],
   "source": [
    "benimtamismim.upper()"
   ]
  },
  {
   "cell_type": "code",
   "execution_count": 136,
   "id": "5d0271b5",
   "metadata": {},
   "outputs": [],
   "source": [
    "benimsoyismim=\"Özcan\""
   ]
  },
  {
   "cell_type": "code",
   "execution_count": 137,
   "id": "88f404bc",
   "metadata": {},
   "outputs": [
    {
     "data": {
      "text/plain": [
       "'hasan Özcan'"
      ]
     },
     "execution_count": 137,
     "metadata": {},
     "output_type": "execute_result"
    }
   ],
   "source": [
    "benimismim +\" \"+ benimsoyismim"
   ]
  },
  {
   "cell_type": "code",
   "execution_count": 138,
   "id": "cc74fc2e",
   "metadata": {},
   "outputs": [
    {
     "data": {
      "text/plain": [
       "'510'"
      ]
     },
     "execution_count": 138,
     "metadata": {},
     "output_type": "execute_result"
    }
   ],
   "source": [
    "i=\"5\"\n",
    "j=\"10\"\n",
    "i+j"
   ]
  },
  {
   "cell_type": "markdown",
   "id": "2e24d01a",
   "metadata": {},
   "source": [
    "# listeler array"
   ]
  },
  {
   "cell_type": "code",
   "execution_count": null,
   "id": "66c4be09",
   "metadata": {},
   "outputs": [],
   "source": []
  }
 ],
 "metadata": {
  "kernelspec": {
   "display_name": "Python 3 (ipykernel)",
   "language": "python",
   "name": "python3"
  },
  "language_info": {
   "codemirror_mode": {
    "name": "ipython",
    "version": 3
   },
   "file_extension": ".py",
   "mimetype": "text/x-python",
   "name": "python",
   "nbconvert_exporter": "python",
   "pygments_lexer": "ipython3",
   "version": "3.9.13"
  }
 },
 "nbformat": 4,
 "nbformat_minor": 5
}
