{
 "cells": [
  {
   "cell_type": "code",
   "execution_count": 1,
   "id": "1dc592c0",
   "metadata": {},
   "outputs": [],
   "source": [
    "benimstring=\"Hasan Özcan\""
   ]
  },
  {
   "cell_type": "code",
   "execution_count": 2,
   "id": "4fbddc1a",
   "metadata": {},
   "outputs": [
    {
     "data": {
      "text/plain": [
       "'H'"
      ]
     },
     "execution_count": 2,
     "metadata": {},
     "output_type": "execute_result"
    }
   ],
   "source": [
    "benimstring[0]"
   ]
  },
  {
   "cell_type": "code",
   "execution_count": 3,
   "id": "5c867c11",
   "metadata": {},
   "outputs": [],
   "source": [
    "#immutability mutable"
   ]
  },
  {
   "cell_type": "code",
   "execution_count": 5,
   "id": "c1d20214",
   "metadata": {},
   "outputs": [],
   "source": [
    "#benimstring[0]=\"B\""
   ]
  },
  {
   "cell_type": "code",
   "execution_count": 6,
   "id": "abac2e25",
   "metadata": {},
   "outputs": [],
   "source": [
    "benimlistem=[10,20,30,40,50]"
   ]
  },
  {
   "cell_type": "code",
   "execution_count": 7,
   "id": "13f10f96",
   "metadata": {},
   "outputs": [
    {
     "data": {
      "text/plain": [
       "list"
      ]
     },
     "execution_count": 7,
     "metadata": {},
     "output_type": "execute_result"
    }
   ],
   "source": [
    "type(benimlistem)"
   ]
  },
  {
   "cell_type": "code",
   "execution_count": 8,
   "id": "9c9c662e",
   "metadata": {},
   "outputs": [],
   "source": [
    "benimnumaram=10\n",
    "benimdigernuamram=20"
   ]
  },
  {
   "cell_type": "code",
   "execution_count": 9,
   "id": "32ce657e",
   "metadata": {},
   "outputs": [],
   "source": [
    "benimnumaraliste=[benimdigernuamram,benimnumaram]"
   ]
  },
  {
   "cell_type": "code",
   "execution_count": 10,
   "id": "6315e5b8",
   "metadata": {},
   "outputs": [
    {
     "data": {
      "text/plain": [
       "[20, 10]"
      ]
     },
     "execution_count": 10,
     "metadata": {},
     "output_type": "execute_result"
    }
   ],
   "source": [
    "benimnumaraliste"
   ]
  },
  {
   "cell_type": "code",
   "execution_count": 11,
   "id": "182a68a2",
   "metadata": {},
   "outputs": [],
   "source": [
    "benimnumaraliste=benimnumaraliste[::-1]"
   ]
  },
  {
   "cell_type": "code",
   "execution_count": 12,
   "id": "e5869dd4",
   "metadata": {},
   "outputs": [
    {
     "data": {
      "text/plain": [
       "[10, 20]"
      ]
     },
     "execution_count": 12,
     "metadata": {},
     "output_type": "execute_result"
    }
   ],
   "source": [
    "benimnumaraliste"
   ]
  },
  {
   "cell_type": "code",
   "execution_count": 13,
   "id": "840d4285",
   "metadata": {},
   "outputs": [],
   "source": [
    "benimlistem[0]=100"
   ]
  },
  {
   "cell_type": "code",
   "execution_count": 14,
   "id": "c1bd7b42",
   "metadata": {},
   "outputs": [
    {
     "data": {
      "text/plain": [
       "[100, 20, 30, 40, 50]"
      ]
     },
     "execution_count": 14,
     "metadata": {},
     "output_type": "execute_result"
    }
   ],
   "source": [
    "benimlistem"
   ]
  },
  {
   "cell_type": "code",
   "execution_count": 15,
   "id": "f276c0e2",
   "metadata": {},
   "outputs": [],
   "source": [
    "benimlistem.append(60)"
   ]
  },
  {
   "cell_type": "code",
   "execution_count": 16,
   "id": "4779c4c5",
   "metadata": {},
   "outputs": [
    {
     "data": {
      "text/plain": [
       "[100, 20, 30, 40, 50, 60]"
      ]
     },
     "execution_count": 16,
     "metadata": {},
     "output_type": "execute_result"
    }
   ],
   "source": [
    "benimlistem"
   ]
  },
  {
   "cell_type": "code",
   "execution_count": 22,
   "id": "d9ebe81f",
   "metadata": {},
   "outputs": [],
   "source": [
    "benimlistem.extend(benimnumaraliste)\n",
    "# burada ise extedn ise diziyi diziye ekliyor"
   ]
  },
  {
   "cell_type": "code",
   "execution_count": 23,
   "id": "f10adaba",
   "metadata": {},
   "outputs": [
    {
     "data": {
      "text/plain": [
       "[100, 20, 30, 40, 50, 60, 10, 20, 10, 20]"
      ]
     },
     "execution_count": 23,
     "metadata": {},
     "output_type": "execute_result"
    }
   ],
   "source": [
    "benimlistem"
   ]
  },
  {
   "cell_type": "code",
   "execution_count": 25,
   "id": "c9ecf711",
   "metadata": {},
   "outputs": [
    {
     "data": {
      "text/plain": [
       "10"
      ]
     },
     "execution_count": 25,
     "metadata": {},
     "output_type": "execute_result"
    }
   ],
   "source": [
    "benimlistem.pop()\n",
    "#son değeri okur ve siler"
   ]
  },
  {
   "cell_type": "code",
   "execution_count": 27,
   "id": "c80a5275",
   "metadata": {},
   "outputs": [],
   "source": [
    "benimlistem.remove(100)"
   ]
  },
  {
   "cell_type": "code",
   "execution_count": 28,
   "id": "c693bfc2",
   "metadata": {},
   "outputs": [
    {
     "data": {
      "text/plain": [
       "[20, 30, 40, 50, 60, 10, 20]"
      ]
     },
     "execution_count": 28,
     "metadata": {},
     "output_type": "execute_result"
    }
   ],
   "source": [
    "benimlistem"
   ]
  },
  {
   "cell_type": "code",
   "execution_count": 30,
   "id": "0b1ab97c",
   "metadata": {},
   "outputs": [
    {
     "data": {
      "text/plain": [
       "2"
      ]
     },
     "execution_count": 30,
     "metadata": {},
     "output_type": "execute_result"
    }
   ],
   "source": [
    "benimlistem.count(20)\n",
    "# verilen elemandan kaç tane olduğunu sayıyor"
   ]
  },
  {
   "cell_type": "code",
   "execution_count": 31,
   "id": "214b90cc",
   "metadata": {},
   "outputs": [],
   "source": [
    "benimstringlistem=[\"ahmet\",\"mehmet\",\"fatma\",\"fulya\"]"
   ]
  },
  {
   "cell_type": "code",
   "execution_count": 32,
   "id": "d20e6750",
   "metadata": {},
   "outputs": [
    {
     "data": {
      "text/plain": [
       "['ahmet', 'mehmet', 'fatma', 'fulya']"
      ]
     },
     "execution_count": 32,
     "metadata": {},
     "output_type": "execute_result"
    }
   ],
   "source": [
    "benimstringlistem"
   ]
  },
  {
   "cell_type": "code",
   "execution_count": 33,
   "id": "b9323004",
   "metadata": {},
   "outputs": [],
   "source": [
    "benimdigerstringlistem=[\"mahmut\",\"hasan\",\"atlas\",\"atıl\"]"
   ]
  },
  {
   "cell_type": "code",
   "execution_count": 34,
   "id": "65dd025d",
   "metadata": {},
   "outputs": [],
   "source": [
    "toplamstringlistesi=benimdigerstringlistem+benimstringlistem"
   ]
  },
  {
   "cell_type": "code",
   "execution_count": 35,
   "id": "0eb095e3",
   "metadata": {},
   "outputs": [
    {
     "data": {
      "text/plain": [
       "['mahmut', 'hasan', 'atlas', 'atıl', 'ahmet', 'mehmet', 'fatma', 'fulya']"
      ]
     },
     "execution_count": 35,
     "metadata": {},
     "output_type": "execute_result"
    }
   ],
   "source": [
    "toplamstringlistesi\n",
    "#string listelerini başarılı bir şekilde topladık"
   ]
  },
  {
   "cell_type": "code",
   "execution_count": 36,
   "id": "768d86e3",
   "metadata": {},
   "outputs": [
    {
     "data": {
      "text/plain": [
       "['ahmet',\n",
       " 'mehmet',\n",
       " 'fatma',\n",
       " 'fulya',\n",
       " 'ahmet',\n",
       " 'mehmet',\n",
       " 'fatma',\n",
       " 'fulya',\n",
       " 'ahmet',\n",
       " 'mehmet',\n",
       " 'fatma',\n",
       " 'fulya',\n",
       " 'ahmet',\n",
       " 'mehmet',\n",
       " 'fatma',\n",
       " 'fulya',\n",
       " 'ahmet',\n",
       " 'mehmet',\n",
       " 'fatma',\n",
       " 'fulya']"
      ]
     },
     "execution_count": 36,
     "metadata": {},
     "output_type": "execute_result"
    }
   ],
   "source": [
    "benimstringlistem*5"
   ]
  },
  {
   "cell_type": "code",
   "execution_count": 37,
   "id": "2f80ca2a",
   "metadata": {},
   "outputs": [],
   "source": [
    "toplamstringlistesi.reverse()"
   ]
  },
  {
   "cell_type": "code",
   "execution_count": 38,
   "id": "585f2b20",
   "metadata": {},
   "outputs": [
    {
     "data": {
      "text/plain": [
       "['fulya', 'fatma', 'mehmet', 'ahmet', 'atıl', 'atlas', 'hasan', 'mahmut']"
      ]
     },
     "execution_count": 38,
     "metadata": {},
     "output_type": "execute_result"
    }
   ],
   "source": [
    "toplamstringlistesi"
   ]
  },
  {
   "cell_type": "code",
   "execution_count": 39,
   "id": "ae4df7f1",
   "metadata": {},
   "outputs": [],
   "source": [
    "karısıkliste=[1,2,3.5,\"hasan\",9]"
   ]
  },
  {
   "cell_type": "code",
   "execution_count": 40,
   "id": "83e61752",
   "metadata": {},
   "outputs": [
    {
     "data": {
      "text/plain": [
       "[1, 2, 3.5, 'hasan', 9]"
      ]
     },
     "execution_count": 40,
     "metadata": {},
     "output_type": "execute_result"
    }
   ],
   "source": [
    "karısıkliste"
   ]
  },
  {
   "cell_type": "code",
   "execution_count": 41,
   "id": "b634d4e6",
   "metadata": {},
   "outputs": [
    {
     "data": {
      "text/plain": [
       "list"
      ]
     },
     "execution_count": 41,
     "metadata": {},
     "output_type": "execute_result"
    }
   ],
   "source": [
    "type(karısıkliste)"
   ]
  },
  {
   "cell_type": "code",
   "execution_count": 42,
   "id": "28772c63",
   "metadata": {},
   "outputs": [
    {
     "data": {
      "text/plain": [
       "int"
      ]
     },
     "execution_count": 42,
     "metadata": {},
     "output_type": "execute_result"
    }
   ],
   "source": [
    "type(karısıkliste[0])"
   ]
  },
  {
   "cell_type": "code",
   "execution_count": 47,
   "id": "8132bf4e",
   "metadata": {},
   "outputs": [
    {
     "data": {
      "text/plain": [
       "'hasan'"
      ]
     },
     "execution_count": 47,
     "metadata": {},
     "output_type": "execute_result"
    }
   ],
   "source": [
    "sonucum=karısıkliste[3]\n",
    "sonucum"
   ]
  },
  {
   "cell_type": "code",
   "execution_count": 48,
   "id": "3225ac72",
   "metadata": {},
   "outputs": [
    {
     "data": {
      "text/plain": [
       "str"
      ]
     },
     "execution_count": 48,
     "metadata": {},
     "output_type": "execute_result"
    }
   ],
   "source": [
    "type(sonucum)"
   ]
  },
  {
   "cell_type": "code",
   "execution_count": 49,
   "id": "7a4af3ba",
   "metadata": {},
   "outputs": [],
   "source": [
    "nestedlist=[1,5,\"hasan\",[6,4,\"özcan\"]]"
   ]
  },
  {
   "cell_type": "code",
   "execution_count": 50,
   "id": "45f8de83",
   "metadata": {},
   "outputs": [
    {
     "data": {
      "text/plain": [
       "[1, 5, 'hasan', [6, 4, 'özcan']]"
      ]
     },
     "execution_count": 50,
     "metadata": {},
     "output_type": "execute_result"
    }
   ],
   "source": [
    "nestedlist"
   ]
  },
  {
   "cell_type": "code",
   "execution_count": 51,
   "id": "ce32dd69",
   "metadata": {},
   "outputs": [
    {
     "data": {
      "text/plain": [
       "4"
      ]
     },
     "execution_count": 51,
     "metadata": {},
     "output_type": "execute_result"
    }
   ],
   "source": [
    "nestedlist[3][1]"
   ]
  },
  {
   "cell_type": "code",
   "execution_count": 52,
   "id": "ef567bdf",
   "metadata": {},
   "outputs": [
    {
     "data": {
      "text/plain": [
       "list"
      ]
     },
     "execution_count": 52,
     "metadata": {},
     "output_type": "execute_result"
    }
   ],
   "source": [
    "type(nestedlist)"
   ]
  },
  {
   "cell_type": "code",
   "execution_count": 53,
   "id": "0c33c7e2",
   "metadata": {},
   "outputs": [
    {
     "data": {
      "text/plain": [
       "list"
      ]
     },
     "execution_count": 53,
     "metadata": {},
     "output_type": "execute_result"
    }
   ],
   "source": [
    "type(nestedlist[3])"
   ]
  },
  {
   "cell_type": "code",
   "execution_count": 58,
   "id": "706fa452",
   "metadata": {},
   "outputs": [],
   "source": [
    "ozcandegeri=nestedlist[3][2]"
   ]
  },
  {
   "cell_type": "code",
   "execution_count": 59,
   "id": "c7a94633",
   "metadata": {},
   "outputs": [
    {
     "data": {
      "text/plain": [
       "'özcan'"
      ]
     },
     "execution_count": 59,
     "metadata": {},
     "output_type": "execute_result"
    }
   ],
   "source": [
    "ozcandegeri"
   ]
  },
  {
   "cell_type": "code",
   "execution_count": 60,
   "id": "246badda",
   "metadata": {},
   "outputs": [],
   "source": [
    "karmasıkliste=[[1,2,3,[\"a\",\"b\"],50],40,20,[\"z\",5.5],[3,[\"a\"]]]"
   ]
  },
  {
   "cell_type": "code",
   "execution_count": 63,
   "id": "20933d92",
   "metadata": {},
   "outputs": [
    {
     "data": {
      "text/plain": [
       "'b'"
      ]
     },
     "execution_count": 63,
     "metadata": {},
     "output_type": "execute_result"
    }
   ],
   "source": [
    "karmasıkliste[0][3][1]"
   ]
  },
  {
   "cell_type": "code",
   "execution_count": 64,
   "id": "2ff2556a",
   "metadata": {},
   "outputs": [
    {
     "data": {
      "text/plain": [
       "'a'"
      ]
     },
     "execution_count": 64,
     "metadata": {},
     "output_type": "execute_result"
    }
   ],
   "source": [
    "karmasıkliste[4][1][0]"
   ]
  },
  {
   "cell_type": "code",
   "execution_count": 65,
   "id": "c6a5f373",
   "metadata": {},
   "outputs": [
    {
     "data": {
      "text/plain": [
       "['hasan', [6, 4, 'özcan']]"
      ]
     },
     "execution_count": 65,
     "metadata": {},
     "output_type": "execute_result"
    }
   ],
   "source": [
    "nestedlist[2:]"
   ]
  },
  {
   "cell_type": "code",
   "execution_count": 69,
   "id": "bb960daa",
   "metadata": {},
   "outputs": [
    {
     "data": {
      "text/plain": [
       "[1, 5]"
      ]
     },
     "execution_count": 69,
     "metadata": {},
     "output_type": "execute_result"
    }
   ],
   "source": [
    "nestedlist[:2]\n",
    "#starting indekx ve stoping indeks olarak söylenebiliyor"
   ]
  },
  {
   "cell_type": "code",
   "execution_count": 70,
   "id": "6b6a4277",
   "metadata": {},
   "outputs": [
    {
     "data": {
      "text/plain": [
       "list"
      ]
     },
     "execution_count": 70,
     "metadata": {},
     "output_type": "execute_result"
    }
   ],
   "source": [
    "type(nestedlist)"
   ]
  },
  {
   "cell_type": "code",
   "execution_count": null,
   "id": "574dda4b",
   "metadata": {},
   "outputs": [],
   "source": []
  }
 ],
 "metadata": {
  "kernelspec": {
   "display_name": "Python 3 (ipykernel)",
   "language": "python",
   "name": "python3"
  },
  "language_info": {
   "codemirror_mode": {
    "name": "ipython",
    "version": 3
   },
   "file_extension": ".py",
   "mimetype": "text/x-python",
   "name": "python",
   "nbconvert_exporter": "python",
   "pygments_lexer": "ipython3",
   "version": "3.9.13"
  }
 },
 "nbformat": 4,
 "nbformat_minor": 5
}
