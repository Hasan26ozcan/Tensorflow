{
 "cells": [
  {
   "cell_type": "code",
   "execution_count": 1,
   "id": "e5ebbb41",
   "metadata": {},
   "outputs": [],
   "source": [
    "beimlistem=[1,2,3]"
   ]
  },
  {
   "cell_type": "code",
   "execution_count": 2,
   "id": "8a766336",
   "metadata": {},
   "outputs": [
    {
     "data": {
      "text/plain": [
       "1"
      ]
     },
     "execution_count": 2,
     "metadata": {},
     "output_type": "execute_result"
    }
   ],
   "source": [
    "beimlistem[0]"
   ]
  },
  {
   "cell_type": "markdown",
   "id": "676035be",
   "metadata": {},
   "source": [
    "# KEY - VALUE PAİRİNG"
   ]
  },
  {
   "cell_type": "code",
   "execution_count": 3,
   "id": "928b786c",
   "metadata": {},
   "outputs": [],
   "source": [
    "benimyemeklerim=[\"elma\",\"armut\",\"karpuz\"]"
   ]
  },
  {
   "cell_type": "code",
   "execution_count": 4,
   "id": "c4259afe",
   "metadata": {},
   "outputs": [],
   "source": [
    "benimyemekalorilerim=[100,200,300]"
   ]
  },
  {
   "cell_type": "code",
   "execution_count": 6,
   "id": "fdf5951b",
   "metadata": {},
   "outputs": [
    {
     "data": {
      "text/plain": [
       "'armut'"
      ]
     },
     "execution_count": 6,
     "metadata": {},
     "output_type": "execute_result"
    }
   ],
   "source": [
    "benimyemeklerim[1]"
   ]
  },
  {
   "cell_type": "code",
   "execution_count": 7,
   "id": "17c8d3f3",
   "metadata": {},
   "outputs": [
    {
     "data": {
      "text/plain": [
       "200"
      ]
     },
     "execution_count": 7,
     "metadata": {},
     "output_type": "execute_result"
    }
   ],
   "source": [
    "benimyemekalorilerim[1]"
   ]
  },
  {
   "cell_type": "code",
   "execution_count": 8,
   "id": "dd9b308c",
   "metadata": {},
   "outputs": [],
   "source": [
    "#dictionary"
   ]
  },
  {
   "cell_type": "code",
   "execution_count": 10,
   "id": "a4ffc30c",
   "metadata": {},
   "outputs": [],
   "source": [
    "benimsozluk={\"anahtarkelime\":\"deger\"}"
   ]
  },
  {
   "cell_type": "code",
   "execution_count": 11,
   "id": "235f30e5",
   "metadata": {},
   "outputs": [
    {
     "data": {
      "text/plain": [
       "'deger'"
      ]
     },
     "execution_count": 11,
     "metadata": {},
     "output_type": "execute_result"
    }
   ],
   "source": [
    "benimsozluk[\"anahtarkelime\"]"
   ]
  },
  {
   "cell_type": "code",
   "execution_count": 12,
   "id": "ab92bb57",
   "metadata": {},
   "outputs": [],
   "source": [
    "benimyemekkalorisozlugum={\"elma\":100,\"karpuz\":200,\"muz\":300}"
   ]
  },
  {
   "cell_type": "code",
   "execution_count": 13,
   "id": "1d3a5bb7",
   "metadata": {},
   "outputs": [
    {
     "data": {
      "text/plain": [
       "100"
      ]
     },
     "execution_count": 13,
     "metadata": {},
     "output_type": "execute_result"
    }
   ],
   "source": [
    "benimyemekkalorisozlugum[\"elma\"]"
   ]
  },
  {
   "cell_type": "code",
   "execution_count": 14,
   "id": "1561c12e",
   "metadata": {},
   "outputs": [],
   "source": [
    "benimyemekkalorisozlugum[\"elma\"]=200"
   ]
  },
  {
   "cell_type": "code",
   "execution_count": 15,
   "id": "addad2c7",
   "metadata": {},
   "outputs": [
    {
     "data": {
      "text/plain": [
       "{'elma': 200, 'karpuz': 200, 'muz': 300}"
      ]
     },
     "execution_count": 15,
     "metadata": {},
     "output_type": "execute_result"
    }
   ],
   "source": [
    "benimyemekkalorisozlugum"
   ]
  },
  {
   "cell_type": "code",
   "execution_count": 16,
   "id": "da7235af",
   "metadata": {},
   "outputs": [],
   "source": [
    "benimdegisiksozlugum={150:\"hasan\",-2:\"mehmet\"}"
   ]
  },
  {
   "cell_type": "code",
   "execution_count": 17,
   "id": "5c4afb31",
   "metadata": {},
   "outputs": [
    {
     "data": {
      "text/plain": [
       "{150: 'hasan', -2: 'mehmet'}"
      ]
     },
     "execution_count": 17,
     "metadata": {},
     "output_type": "execute_result"
    }
   ],
   "source": [
    "benimdegisiksozlugum"
   ]
  },
  {
   "cell_type": "code",
   "execution_count": 18,
   "id": "299344d5",
   "metadata": {},
   "outputs": [
    {
     "data": {
      "text/plain": [
       "'hasan'"
      ]
     },
     "execution_count": 18,
     "metadata": {},
     "output_type": "execute_result"
    }
   ],
   "source": [
    "benimdegisiksozlugum[150]"
   ]
  },
  {
   "cell_type": "code",
   "execution_count": 21,
   "id": "106cc976",
   "metadata": {},
   "outputs": [],
   "source": [
    "newdictionary={\"anahtar1\" : 100 , \"anahtar2\":[1,2,3,4,5.5,\"hasan\"],\"anahtar3\":{\"anahtar9\":4}}"
   ]
  },
  {
   "cell_type": "code",
   "execution_count": 23,
   "id": "ddd4fd02",
   "metadata": {},
   "outputs": [
    {
     "data": {
      "text/plain": [
       "5.5"
      ]
     },
     "execution_count": 23,
     "metadata": {},
     "output_type": "execute_result"
    }
   ],
   "source": [
    "newdictionary[\"anahtar2\"][4]"
   ]
  },
  {
   "cell_type": "code",
   "execution_count": 25,
   "id": "53178082",
   "metadata": {},
   "outputs": [
    {
     "data": {
      "text/plain": [
       "dict_keys(['anahtar1', 'anahtar2', 'anahtar3'])"
      ]
     },
     "execution_count": 25,
     "metadata": {},
     "output_type": "execute_result"
    }
   ],
   "source": [
    "newdictionary.keys()"
   ]
  },
  {
   "cell_type": "code",
   "execution_count": 26,
   "id": "9e60e930",
   "metadata": {},
   "outputs": [
    {
     "data": {
      "text/plain": [
       "'hasan'"
      ]
     },
     "execution_count": 26,
     "metadata": {},
     "output_type": "execute_result"
    }
   ],
   "source": [
    "newdictionary[\"anahtar2\"][5]"
   ]
  },
  {
   "cell_type": "code",
   "execution_count": 27,
   "id": "50850fff",
   "metadata": {},
   "outputs": [
    {
     "data": {
      "text/plain": [
       "4"
      ]
     },
     "execution_count": 27,
     "metadata": {},
     "output_type": "execute_result"
    }
   ],
   "source": [
    "newdictionary[\"anahtar3\"][\"anahtar9\"]"
   ]
  },
  {
   "cell_type": "code",
   "execution_count": null,
   "id": "815a6d0e",
   "metadata": {},
   "outputs": [],
   "source": []
  }
 ],
 "metadata": {
  "kernelspec": {
   "display_name": "Python 3 (ipykernel)",
   "language": "python",
   "name": "python3"
  },
  "language_info": {
   "codemirror_mode": {
    "name": "ipython",
    "version": 3
   },
   "file_extension": ".py",
   "mimetype": "text/x-python",
   "name": "python",
   "nbconvert_exporter": "python",
   "pygments_lexer": "ipython3",
   "version": "3.9.13"
  }
 },
 "nbformat": 4,
 "nbformat_minor": 5
}
