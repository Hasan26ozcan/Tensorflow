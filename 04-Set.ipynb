{
 "cells": [
  {
   "cell_type": "code",
   "execution_count": 1,
   "id": "5730e310",
   "metadata": {},
   "outputs": [],
   "source": [
    "benimlistem=[1,2,3,4,1,2,3,4]"
   ]
  },
  {
   "cell_type": "code",
   "execution_count": 4,
   "id": "4d38d675",
   "metadata": {},
   "outputs": [],
   "source": [
    "benimlistesetim=set(benimlistem)"
   ]
  },
  {
   "cell_type": "code",
   "execution_count": 5,
   "id": "dc1638e9",
   "metadata": {},
   "outputs": [
    {
     "data": {
      "text/plain": [
       "[1, 2, 3, 4, 1, 2, 3, 4]"
      ]
     },
     "execution_count": 5,
     "metadata": {},
     "output_type": "execute_result"
    }
   ],
   "source": [
    "benimlistem"
   ]
  },
  {
   "cell_type": "code",
   "execution_count": 6,
   "id": "654211a8",
   "metadata": {},
   "outputs": [
    {
     "data": {
      "text/plain": [
       "list"
      ]
     },
     "execution_count": 6,
     "metadata": {},
     "output_type": "execute_result"
    }
   ],
   "source": [
    "type(benimlistem)"
   ]
  },
  {
   "cell_type": "code",
   "execution_count": 7,
   "id": "7df04512",
   "metadata": {},
   "outputs": [
    {
     "data": {
      "text/plain": [
       "set"
      ]
     },
     "execution_count": 7,
     "metadata": {},
     "output_type": "execute_result"
    }
   ],
   "source": [
    "type(benimlistesetim)"
   ]
  },
  {
   "cell_type": "code",
   "execution_count": 9,
   "id": "05cbc6f2",
   "metadata": {},
   "outputs": [],
   "source": [
    "benimset={\"a\",\"b\",\"c\",\"a\"}"
   ]
  },
  {
   "cell_type": "code",
   "execution_count": 10,
   "id": "b9babd3f",
   "metadata": {},
   "outputs": [
    {
     "data": {
      "text/plain": [
       "set"
      ]
     },
     "execution_count": 10,
     "metadata": {},
     "output_type": "execute_result"
    }
   ],
   "source": [
    "type(benimset)"
   ]
  },
  {
   "cell_type": "code",
   "execution_count": 11,
   "id": "9f7c73b4",
   "metadata": {},
   "outputs": [
    {
     "data": {
      "text/plain": [
       "{'a', 'b', 'c'}"
      ]
     },
     "execution_count": 11,
     "metadata": {},
     "output_type": "execute_result"
    }
   ],
   "source": [
    "benimset"
   ]
  },
  {
   "cell_type": "code",
   "execution_count": 12,
   "id": "7cee9cef",
   "metadata": {},
   "outputs": [],
   "source": [
    "bosliste=[]"
   ]
  },
  {
   "cell_type": "code",
   "execution_count": 13,
   "id": "c75a4bbf",
   "metadata": {},
   "outputs": [
    {
     "data": {
      "text/plain": [
       "[]"
      ]
     },
     "execution_count": 13,
     "metadata": {},
     "output_type": "execute_result"
    }
   ],
   "source": [
    "bosliste"
   ]
  },
  {
   "cell_type": "code",
   "execution_count": 14,
   "id": "8a86db07",
   "metadata": {},
   "outputs": [],
   "source": [
    "bosliste.append(1)"
   ]
  },
  {
   "cell_type": "code",
   "execution_count": 15,
   "id": "07ff5dbf",
   "metadata": {},
   "outputs": [
    {
     "data": {
      "text/plain": [
       "[1]"
      ]
     },
     "execution_count": 15,
     "metadata": {},
     "output_type": "execute_result"
    }
   ],
   "source": [
    "bosliste"
   ]
  },
  {
   "cell_type": "code",
   "execution_count": 20,
   "id": "3f2e4a7b",
   "metadata": {},
   "outputs": [],
   "source": [
    "bossozluk={}"
   ]
  },
  {
   "cell_type": "code",
   "execution_count": 21,
   "id": "4c878ccc",
   "metadata": {},
   "outputs": [
    {
     "data": {
      "text/plain": [
       "{}"
      ]
     },
     "execution_count": 21,
     "metadata": {},
     "output_type": "execute_result"
    }
   ],
   "source": [
    "bosset"
   ]
  },
  {
   "cell_type": "code",
   "execution_count": 22,
   "id": "949ffdf4",
   "metadata": {},
   "outputs": [
    {
     "data": {
      "text/plain": [
       "dict"
      ]
     },
     "execution_count": 22,
     "metadata": {},
     "output_type": "execute_result"
    }
   ],
   "source": [
    "type(bosset)"
   ]
  },
  {
   "cell_type": "code",
   "execution_count": 23,
   "id": "6c54073a",
   "metadata": {},
   "outputs": [
    {
     "data": {
      "text/plain": [
       "list"
      ]
     },
     "execution_count": 23,
     "metadata": {},
     "output_type": "execute_result"
    }
   ],
   "source": [
    "type(bosliste)"
   ]
  },
  {
   "cell_type": "code",
   "execution_count": 24,
   "id": "a2f8af2d",
   "metadata": {},
   "outputs": [],
   "source": [
    "bossozluk[\"anahtarkelime\"]=10"
   ]
  },
  {
   "cell_type": "code",
   "execution_count": 25,
   "id": "d6924fca",
   "metadata": {},
   "outputs": [
    {
     "data": {
      "text/plain": [
       "{'anahtarkelime': 10}"
      ]
     },
     "execution_count": 25,
     "metadata": {},
     "output_type": "execute_result"
    }
   ],
   "source": [
    "bossozluk"
   ]
  },
  {
   "cell_type": "code",
   "execution_count": 26,
   "id": "c0699cb0",
   "metadata": {},
   "outputs": [
    {
     "data": {
      "text/plain": [
       "dict"
      ]
     },
     "execution_count": 26,
     "metadata": {},
     "output_type": "execute_result"
    }
   ],
   "source": [
    "type(bossozluk)"
   ]
  },
  {
   "cell_type": "code",
   "execution_count": 27,
   "id": "aeced12f",
   "metadata": {},
   "outputs": [],
   "source": [
    "benimbossetim=set()"
   ]
  },
  {
   "cell_type": "code",
   "execution_count": 28,
   "id": "371e9911",
   "metadata": {},
   "outputs": [
    {
     "data": {
      "text/plain": [
       "set"
      ]
     },
     "execution_count": 28,
     "metadata": {},
     "output_type": "execute_result"
    }
   ],
   "source": [
    "type(benimbossetim)"
   ]
  },
  {
   "cell_type": "code",
   "execution_count": 29,
   "id": "a2257a1c",
   "metadata": {},
   "outputs": [],
   "source": [
    "benimbossetim.add(10)"
   ]
  },
  {
   "cell_type": "code",
   "execution_count": 30,
   "id": "32a51237",
   "metadata": {},
   "outputs": [],
   "source": [
    "benimbossetim.add(10)"
   ]
  },
  {
   "cell_type": "code",
   "execution_count": 31,
   "id": "fea2ada7",
   "metadata": {},
   "outputs": [],
   "source": [
    "benimbossetim.add(20)"
   ]
  },
  {
   "cell_type": "code",
   "execution_count": 32,
   "id": "1fa4ef1b",
   "metadata": {},
   "outputs": [
    {
     "data": {
      "text/plain": [
       "{10, 20}"
      ]
     },
     "execution_count": 32,
     "metadata": {},
     "output_type": "execute_result"
    }
   ],
   "source": [
    "benimbossetim"
   ]
  },
  {
   "cell_type": "code",
   "execution_count": 33,
   "id": "5a4776b4",
   "metadata": {},
   "outputs": [],
   "source": [
    "benimbossozlugum=dict()"
   ]
  },
  {
   "cell_type": "code",
   "execution_count": 34,
   "id": "4be63594",
   "metadata": {},
   "outputs": [
    {
     "data": {
      "text/plain": [
       "dict"
      ]
     },
     "execution_count": 34,
     "metadata": {},
     "output_type": "execute_result"
    }
   ],
   "source": [
    "type(benimbossozlugum)"
   ]
  },
  {
   "cell_type": "code",
   "execution_count": 35,
   "id": "9314058f",
   "metadata": {},
   "outputs": [],
   "source": [
    "benimbossozlugum[\"key\"]=3234"
   ]
  },
  {
   "cell_type": "code",
   "execution_count": 36,
   "id": "b309b040",
   "metadata": {},
   "outputs": [
    {
     "data": {
      "text/plain": [
       "{'key': 3234}"
      ]
     },
     "execution_count": 36,
     "metadata": {},
     "output_type": "execute_result"
    }
   ],
   "source": [
    "benimbossozlugum"
   ]
  },
  {
   "cell_type": "code",
   "execution_count": null,
   "id": "01075981",
   "metadata": {},
   "outputs": [],
   "source": []
  }
 ],
 "metadata": {
  "kernelspec": {
   "display_name": "Python 3 (ipykernel)",
   "language": "python",
   "name": "python3"
  },
  "language_info": {
   "codemirror_mode": {
    "name": "ipython",
    "version": 3
   },
   "file_extension": ".py",
   "mimetype": "text/x-python",
   "name": "python",
   "nbconvert_exporter": "python",
   "pygments_lexer": "ipython3",
   "version": "3.9.13"
  }
 },
 "nbformat": 4,
 "nbformat_minor": 5
}
