{
 "cells": [
  {
   "cell_type": "code",
   "execution_count": 2,
   "id": "276efe33",
   "metadata": {},
   "outputs": [],
   "source": [
    "benimlistem=[1,2,\"a\",4.5]"
   ]
  },
  {
   "cell_type": "code",
   "execution_count": 3,
   "id": "f79bf366",
   "metadata": {},
   "outputs": [
    {
     "data": {
      "text/plain": [
       "[1, 2, 'a', 4.5]"
      ]
     },
     "execution_count": 3,
     "metadata": {},
     "output_type": "execute_result"
    }
   ],
   "source": [
    "benimlistem"
   ]
  },
  {
   "cell_type": "code",
   "execution_count": 4,
   "id": "d8c6a24e",
   "metadata": {},
   "outputs": [],
   "source": [
    "benimlistem[0]=100"
   ]
  },
  {
   "cell_type": "code",
   "execution_count": 5,
   "id": "b99eba3f",
   "metadata": {},
   "outputs": [
    {
     "data": {
      "text/plain": [
       "[100, 2, 'a', 4.5]"
      ]
     },
     "execution_count": 5,
     "metadata": {},
     "output_type": "execute_result"
    }
   ],
   "source": [
    "benimlistem"
   ]
  },
  {
   "cell_type": "code",
   "execution_count": 6,
   "id": "55b6d2e6",
   "metadata": {},
   "outputs": [],
   "source": [
    "benimtuple=(1,2,\"a\",4.5)"
   ]
  },
  {
   "cell_type": "code",
   "execution_count": 8,
   "id": "2ab5fca7",
   "metadata": {},
   "outputs": [
    {
     "data": {
      "text/plain": [
       "1"
      ]
     },
     "execution_count": 8,
     "metadata": {},
     "output_type": "execute_result"
    }
   ],
   "source": [
    "benimtuple[0]"
   ]
  },
  {
   "cell_type": "code",
   "execution_count": 9,
   "id": "21bb9088",
   "metadata": {},
   "outputs": [],
   "source": [
    "#benimtuple[0]=\"2\""
   ]
  },
  {
   "cell_type": "code",
   "execution_count": 10,
   "id": "ec09bbc7",
   "metadata": {},
   "outputs": [
    {
     "data": {
      "text/plain": [
       "1"
      ]
     },
     "execution_count": 10,
     "metadata": {},
     "output_type": "execute_result"
    }
   ],
   "source": [
    "benimtuple.count(\"a\")"
   ]
  },
  {
   "cell_type": "code",
   "execution_count": 11,
   "id": "68cbcc3e",
   "metadata": {},
   "outputs": [
    {
     "data": {
      "text/plain": [
       "3"
      ]
     },
     "execution_count": 11,
     "metadata": {},
     "output_type": "execute_result"
    }
   ],
   "source": [
    "benimtuple.index(4.5)"
   ]
  },
  {
   "cell_type": "code",
   "execution_count": null,
   "id": "74260741",
   "metadata": {},
   "outputs": [],
   "source": []
  }
 ],
 "metadata": {
  "kernelspec": {
   "display_name": "Python 3 (ipykernel)",
   "language": "python",
   "name": "python3"
  },
  "language_info": {
   "codemirror_mode": {
    "name": "ipython",
    "version": 3
   },
   "file_extension": ".py",
   "mimetype": "text/x-python",
   "name": "python",
   "nbconvert_exporter": "python",
   "pygments_lexer": "ipython3",
   "version": "3.9.13"
  }
 },
 "nbformat": 4,
 "nbformat_minor": 5
}
