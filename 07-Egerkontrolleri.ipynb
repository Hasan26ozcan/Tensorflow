{
 "cells": [
  {
   "cell_type": "code",
   "execution_count": 1,
   "id": "8db3e667",
   "metadata": {},
   "outputs": [
    {
     "data": {
      "text/plain": [
       "True"
      ]
     },
     "execution_count": 1,
     "metadata": {},
     "output_type": "execute_result"
    }
   ],
   "source": [
    "3 > 1"
   ]
  },
  {
   "cell_type": "code",
   "execution_count": 2,
   "id": "932bacdf",
   "metadata": {},
   "outputs": [
    {
     "name": "stdout",
     "output_type": "stream",
     "text": [
      "deger\n"
     ]
    }
   ],
   "source": [
    "if 3>1:\n",
    "    print(\"deger\")"
   ]
  },
  {
   "cell_type": "code",
   "execution_count": 4,
   "id": "07613121",
   "metadata": {},
   "outputs": [
    {
     "name": "stdout",
     "output_type": "stream",
     "text": [
      "if koşulunun dışına çıktık\n"
     ]
    }
   ],
   "source": [
    "if(3 > 4):\n",
    "    print(\"ekran\")\n",
    "print(\"if koşulunun dışına çıktık\")"
   ]
  },
  {
   "cell_type": "code",
   "execution_count": 17,
   "id": "606502c5",
   "metadata": {},
   "outputs": [],
   "source": [
    "x=4"
   ]
  },
  {
   "cell_type": "code",
   "execution_count": 18,
   "id": "52d371ae",
   "metadata": {},
   "outputs": [],
   "source": [
    "y=4"
   ]
  },
  {
   "cell_type": "code",
   "execution_count": 19,
   "id": "eda22d33",
   "metadata": {},
   "outputs": [
    {
     "name": "stdout",
     "output_type": "stream",
     "text": [
      " x ve y degeri birbirine esittir\n"
     ]
    }
   ],
   "source": [
    "if x>y:\n",
    "    print(\"x , y değerinden büyüktür\")\n",
    "elif( y > x):\n",
    "    print(\"y ,x  degerinden daha büyüktür\")\n",
    "else:\n",
    "    print(\" x ve y degeri birbirine esittir\")"
   ]
  },
  {
   "cell_type": "code",
   "execution_count": 25,
   "id": "b6cdf544",
   "metadata": {},
   "outputs": [
    {
     "name": "stdout",
     "output_type": "stream",
     "text": [
      "süper kahraman seçinizSuperman\n"
     ]
    }
   ],
   "source": [
    "benimkahramanım=input(\"süper kahraman seçiniz\")"
   ]
  },
  {
   "cell_type": "code",
   "execution_count": 26,
   "id": "bd8119be",
   "metadata": {},
   "outputs": [],
   "source": [
    "benimkahramanım=benimkahramanım.capitalize()"
   ]
  },
  {
   "cell_type": "code",
   "execution_count": 27,
   "id": "4c760948",
   "metadata": {},
   "outputs": [
    {
     "data": {
      "text/plain": [
       "'Superman'"
      ]
     },
     "execution_count": 27,
     "metadata": {},
     "output_type": "execute_result"
    }
   ],
   "source": [
    "benimkahramanım"
   ]
  },
  {
   "cell_type": "code",
   "execution_count": 28,
   "id": "bc2146e9",
   "metadata": {},
   "outputs": [
    {
     "name": "stdout",
     "output_type": "stream",
     "text": [
      "Superman seçtiniz tebrikler\n"
     ]
    }
   ],
   "source": [
    "if(benimkahramanım==\"Batman\"):\n",
    "    print(\"Batman'ı seçtiniz tebrikler\")\n",
    "elif(benimkahramanım==\"Superman\"):\n",
    "    print(\"Superman seçtiniz tebrikler\")\n",
    "elif(benimkahramanım==\"Ironman\"):\n",
    "    print(\"Ironman seçtiniz tebrikler\")\n",
    "else:\n",
    "    print(\"seçtiğinizin süperkahraman olduğuna eminmisiniz\")"
   ]
  },
  {
   "cell_type": "code",
   "execution_count": 32,
   "id": "a6179dfe",
   "metadata": {},
   "outputs": [],
   "source": [
    "a=10\n",
    "b=20\n",
    "c=20"
   ]
  },
  {
   "cell_type": "code",
   "execution_count": 33,
   "id": "9755d6c0",
   "metadata": {},
   "outputs": [
    {
     "name": "stdout",
     "output_type": "stream",
     "text": [
      "bu koşullar tutmadı\n"
     ]
    }
   ],
   "source": [
    "if a> b and b > c:\n",
    "    print(\"a , b'den büyük ve b ,c'den büyük\")\n",
    "elif(b>a and c>b):\n",
    "    print(\"c , b'den büyüktür ve b , a'dan büyüktür\")\n",
    "else:\n",
    "    print(\"bu koşullar tutmadı\")"
   ]
  },
  {
   "cell_type": "code",
   "execution_count": 39,
   "id": "337cb4eb",
   "metadata": {},
   "outputs": [],
   "source": [
    "m=1\n",
    "k=4\n",
    "l=5"
   ]
  },
  {
   "cell_type": "code",
   "execution_count": 40,
   "id": "aa8c2da5",
   "metadata": {},
   "outputs": [],
   "source": [
    "if(m>k or k>l):\n",
    "    print(\"bu çalıştırılacakmı\")"
   ]
  },
  {
   "cell_type": "code",
   "execution_count": 44,
   "id": "2a49e5b4",
   "metadata": {},
   "outputs": [],
   "source": [
    "karaktercanli=False"
   ]
  },
  {
   "cell_type": "code",
   "execution_count": 45,
   "id": "dd35ab25",
   "metadata": {},
   "outputs": [
    {
     "name": "stdout",
     "output_type": "stream",
     "text": [
      "oyun karakteriniz yaşamıyor\n"
     ]
    }
   ],
   "source": [
    "if(karaktercanli):\n",
    "    print(\"oyun karakterin hayatta\")\n",
    "else:\n",
    "    print(\"oyun karakteriniz yaşamıyor\")"
   ]
  },
  {
   "cell_type": "code",
   "execution_count": 46,
   "id": "fe56e581",
   "metadata": {},
   "outputs": [
    {
     "name": "stdout",
     "output_type": "stream",
     "text": [
      "karakter canlı değil\n"
     ]
    }
   ],
   "source": [
    "if not karaktercanli:\n",
    "    print(\"karakter canlı değil\")"
   ]
  },
  {
   "cell_type": "code",
   "execution_count": 50,
   "id": "805b5532",
   "metadata": {},
   "outputs": [],
   "source": [
    "benimString=\"Hasan Özcan\""
   ]
  },
  {
   "cell_type": "code",
   "execution_count": 51,
   "id": "8e15b0e3",
   "metadata": {},
   "outputs": [
    {
     "name": "stdout",
     "output_type": "stream",
     "text": [
      "eşit değilmiş\n"
     ]
    }
   ],
   "source": [
    "if benimString==\"hasan özcan\":\n",
    "    print(\"eşitmiş\")\n",
    "else:\n",
    "    print(\"eşit değilmiş\")"
   ]
  },
  {
   "cell_type": "code",
   "execution_count": 52,
   "id": "d073b9a3",
   "metadata": {},
   "outputs": [
    {
     "name": "stdout",
     "output_type": "stream",
     "text": [
      "bu içinde mevcuttur\n"
     ]
    }
   ],
   "source": [
    "if \"Ha\" in benimString:\n",
    "    print(\"bu içinde mevcuttur\")\n",
    "else:\n",
    "    print(\"içinde yoktur\")"
   ]
  },
  {
   "cell_type": "code",
   "execution_count": 53,
   "id": "b2de0940",
   "metadata": {},
   "outputs": [],
   "source": [
    "benimlistem=[10,20,30,40,50]"
   ]
  },
  {
   "cell_type": "code",
   "execution_count": 55,
   "id": "5d790410",
   "metadata": {},
   "outputs": [],
   "source": [
    "if 60 in benimlistem:\n",
    "    print(\"evet var\")"
   ]
  },
  {
   "cell_type": "code",
   "execution_count": 61,
   "id": "d1dccf06",
   "metadata": {},
   "outputs": [],
   "source": [
    "benimsozluk={\"muz\":100,\"elma\":150,\"karpuz\":500}"
   ]
  },
  {
   "cell_type": "code",
   "execution_count": 62,
   "id": "b4dcc8c1",
   "metadata": {},
   "outputs": [
    {
     "data": {
      "text/plain": [
       "dict_keys(['muz', 'elma', 'karpuz'])"
      ]
     },
     "execution_count": 62,
     "metadata": {},
     "output_type": "execute_result"
    }
   ],
   "source": [
    "benimsozluk.keys()"
   ]
  },
  {
   "cell_type": "code",
   "execution_count": 63,
   "id": "2ceb0aff",
   "metadata": {},
   "outputs": [
    {
     "name": "stdout",
     "output_type": "stream",
     "text": [
      "varmış\n"
     ]
    }
   ],
   "source": [
    "if \"muz\" in benimsozluk.keys():\n",
    "    print(\"varmış\")"
   ]
  },
  {
   "cell_type": "code",
   "execution_count": 64,
   "id": "18c98548",
   "metadata": {},
   "outputs": [
    {
     "name": "stdout",
     "output_type": "stream",
     "text": [
      "varmış\n"
     ]
    }
   ],
   "source": [
    "if 500 in benimsozluk.values():\n",
    "    print(\"varmış\")"
   ]
  },
  {
   "cell_type": "code",
   "execution_count": null,
   "id": "acb1685e",
   "metadata": {},
   "outputs": [],
   "source": []
  }
 ],
 "metadata": {
  "kernelspec": {
   "display_name": "Python 3 (ipykernel)",
   "language": "python",
   "name": "python3"
  },
  "language_info": {
   "codemirror_mode": {
    "name": "ipython",
    "version": 3
   },
   "file_extension": ".py",
   "mimetype": "text/x-python",
   "name": "python",
   "nbconvert_exporter": "python",
   "pygments_lexer": "ipython3",
   "version": "3.9.13"
  }
 },
 "nbformat": 4,
 "nbformat_minor": 5
}
