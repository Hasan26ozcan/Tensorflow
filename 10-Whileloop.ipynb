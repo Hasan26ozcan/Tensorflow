{
 "cells": [
  {
   "cell_type": "code",
   "execution_count": 5,
   "id": "dfff54af",
   "metadata": {},
   "outputs": [
    {
     "name": "stdout",
     "output_type": "stream",
     "text": [
      "0\n",
      "merhaba\n",
      "1\n",
      "merhaba\n",
      "2\n",
      "merhaba\n",
      "3\n",
      "merhaba\n",
      "4\n",
      "merhaba\n",
      "5\n",
      "merhaba\n",
      "6\n",
      "merhaba\n",
      "7\n",
      "merhaba\n",
      "8\n",
      "merhaba\n",
      "9\n",
      "merhaba\n"
     ]
    }
   ],
   "source": [
    "x=0\n",
    "while x<10:\n",
    "    print(x)\n",
    "    print(\"merhaba\")\n",
    "    x+=1"
   ]
  },
  {
   "cell_type": "code",
   "execution_count": 15,
   "id": "8f549c5a",
   "metadata": {},
   "outputs": [],
   "source": [
    "benimlistem=[1,2,3,4,5,6,7]"
   ]
  },
  {
   "cell_type": "code",
   "execution_count": 16,
   "id": "f2b28782",
   "metadata": {},
   "outputs": [
    {
     "data": {
      "text/plain": [
       "7"
      ]
     },
     "execution_count": 16,
     "metadata": {},
     "output_type": "execute_result"
    }
   ],
   "source": [
    "benimlistem.pop()"
   ]
  },
  {
   "cell_type": "code",
   "execution_count": 17,
   "id": "2361f480",
   "metadata": {},
   "outputs": [
    {
     "data": {
      "text/plain": [
       "[1, 2, 3, 4, 5, 6]"
      ]
     },
     "execution_count": 17,
     "metadata": {},
     "output_type": "execute_result"
    }
   ],
   "source": [
    "benimlistem"
   ]
  },
  {
   "cell_type": "code",
   "execution_count": 18,
   "id": "9317c694",
   "metadata": {},
   "outputs": [],
   "source": [
    "benimlistem.append(7)"
   ]
  },
  {
   "cell_type": "code",
   "execution_count": 19,
   "id": "fc5f4540",
   "metadata": {},
   "outputs": [
    {
     "data": {
      "text/plain": [
       "[1, 2, 3, 4, 5, 6, 7]"
      ]
     },
     "execution_count": 19,
     "metadata": {},
     "output_type": "execute_result"
    }
   ],
   "source": [
    "benimlistem"
   ]
  },
  {
   "cell_type": "code",
   "execution_count": 20,
   "id": "9a4e0500",
   "metadata": {},
   "outputs": [
    {
     "name": "stdout",
     "output_type": "stream",
     "text": [
      "3 hala bu listede bulunmaktadır\n",
      "3 hala bu listede bulunmaktadır\n",
      "3 hala bu listede bulunmaktadır\n",
      "3 hala bu listede bulunmaktadır\n",
      "3 hala bu listede bulunmaktadır\n"
     ]
    }
   ],
   "source": [
    "while 3 in benimlistem:\n",
    "    benimlistem.pop()\n",
    "    print(\"3 hala bu listede bulunmaktadır\")"
   ]
  },
  {
   "cell_type": "code",
   "execution_count": 21,
   "id": "18bf818d",
   "metadata": {},
   "outputs": [
    {
     "data": {
      "text/plain": [
       "[1, 2]"
      ]
     },
     "execution_count": 21,
     "metadata": {},
     "output_type": "execute_result"
    }
   ],
   "source": [
    "benimlistem"
   ]
  },
  {
   "cell_type": "code",
   "execution_count": 28,
   "id": "5f228a34",
   "metadata": {},
   "outputs": [
    {
     "name": "stdout",
     "output_type": "stream",
     "text": [
      "0\n",
      "1\n",
      "2\n",
      "3\n"
     ]
    }
   ],
   "source": [
    "numara=0\n",
    "while(numara < 5):\n",
    "    if( numara ==4):\n",
    "        break\n",
    "    print(numara)\n",
    "    numara +=1"
   ]
  },
  {
   "cell_type": "code",
   "execution_count": 32,
   "id": "6f51a470",
   "metadata": {},
   "outputs": [
    {
     "name": "stdout",
     "output_type": "stream",
     "text": [
      "yenidegiskenin güncel degeri 0\n",
      "yenidegiskenin güncel degeri 5\n",
      "yenidegiskenin güncel degeri 10\n",
      "yenidegiskenin güncel degeri 15\n",
      "yenidegiskenin güncel degeri 20\n",
      "yenidegiskenin güncel degeri 25\n",
      "yenidegiskenin güncel degeri 30\n",
      "yenidegiskenin güncel degeri 35\n",
      "yenidegiskenin güncel degeri 40\n",
      "yenidegiskenin güncel degeri 45\n",
      "yenidegiskenin güncel degeri 50\n",
      "yenidegiskenin güncel degeri 55\n",
      "yenidegiskenin güncel degeri 60\n",
      "yenidegiskenin güncel degeri 65\n",
      "yenidegiskenin güncel degeri 70\n"
     ]
    }
   ],
   "source": [
    "yenidegisken=0\n",
    "while(yenidegisken<15):\n",
    "    #print(\"yenidegiskenin güncel degeri \", yenidegisken)\n",
    "    #print(\"yenidegiskenin güncel degeri \" + str(yenidegisken))\n",
    "    print(f\"yenidegiskenin güncel degeri {yenidegisken*5}\")\n",
    "    yenidegisken+=1"
   ]
  },
  {
   "cell_type": "code",
   "execution_count": null,
   "id": "562a381d",
   "metadata": {},
   "outputs": [],
   "source": []
  }
 ],
 "metadata": {
  "kernelspec": {
   "display_name": "Python 3 (ipykernel)",
   "language": "python",
   "name": "python3"
  },
  "language_info": {
   "codemirror_mode": {
    "name": "ipython",
    "version": 3
   },
   "file_extension": ".py",
   "mimetype": "text/x-python",
   "name": "python",
   "nbconvert_exporter": "python",
   "pygments_lexer": "ipython3",
   "version": "3.9.13"
  }
 },
 "nbformat": 4,
 "nbformat_minor": 5
}
