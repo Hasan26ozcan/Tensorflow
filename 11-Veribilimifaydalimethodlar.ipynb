{
 "cells": [
  {
   "cell_type": "code",
   "execution_count": 1,
   "id": "74db3425",
   "metadata": {},
   "outputs": [],
   "source": [
    "benimlistem=[0,1,2,3,4,5,6]"
   ]
  },
  {
   "cell_type": "code",
   "execution_count": 2,
   "id": "c0e3ab7f",
   "metadata": {},
   "outputs": [
    {
     "name": "stdout",
     "output_type": "stream",
     "text": [
      "0\n",
      "1\n",
      "2\n",
      "3\n",
      "4\n",
      "5\n",
      "6\n"
     ]
    }
   ],
   "source": [
    "for numara in benimlistem:\n",
    "    print(numara)"
   ]
  },
  {
   "cell_type": "markdown",
   "id": "9d4e047a",
   "metadata": {},
   "source": [
    "# Range"
   ]
  },
  {
   "cell_type": "code",
   "execution_count": 3,
   "id": "7f39093f",
   "metadata": {},
   "outputs": [
    {
     "data": {
      "text/plain": [
       "range(0, 15)"
      ]
     },
     "execution_count": 3,
     "metadata": {},
     "output_type": "execute_result"
    }
   ],
   "source": [
    "range(0,15)"
   ]
  },
  {
   "cell_type": "code",
   "execution_count": 10,
   "id": "c95545e9",
   "metadata": {},
   "outputs": [
    {
     "data": {
      "text/plain": [
       "[0, 1, 2, 3, 4, 5, 6, 7, 8, 9, 10, 11, 12, 13, 14, 15, 16, 17, 18, 19, 20, 21]"
      ]
     },
     "execution_count": 10,
     "metadata": {},
     "output_type": "execute_result"
    }
   ],
   "source": [
    "list(range(0,22))"
   ]
  },
  {
   "cell_type": "code",
   "execution_count": 11,
   "id": "c0c4c15e",
   "metadata": {},
   "outputs": [
    {
     "name": "stdout",
     "output_type": "stream",
     "text": [
      "0\n",
      "5\n",
      "10\n",
      "15\n",
      "20\n",
      "25\n",
      "30\n",
      "35\n",
      "40\n",
      "45\n",
      "50\n",
      "55\n",
      "60\n",
      "65\n",
      "70\n"
     ]
    }
   ],
   "source": [
    "for numara in range(15):\n",
    "    print(numara*5)"
   ]
  },
  {
   "cell_type": "code",
   "execution_count": 12,
   "id": "7beaf80f",
   "metadata": {},
   "outputs": [
    {
     "data": {
      "text/plain": [
       "[0, 6, 12, 18, 24, 30, 36, 42, 48, 54, 60, 66, 72, 78, 84, 90, 96]"
      ]
     },
     "execution_count": 12,
     "metadata": {},
     "output_type": "execute_result"
    }
   ],
   "source": [
    "list(range(0,100,6))"
   ]
  },
  {
   "cell_type": "markdown",
   "id": "3be63045",
   "metadata": {},
   "source": [
    "# Enumarate"
   ]
  },
  {
   "cell_type": "code",
   "execution_count": 14,
   "id": "58062129",
   "metadata": {},
   "outputs": [
    {
     "name": "stdout",
     "output_type": "stream",
     "text": [
      "güncel numara 5 güncel indeks  0 \n",
      "güncel numara 6 güncel indeks  1 \n",
      "güncel numara 7 güncel indeks  2 \n",
      "güncel numara 8 güncel indeks  3 \n",
      "güncel numara 9 güncel indeks  4 \n",
      "güncel numara 10 güncel indeks  5 \n",
      "güncel numara 11 güncel indeks  6 \n",
      "güncel numara 12 güncel indeks  7 \n",
      "güncel numara 13 güncel indeks  8 \n",
      "güncel numara 14 güncel indeks  9 \n"
     ]
    }
   ],
   "source": [
    "index=0\n",
    "for numara in list(range(5,15)):\n",
    "    print(f\"güncel numara {numara} güncel indeks  {index} \")\n",
    "    index+=1"
   ]
  },
  {
   "cell_type": "code",
   "execution_count": 15,
   "id": "674c7cd9",
   "metadata": {},
   "outputs": [
    {
     "name": "stdout",
     "output_type": "stream",
     "text": [
      "(0, 5)\n",
      "(1, 6)\n",
      "(2, 7)\n",
      "(3, 8)\n",
      "(4, 9)\n",
      "(5, 10)\n",
      "(6, 11)\n",
      "(7, 12)\n",
      "(8, 13)\n",
      "(9, 14)\n"
     ]
    }
   ],
   "source": [
    "for eleman in enumerate(list(range(5,15))):\n",
    "    print(eleman)"
   ]
  },
  {
   "cell_type": "code",
   "execution_count": 16,
   "id": "fe834049",
   "metadata": {},
   "outputs": [
    {
     "name": "stdout",
     "output_type": "stream",
     "text": [
      "0 5\n",
      "1 6\n",
      "2 7\n",
      "3 8\n",
      "4 9\n",
      "5 10\n",
      "6 11\n",
      "7 12\n",
      "8 13\n",
      "9 14\n"
     ]
    }
   ],
   "source": [
    "for index,eleman in enumerate(list(range(5,15))):\n",
    "    print(index,eleman)"
   ]
  },
  {
   "cell_type": "markdown",
   "id": "665196aa",
   "metadata": {},
   "source": [
    "## Random"
   ]
  },
  {
   "cell_type": "code",
   "execution_count": 62,
   "id": "4944d65c",
   "metadata": {},
   "outputs": [],
   "source": [
    "from random import randint\n",
    "import random"
   ]
  },
  {
   "cell_type": "code",
   "execution_count": 63,
   "id": "c20741eb",
   "metadata": {},
   "outputs": [
    {
     "data": {
      "text/plain": [
       "39"
      ]
     },
     "execution_count": 63,
     "metadata": {},
     "output_type": "execute_result"
    }
   ],
   "source": [
    "randint(0,100)"
   ]
  },
  {
   "cell_type": "code",
   "execution_count": 74,
   "id": "92d30744",
   "metadata": {},
   "outputs": [
    {
     "data": {
      "text/plain": [
       "[17, 80, 40, 15, 73, 29, 39, 82, 61, 22]"
      ]
     },
     "execution_count": 74,
     "metadata": {},
     "output_type": "execute_result"
    }
   ],
   "source": [
    "yeniliste=(list(randint(1,100) for i in range(0,10)))\n",
    "yeniliste"
   ]
  },
  {
   "cell_type": "code",
   "execution_count": 75,
   "id": "8843da5e",
   "metadata": {},
   "outputs": [
    {
     "data": {
      "text/plain": [
       "[82, 22, 29, 73, 40, 15, 39, 17, 80, 61]"
      ]
     },
     "execution_count": 75,
     "metadata": {},
     "output_type": "execute_result"
    }
   ],
   "source": [
    "random.shuffle(yeniliste)\n",
    "yeniliste"
   ]
  },
  {
   "cell_type": "code",
   "execution_count": 76,
   "id": "eaf472cb",
   "metadata": {},
   "outputs": [
    {
     "data": {
      "text/plain": [
       "40"
      ]
     },
     "execution_count": 76,
     "metadata": {},
     "output_type": "execute_result"
    }
   ],
   "source": [
    "yeniliste[4]"
   ]
  },
  {
   "cell_type": "code",
   "execution_count": 77,
   "id": "f13383fc",
   "metadata": {},
   "outputs": [
    {
     "data": {
      "text/plain": [
       "73"
      ]
     },
     "execution_count": 77,
     "metadata": {},
     "output_type": "execute_result"
    }
   ],
   "source": [
    "yeniliste[randint(0,9)]"
   ]
  },
  {
   "cell_type": "markdown",
   "id": "12e07d11",
   "metadata": {},
   "source": [
    "## Zip "
   ]
  },
  {
   "cell_type": "code",
   "execution_count": 99,
   "id": "fac720a9",
   "metadata": {},
   "outputs": [],
   "source": [
    "yemeklistesi=[\"elma\",\"armut\",\"karpuz\"]\n",
    "yemekkalorisi=[100,200,300]\n",
    "günlistesi=[\"pazartesi\",\"salı\",\"çarşamba\"]"
   ]
  },
  {
   "cell_type": "code",
   "execution_count": 100,
   "id": "e7456f1b",
   "metadata": {},
   "outputs": [],
   "source": [
    "ziplenmisliste=list(zip(günlistesi,yemeklistesi,yemekkalorisi))"
   ]
  },
  {
   "cell_type": "code",
   "execution_count": 101,
   "id": "8dca0637",
   "metadata": {},
   "outputs": [
    {
     "data": {
      "text/plain": [
       "list"
      ]
     },
     "execution_count": 101,
     "metadata": {},
     "output_type": "execute_result"
    }
   ],
   "source": [
    "type(ziplenmisliste)"
   ]
  },
  {
   "cell_type": "code",
   "execution_count": 102,
   "id": "e97165a9",
   "metadata": {},
   "outputs": [
    {
     "name": "stdout",
     "output_type": "stream",
     "text": [
      "pazartesi elma 100\n",
      "salı armut 200\n",
      "çarşamba karpuz 300\n"
     ]
    }
   ],
   "source": [
    "for gün,yemek,kalori in ziplenmisliste :\n",
    "    print(gün, yemek, kalori)"
   ]
  },
  {
   "cell_type": "code",
   "execution_count": 103,
   "id": "a45f3912",
   "metadata": {},
   "outputs": [
    {
     "data": {
      "text/plain": [
       "[('pazartesi', 'elma', 100),\n",
       " ('salı', 'armut', 200),\n",
       " ('çarşamba', 'karpuz', 300)]"
      ]
     },
     "execution_count": 103,
     "metadata": {},
     "output_type": "execute_result"
    }
   ],
   "source": [
    "ziplenmisliste"
   ]
  },
  {
   "cell_type": "markdown",
   "id": "8b7e2d58",
   "metadata": {},
   "source": [
    "# # Lists advanced Listeler ileri seviye"
   ]
  },
  {
   "cell_type": "code",
   "execution_count": 104,
   "id": "c5ef8dc7",
   "metadata": {},
   "outputs": [],
   "source": [
    "listeornegi=[]\n",
    "benimString=\"Hasan Özcan\"\n",
    "for harf in benimstring:\n",
    "    listeornegi.append(harf)"
   ]
  },
  {
   "cell_type": "code",
   "execution_count": 105,
   "id": "39d8d22e",
   "metadata": {},
   "outputs": [
    {
     "data": {
      "text/plain": [
       "['H', 'a', 's', 'a', 'n', ' ', 'Ö', 'z', 'c', 'a', 'n']"
      ]
     },
     "execution_count": 105,
     "metadata": {},
     "output_type": "execute_result"
    }
   ],
   "source": [
    "listeornegi"
   ]
  },
  {
   "cell_type": "code",
   "execution_count": 107,
   "id": "460d12e9",
   "metadata": {},
   "outputs": [
    {
     "data": {
      "text/plain": [
       "['H', 'a', 's', 'a', 'n', ' ', 'Ö', 'z', 'c', 'a', 'n']"
      ]
     },
     "execution_count": 107,
     "metadata": {},
     "output_type": "execute_result"
    }
   ],
   "source": [
    "yeniString=\"Hasan Özcan\"\n",
    "yeniListeörneği=[eleman  for eleman in yeniString]\n",
    "yeniListeörneği"
   ]
  },
  {
   "cell_type": "code",
   "execution_count": 109,
   "id": "f3456f1a",
   "metadata": {},
   "outputs": [
    {
     "data": {
      "text/plain": [
       "[0, 1, 32, 243, 1024, 3125, 7776, 16807, 32768, 59049]"
      ]
     },
     "execution_count": 109,
     "metadata": {},
     "output_type": "execute_result"
    }
   ],
   "source": [
    "ikincilisteornegi=[(eleman**5) for eleman in range(0,10)]\n",
    "ikincilisteornegi"
   ]
  },
  {
   "cell_type": "code",
   "execution_count": null,
   "id": "f59750e7",
   "metadata": {},
   "outputs": [],
   "source": []
  }
 ],
 "metadata": {
  "kernelspec": {
   "display_name": "Python 3 (ipykernel)",
   "language": "python",
   "name": "python3"
  },
  "language_info": {
   "codemirror_mode": {
    "name": "ipython",
    "version": 3
   },
   "file_extension": ".py",
   "mimetype": "text/x-python",
   "name": "python",
   "nbconvert_exporter": "python",
   "pygments_lexer": "ipython3",
   "version": "3.9.13"
  }
 },
 "nbformat": 4,
 "nbformat_minor": 5
}
