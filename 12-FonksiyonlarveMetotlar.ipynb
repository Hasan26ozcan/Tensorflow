{
 "cells": [
  {
   "cell_type": "code",
   "execution_count": 1,
   "id": "3e4700f7",
   "metadata": {},
   "outputs": [],
   "source": [
    "benimadım=\"Hasan Özcan\""
   ]
  },
  {
   "cell_type": "code",
   "execution_count": 2,
   "id": "caa04992",
   "metadata": {},
   "outputs": [
    {
     "data": {
      "text/plain": [
       "'HASAN ÖZCAN'"
      ]
     },
     "execution_count": 2,
     "metadata": {},
     "output_type": "execute_result"
    }
   ],
   "source": [
    "benimadım.upper()"
   ]
  },
  {
   "cell_type": "code",
   "execution_count": 3,
   "id": "865092f0",
   "metadata": {},
   "outputs": [],
   "source": [
    "benimadımbuyukharfli=benimadım.upper()"
   ]
  },
  {
   "cell_type": "code",
   "execution_count": 4,
   "id": "04b034c5",
   "metadata": {},
   "outputs": [
    {
     "data": {
      "text/plain": [
       "'HASAN ÖZCAN'"
      ]
     },
     "execution_count": 4,
     "metadata": {},
     "output_type": "execute_result"
    }
   ],
   "source": [
    "benimadımbuyukharfli"
   ]
  },
  {
   "cell_type": "code",
   "execution_count": 5,
   "id": "65371a30",
   "metadata": {},
   "outputs": [
    {
     "data": {
      "text/plain": [
       "'Hasan Özcan'"
      ]
     },
     "execution_count": 5,
     "metadata": {},
     "output_type": "execute_result"
    }
   ],
   "source": [
    "benimadım"
   ]
  },
  {
   "cell_type": "code",
   "execution_count": 9,
   "id": "2a719b0f",
   "metadata": {},
   "outputs": [
    {
     "name": "stdout",
     "output_type": "stream",
     "text": [
      "Help on built-in function upper:\n",
      "\n",
      "upper() method of builtins.str instance\n",
      "    Return a copy of the string converted to uppercase.\n",
      "\n"
     ]
    }
   ],
   "source": [
    "help(benimadım.upper)"
   ]
  },
  {
   "cell_type": "code",
   "execution_count": 10,
   "id": "74a1159c",
   "metadata": {},
   "outputs": [],
   "source": [
    "def fonksiyon1():\n",
    "    print(\"ilk fonksiyonum\")"
   ]
  },
  {
   "cell_type": "code",
   "execution_count": 11,
   "id": "a9e13769",
   "metadata": {},
   "outputs": [
    {
     "name": "stdout",
     "output_type": "stream",
     "text": [
      "ilk fonksiyonum\n"
     ]
    }
   ],
   "source": [
    "fonksiyon1()"
   ]
  },
  {
   "cell_type": "markdown",
   "id": "04cf2c41",
   "metadata": {},
   "source": [
    "## Input & Return"
   ]
  },
  {
   "cell_type": "code",
   "execution_count": 13,
   "id": "ddc64da6",
   "metadata": {},
   "outputs": [],
   "source": [
    "def merhabadunya(yazdırılacakısım):\n",
    "    print(\"merhaba dunya\")\n",
    "    print(yazdırılacakısım)"
   ]
  },
  {
   "cell_type": "code",
   "execution_count": 14,
   "id": "c0370154",
   "metadata": {},
   "outputs": [
    {
     "name": "stdout",
     "output_type": "stream",
     "text": [
      "merhaba dunya\n",
      "ahmet\n"
     ]
    }
   ],
   "source": [
    "merhabadunya(\"ahmet\")"
   ]
  },
  {
   "cell_type": "code",
   "execution_count": 15,
   "id": "4300d3cf",
   "metadata": {},
   "outputs": [
    {
     "name": "stdout",
     "output_type": "stream",
     "text": [
      "merhaba dunya\n",
      "python\n"
     ]
    }
   ],
   "source": [
    "merhabadunya(\"python\")"
   ]
  },
  {
   "cell_type": "code",
   "execution_count": 19,
   "id": "b9790b09",
   "metadata": {},
   "outputs": [],
   "source": [
    "def merhaba(isim=\"hasan\"):\n",
    "    print(\"merhaba\")\n",
    "    print(isim)"
   ]
  },
  {
   "cell_type": "code",
   "execution_count": 20,
   "id": "29c7fafb",
   "metadata": {},
   "outputs": [
    {
     "name": "stdout",
     "output_type": "stream",
     "text": [
      "merhaba\n",
      "hasan\n"
     ]
    }
   ],
   "source": [
    "merhaba()"
   ]
  },
  {
   "cell_type": "code",
   "execution_count": 21,
   "id": "c90eac6a",
   "metadata": {},
   "outputs": [
    {
     "name": "stdout",
     "output_type": "stream",
     "text": [
      "merhaba\n",
      "ahmet\n"
     ]
    }
   ],
   "source": [
    "merhaba(\"ahmet\")"
   ]
  },
  {
   "cell_type": "code",
   "execution_count": 22,
   "id": "29daedb8",
   "metadata": {},
   "outputs": [],
   "source": [
    "def toplama(numara1,numara2):\n",
    "    sonuc=numara1+numara2\n",
    "    print(sonuc)"
   ]
  },
  {
   "cell_type": "code",
   "execution_count": 25,
   "id": "09b584e8",
   "metadata": {},
   "outputs": [
    {
     "name": "stdout",
     "output_type": "stream",
     "text": [
      "9\n"
     ]
    }
   ],
   "source": [
    "toplama(4,5)"
   ]
  },
  {
   "cell_type": "code",
   "execution_count": 26,
   "id": "2ab2eaa1",
   "metadata": {},
   "outputs": [],
   "source": [
    "def supertoplama(num1,num2,num3):\n",
    "    print(num1+num2+num3)"
   ]
  },
  {
   "cell_type": "code",
   "execution_count": 27,
   "id": "86a32dec",
   "metadata": {},
   "outputs": [
    {
     "name": "stdout",
     "output_type": "stream",
     "text": [
      "60\n"
     ]
    }
   ],
   "source": [
    "supertoplama(10,20,30)"
   ]
  },
  {
   "cell_type": "code",
   "execution_count": 29,
   "id": "8c663c4d",
   "metadata": {},
   "outputs": [
    {
     "name": "stdout",
     "output_type": "stream",
     "text": [
      "30\n"
     ]
    }
   ],
   "source": [
    "yeniDegisken=toplama(10,20)"
   ]
  },
  {
   "cell_type": "code",
   "execution_count": 31,
   "id": "6a790c5d",
   "metadata": {},
   "outputs": [
    {
     "data": {
      "text/plain": [
       "NoneType"
      ]
     },
     "execution_count": 31,
     "metadata": {},
     "output_type": "execute_result"
    }
   ],
   "source": [
    "type(yeniDegisken)"
   ]
  },
  {
   "cell_type": "code",
   "execution_count": 32,
   "id": "db4eee96",
   "metadata": {},
   "outputs": [
    {
     "name": "stdout",
     "output_type": "stream",
     "text": [
      "None\n"
     ]
    }
   ],
   "source": [
    "print(yediDegisken)"
   ]
  },
  {
   "cell_type": "code",
   "execution_count": 36,
   "id": "ef7b70cf",
   "metadata": {},
   "outputs": [],
   "source": [
    "def dondurmelitopla(numara1,numara2):\n",
    "    return numara1+numara2"
   ]
  },
  {
   "cell_type": "code",
   "execution_count": 37,
   "id": "9a0f56ae",
   "metadata": {},
   "outputs": [],
   "source": [
    "yenisonuc=dondurmelitopla(3,4)"
   ]
  },
  {
   "cell_type": "code",
   "execution_count": 38,
   "id": "47256e34",
   "metadata": {},
   "outputs": [
    {
     "data": {
      "text/plain": [
       "7"
      ]
     },
     "execution_count": 38,
     "metadata": {},
     "output_type": "execute_result"
    }
   ],
   "source": [
    "yenisonuc"
   ]
  },
  {
   "cell_type": "code",
   "execution_count": 39,
   "id": "6cba0b51",
   "metadata": {},
   "outputs": [
    {
     "data": {
      "text/plain": [
       "int"
      ]
     },
     "execution_count": 39,
     "metadata": {},
     "output_type": "execute_result"
    }
   ],
   "source": [
    "type(yenisonuc)"
   ]
  },
  {
   "cell_type": "code",
   "execution_count": 40,
   "id": "f3f0ce03",
   "metadata": {},
   "outputs": [],
   "source": [
    "def kontrolfonksiyonu(verdiğinizstringhasan):\n",
    "    if(verdiğinizstringhasan==\"Hasan\"):\n",
    "        print(\"verdiğiniz string Hasan\")\n",
    "    else:\n",
    "        print(\"verdiğiniz string başka birşey\")"
   ]
  },
  {
   "cell_type": "code",
   "execution_count": 41,
   "id": "b43e9bf0",
   "metadata": {},
   "outputs": [
    {
     "name": "stdout",
     "output_type": "stream",
     "text": [
      "verdiğiniz string Hasan\n"
     ]
    }
   ],
   "source": [
    "kontrolfonksiyonu(verdiğinizstringhasan=\"Hasan\")"
   ]
  },
  {
   "cell_type": "code",
   "execution_count": 42,
   "id": "69642d12",
   "metadata": {},
   "outputs": [
    {
     "name": "stdout",
     "output_type": "stream",
     "text": [
      "verdiğiniz string başka birşey\n"
     ]
    }
   ],
   "source": [
    "kontrolfonksiyonu(\"python\")"
   ]
  },
  {
   "cell_type": "markdown",
   "id": "4a210b1a",
   "metadata": {},
   "source": [
    "## args &&kwargs"
   ]
  },
  {
   "cell_type": "code",
   "execution_count": 48,
   "id": "71ee6131",
   "metadata": {},
   "outputs": [],
   "source": [
    "def yenitoplama(*args):\n",
    "    return(sum(args))"
   ]
  },
  {
   "cell_type": "code",
   "execution_count": 51,
   "id": "c73d1377",
   "metadata": {},
   "outputs": [],
   "source": [
    "a=yenitoplama(10,20,30,40,50,60)"
   ]
  },
  {
   "cell_type": "code",
   "execution_count": 52,
   "id": "cc1d5211",
   "metadata": {},
   "outputs": [
    {
     "data": {
      "text/plain": [
       "210"
      ]
     },
     "execution_count": 52,
     "metadata": {},
     "output_type": "execute_result"
    }
   ],
   "source": [
    "a"
   ]
  },
  {
   "cell_type": "code",
   "execution_count": 53,
   "id": "1fe8ceea",
   "metadata": {},
   "outputs": [
    {
     "data": {
      "text/plain": [
       "30"
      ]
     },
     "execution_count": 53,
     "metadata": {},
     "output_type": "execute_result"
    }
   ],
   "source": [
    "yenitoplama(10,20)"
   ]
  },
  {
   "cell_type": "code",
   "execution_count": 57,
   "id": "63824d9e",
   "metadata": {},
   "outputs": [],
   "source": [
    "def benimfonksiyonum(*args):\n",
    "    return(args)"
   ]
  },
  {
   "cell_type": "code",
   "execution_count": 58,
   "id": "7e78030a",
   "metadata": {},
   "outputs": [
    {
     "data": {
      "text/plain": [
       "tuple"
      ]
     },
     "execution_count": 58,
     "metadata": {},
     "output_type": "execute_result"
    }
   ],
   "source": [
    "type(benimfonksiyonum(20,30,40))"
   ]
  },
  {
   "cell_type": "code",
   "execution_count": 63,
   "id": "5a4452d5",
   "metadata": {},
   "outputs": [],
   "source": [
    "def ornekfonksiyon(**kwargs):\n",
    "    return(kwargs)"
   ]
  },
  {
   "cell_type": "code",
   "execution_count": 64,
   "id": "49f6790d",
   "metadata": {},
   "outputs": [
    {
     "data": {
      "text/plain": [
       "dict"
      ]
     },
     "execution_count": 64,
     "metadata": {},
     "output_type": "execute_result"
    }
   ],
   "source": [
    "type(ornekfonksiyon(muz=100,elma=200,karpuz=300))"
   ]
  },
  {
   "cell_type": "code",
   "execution_count": 85,
   "id": "4bdf1bb7",
   "metadata": {},
   "outputs": [],
   "source": [
    "def keyWordKontrolu(**kwargs):\n",
    "    if(\"Hasan\" in kwargs):\n",
    "        print(\"Hasan var\")\n",
    "    else:\n",
    "        print(\"Hasan yok\")"
   ]
  },
  {
   "cell_type": "code",
   "execution_count": 86,
   "id": "35faec3b",
   "metadata": {},
   "outputs": [
    {
     "name": "stdout",
     "output_type": "stream",
     "text": [
      "Hasan yok\n"
     ]
    }
   ],
   "source": [
    "keyWordKontrolu(Ahmet=100,Mehmet=20,Faruk=90)"
   ]
  },
  {
   "cell_type": "code",
   "execution_count": 101,
   "id": "bf3aca0f",
   "metadata": {},
   "outputs": [
    {
     "name": "stdout",
     "output_type": "stream",
     "text": [
      "Hasan var\n"
     ]
    }
   ],
   "source": [
    "keyWordKontrolu(Hasan=True,H=False,Hakan=False)"
   ]
  },
  {
   "cell_type": "code",
   "execution_count": null,
   "id": "b4b1d33f",
   "metadata": {},
   "outputs": [],
   "source": []
  }
 ],
 "metadata": {
  "kernelspec": {
   "display_name": "Python 3 (ipykernel)",
   "language": "python",
   "name": "python3"
  },
  "language_info": {
   "codemirror_mode": {
    "name": "ipython",
    "version": 3
   },
   "file_extension": ".py",
   "mimetype": "text/x-python",
   "name": "python",
   "nbconvert_exporter": "python",
   "pygments_lexer": "ipython3",
   "version": "3.9.13"
  }
 },
 "nbformat": 4,
 "nbformat_minor": 5
}
