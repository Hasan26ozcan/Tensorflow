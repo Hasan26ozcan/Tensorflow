{
 "cells": [
  {
   "cell_type": "code",
   "execution_count": 1,
   "id": "4cfde098",
   "metadata": {},
   "outputs": [],
   "source": [
    "def bolmeislemi(bolunensayi):\n",
    "    return bolunensayi/2"
   ]
  },
  {
   "cell_type": "code",
   "execution_count": 2,
   "id": "80f67484",
   "metadata": {},
   "outputs": [
    {
     "data": {
      "text/plain": [
       "1.0"
      ]
     },
     "execution_count": 2,
     "metadata": {},
     "output_type": "execute_result"
    }
   ],
   "source": [
    "bolmeislemi(2)"
   ]
  },
  {
   "cell_type": "code",
   "execution_count": 3,
   "id": "957f8483",
   "metadata": {},
   "outputs": [
    {
     "data": {
      "text/plain": [
       "10.0"
      ]
     },
     "execution_count": 3,
     "metadata": {},
     "output_type": "execute_result"
    }
   ],
   "source": [
    "bolmeislemi(20)"
   ]
  },
  {
   "cell_type": "code",
   "execution_count": 8,
   "id": "5f483637",
   "metadata": {},
   "outputs": [],
   "source": [
    "benimlistem=list(range(1,11))"
   ]
  },
  {
   "cell_type": "code",
   "execution_count": 12,
   "id": "21de5178",
   "metadata": {},
   "outputs": [],
   "source": [
    "yeniliste=[]\n",
    "for number in benimlistem:\n",
    "    yeniliste.append(bolmeislemi(number))"
   ]
  },
  {
   "cell_type": "code",
   "execution_count": 13,
   "id": "e83606cd",
   "metadata": {},
   "outputs": [
    {
     "data": {
      "text/plain": [
       "[0.5, 1.0, 1.5, 2.0, 2.5, 3.0, 3.5, 4.0, 4.5, 5.0]"
      ]
     },
     "execution_count": 13,
     "metadata": {},
     "output_type": "execute_result"
    }
   ],
   "source": [
    "yeniliste"
   ]
  },
  {
   "cell_type": "markdown",
   "id": "fe198ecb",
   "metadata": {},
   "source": [
    "## Map"
   ]
  },
  {
   "cell_type": "code",
   "execution_count": 14,
   "id": "ab376ec4",
   "metadata": {},
   "outputs": [
    {
     "data": {
      "text/plain": [
       "[0.5, 1.0, 1.5, 2.0, 2.5, 3.0, 3.5, 4.0, 4.5, 5.0]"
      ]
     },
     "execution_count": 14,
     "metadata": {},
     "output_type": "execute_result"
    }
   ],
   "source": [
    "list(map(bolmeislemi,benimlistem))"
   ]
  },
  {
   "cell_type": "code",
   "execution_count": 15,
   "id": "1f037c72",
   "metadata": {},
   "outputs": [],
   "source": [
    "def kontrolfonksiyonu(string):\n",
    "    return \"a\" in string"
   ]
  },
  {
   "cell_type": "code",
   "execution_count": 16,
   "id": "9f00b35c",
   "metadata": {},
   "outputs": [
    {
     "data": {
      "text/plain": [
       "True"
      ]
     },
     "execution_count": 16,
     "metadata": {},
     "output_type": "execute_result"
    }
   ],
   "source": [
    "\"a\" in \"atıl\""
   ]
  },
  {
   "cell_type": "code",
   "execution_count": 17,
   "id": "f49d637a",
   "metadata": {},
   "outputs": [
    {
     "data": {
      "text/plain": [
       "True"
      ]
     },
     "execution_count": 17,
     "metadata": {},
     "output_type": "execute_result"
    }
   ],
   "source": [
    "kontrolfonksiyonu(\"atıl\")"
   ]
  },
  {
   "cell_type": "code",
   "execution_count": 18,
   "id": "b857345a",
   "metadata": {},
   "outputs": [
    {
     "data": {
      "text/plain": [
       "False"
      ]
     },
     "execution_count": 18,
     "metadata": {},
     "output_type": "execute_result"
    }
   ],
   "source": [
    "kontrolfonksiyonu(\"zeynep\")"
   ]
  },
  {
   "cell_type": "code",
   "execution_count": 22,
   "id": "95a31293",
   "metadata": {},
   "outputs": [],
   "source": [
    "stringlistesi=[\"hasan\",\"atıl\",\"özcan\",\"akif\",\"zeynep\",\"mehmet\",\"ahmet\",\"emre\"]"
   ]
  },
  {
   "cell_type": "code",
   "execution_count": 24,
   "id": "a55766f1",
   "metadata": {},
   "outputs": [],
   "source": [
    "sonuclistesi=list(map(kontrolfonksiyonu,stringlistesi))"
   ]
  },
  {
   "cell_type": "code",
   "execution_count": 25,
   "id": "5501bf16",
   "metadata": {},
   "outputs": [
    {
     "data": {
      "text/plain": [
       "5"
      ]
     },
     "execution_count": 25,
     "metadata": {},
     "output_type": "execute_result"
    }
   ],
   "source": [
    "sonuclistesi.count(True)"
   ]
  },
  {
   "cell_type": "code",
   "execution_count": 26,
   "id": "08aa76bc",
   "metadata": {},
   "outputs": [
    {
     "data": {
      "text/plain": [
       "3"
      ]
     },
     "execution_count": 26,
     "metadata": {},
     "output_type": "execute_result"
    }
   ],
   "source": [
    "sonuclistesi.count(False)"
   ]
  },
  {
   "cell_type": "markdown",
   "id": "a2129c3e",
   "metadata": {},
   "source": [
    "## Filter"
   ]
  },
  {
   "cell_type": "code",
   "execution_count": 27,
   "id": "1fbacf5f",
   "metadata": {},
   "outputs": [
    {
     "data": {
      "text/plain": [
       "['hasan', 'atıl', 'özcan', 'akif', 'ahmet']"
      ]
     },
     "execution_count": 27,
     "metadata": {},
     "output_type": "execute_result"
    }
   ],
   "source": [
    "list(filter(kontrolfonksiyonu,stringlistesi))"
   ]
  },
  {
   "cell_type": "markdown",
   "id": "faf67467",
   "metadata": {},
   "source": [
    "## Lambda"
   ]
  },
  {
   "cell_type": "code",
   "execution_count": 28,
   "id": "e031367e",
   "metadata": {},
   "outputs": [],
   "source": [
    "carpma=lambda numara :numara*3"
   ]
  },
  {
   "cell_type": "code",
   "execution_count": 29,
   "id": "829c7d04",
   "metadata": {},
   "outputs": [
    {
     "data": {
      "text/plain": [
       "30"
      ]
     },
     "execution_count": 29,
     "metadata": {},
     "output_type": "execute_result"
    }
   ],
   "source": [
    "carpma(10)"
   ]
  },
  {
   "cell_type": "code",
   "execution_count": 33,
   "id": "477aad29",
   "metadata": {},
   "outputs": [],
   "source": [
    "orneklistesi=[10,20,30]"
   ]
  },
  {
   "cell_type": "code",
   "execution_count": 35,
   "id": "3bc6fae0",
   "metadata": {},
   "outputs": [
    {
     "data": {
      "text/plain": [
       "[40, 80, 120]"
      ]
     },
     "execution_count": 35,
     "metadata": {},
     "output_type": "execute_result"
    }
   ],
   "source": [
    "list(map(lambda numara: numara*4,orneklistesi))"
   ]
  },
  {
   "cell_type": "code",
   "execution_count": null,
   "id": "7a83c896",
   "metadata": {},
   "outputs": [],
   "source": [
    "ssss"
   ]
  }
 ],
 "metadata": {
  "kernelspec": {
   "display_name": "Python 3 (ipykernel)",
   "language": "python",
   "name": "python3"
  },
  "language_info": {
   "codemirror_mode": {
    "name": "ipython",
    "version": 3
   },
   "file_extension": ".py",
   "mimetype": "text/x-python",
   "name": "python",
   "nbconvert_exporter": "python",
   "pygments_lexer": "ipython3",
   "version": "3.9.13"
  }
 },
 "nbformat": 4,
 "nbformat_minor": 5
}
