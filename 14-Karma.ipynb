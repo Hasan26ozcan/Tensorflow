{
 "cells": [
  {
   "cell_type": "markdown",
   "id": "63bc2c9d",
   "metadata": {},
   "source": [
    "## scope"
   ]
  },
  {
   "cell_type": "code",
   "execution_count": 1,
   "id": "d9391a92",
   "metadata": {},
   "outputs": [],
   "source": [
    "numara=20\n",
    "\n",
    "def carpma(rakam):\n",
    "    numara=10\n",
    "    return numara*rakam"
   ]
  },
  {
   "cell_type": "code",
   "execution_count": 2,
   "id": "8df04750",
   "metadata": {},
   "outputs": [
    {
     "data": {
      "text/plain": [
       "50"
      ]
     },
     "execution_count": 2,
     "metadata": {},
     "output_type": "execute_result"
    }
   ],
   "source": [
    "carpma(5)"
   ]
  },
  {
   "cell_type": "code",
   "execution_count": 3,
   "id": "06d9ed3d",
   "metadata": {},
   "outputs": [
    {
     "name": "stdout",
     "output_type": "stream",
     "text": [
      "20\n"
     ]
    }
   ],
   "source": [
    "print(numara)"
   ]
  },
  {
   "cell_type": "code",
   "execution_count": 4,
   "id": "2f94ada5",
   "metadata": {},
   "outputs": [],
   "source": [
    "x=20\n",
    "x=10"
   ]
  },
  {
   "cell_type": "code",
   "execution_count": 5,
   "id": "2de3093e",
   "metadata": {},
   "outputs": [
    {
     "data": {
      "text/plain": [
       "10"
      ]
     },
     "execution_count": 5,
     "metadata": {},
     "output_type": "execute_result"
    }
   ],
   "source": [
    "x"
   ]
  },
  {
   "cell_type": "markdown",
   "id": "79012ecd",
   "metadata": {},
   "source": [
    "## Local,Enclosing,Global,Built-In"
   ]
  },
  {
   "cell_type": "code",
   "execution_count": 7,
   "id": "4ab71d39",
   "metadata": {},
   "outputs": [],
   "source": [
    "#global degisken\n",
    "benimadım=\"Hasan\""
   ]
  },
  {
   "cell_type": "code",
   "execution_count": 15,
   "id": "c77f801a",
   "metadata": {},
   "outputs": [],
   "source": [
    "def benimfonksiyonum():\n",
    "    benimadım=\"özcan\"\n",
    "    #enclosing\n",
    "    def icfonksiyonu():\n",
    "        #local\n",
    "        benimadim=\"Ayşe\"\n",
    "        print(benimadim)\n",
    "    icfonksiyonu()"
   ]
  },
  {
   "cell_type": "code",
   "execution_count": 16,
   "id": "0713e0ac",
   "metadata": {},
   "outputs": [
    {
     "name": "stdout",
     "output_type": "stream",
     "text": [
      "Ayşe\n"
     ]
    }
   ],
   "source": [
    "benimfonksiyonum()"
   ]
  },
  {
   "cell_type": "code",
   "execution_count": 12,
   "id": "517bfb4e",
   "metadata": {},
   "outputs": [
    {
     "name": "stdout",
     "output_type": "stream",
     "text": [
      "Hasan\n"
     ]
    }
   ],
   "source": [
    "print(benimadım)"
   ]
  },
  {
   "cell_type": "code",
   "execution_count": 27,
   "id": "a064c5b8",
   "metadata": {},
   "outputs": [],
   "source": [
    "y=10\n",
    "\n",
    "def yenifonksiyon(y):\n",
    "    print(y)\n",
    "    y=5\n",
    "    print(y)\n",
    "    return y"
   ]
  },
  {
   "cell_type": "code",
   "execution_count": 28,
   "id": "8fae116d",
   "metadata": {},
   "outputs": [
    {
     "name": "stdout",
     "output_type": "stream",
     "text": [
      "9\n",
      "5\n"
     ]
    },
    {
     "data": {
      "text/plain": [
       "5"
      ]
     },
     "execution_count": 28,
     "metadata": {},
     "output_type": "execute_result"
    }
   ],
   "source": [
    "yenifonksiyon(9)"
   ]
  },
  {
   "cell_type": "code",
   "execution_count": 29,
   "id": "3acd8b51",
   "metadata": {},
   "outputs": [
    {
     "name": "stdout",
     "output_type": "stream",
     "text": [
      "3\n",
      "5\n"
     ]
    },
    {
     "data": {
      "text/plain": [
       "5"
      ]
     },
     "execution_count": 29,
     "metadata": {},
     "output_type": "execute_result"
    }
   ],
   "source": [
    "yenifonksiyon(3)"
   ]
  },
  {
   "cell_type": "code",
   "execution_count": 30,
   "id": "ae492ba9",
   "metadata": {},
   "outputs": [
    {
     "name": "stdout",
     "output_type": "stream",
     "text": [
      "3\n",
      "5\n"
     ]
    }
   ],
   "source": [
    "y=yenifonksiyon(3)"
   ]
  },
  {
   "cell_type": "code",
   "execution_count": 31,
   "id": "75454a7e",
   "metadata": {},
   "outputs": [
    {
     "data": {
      "text/plain": [
       "5"
      ]
     },
     "execution_count": 31,
     "metadata": {},
     "output_type": "execute_result"
    }
   ],
   "source": [
    "y"
   ]
  },
  {
   "cell_type": "code",
   "execution_count": 32,
   "id": "81c1e015",
   "metadata": {},
   "outputs": [],
   "source": [
    "y= 10\n",
    "\n",
    "def ornekfonksiyon():\n",
    "    global y\n",
    "    y=5\n",
    "    print(y)"
   ]
  },
  {
   "cell_type": "code",
   "execution_count": 33,
   "id": "76636ecc",
   "metadata": {},
   "outputs": [
    {
     "name": "stdout",
     "output_type": "stream",
     "text": [
      "5\n"
     ]
    }
   ],
   "source": [
    "ornekfonksiyon()"
   ]
  },
  {
   "cell_type": "code",
   "execution_count": 34,
   "id": "55db080d",
   "metadata": {},
   "outputs": [
    {
     "data": {
      "text/plain": [
       "5"
      ]
     },
     "execution_count": 34,
     "metadata": {},
     "output_type": "execute_result"
    }
   ],
   "source": [
    "y"
   ]
  },
  {
   "cell_type": "code",
   "execution_count": null,
   "id": "9a13fa43",
   "metadata": {},
   "outputs": [],
   "source": []
  }
 ],
 "metadata": {
  "kernelspec": {
   "display_name": "Python 3 (ipykernel)",
   "language": "python",
   "name": "python3"
  },
  "language_info": {
   "codemirror_mode": {
    "name": "ipython",
    "version": 3
   },
   "file_extension": ".py",
   "mimetype": "text/x-python",
   "name": "python",
   "nbconvert_exporter": "python",
   "pygments_lexer": "ipython3",
   "version": "3.9.13"
  }
 },
 "nbformat": 4,
 "nbformat_minor": 5
}
