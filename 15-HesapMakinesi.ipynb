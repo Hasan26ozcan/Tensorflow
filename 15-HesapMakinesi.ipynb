{
 "cells": [
  {
   "cell_type": "code",
   "execution_count": null,
   "id": "3269d7aa",
   "metadata": {},
   "outputs": [
    {
     "name": "stdout",
     "output_type": "stream",
     "text": [
      "ilk sayıyı giriniz: 10\n",
      "ikinci sayıyı giriniz: 20\n",
      "işleminizi seçiniz +-*/*\n",
      "10 * 20 = 200 \n",
      "işleminiz bitmiştir\n",
      "ilk sayıyı giriniz: 90\n",
      "ikinci sayıyı giriniz: 10\n",
      "işleminizi seçiniz +-*/p\n",
      "lütfen şu işlemlerden birini seçini '/','+','-','*'\n",
      "işleminiz bitmiştir\n",
      "ilk sayıyı giriniz: out\n",
      "lütfen sayıları düzgün giriniz: \n",
      "işleminiz bitmiştir\n",
      "ilk sayıyı giriniz: 0\n",
      "ikinci sayıyı giriniz: 0\n",
      "işleminizi seçiniz +-*/0\n",
      "lütfen şu işlemlerden birini seçini '/','+','-','*'\n",
      "işleminiz bitmiştir\n",
      "lütfen sayıları düzgün giriniz: \n",
      "işleminiz bitmiştir\n",
      "lütfen sayıları düzgün giriniz: \n",
      "işleminiz bitmiştir\n",
      "lütfen sayıları düzgün giriniz: \n",
      "işleminiz bitmiştir\n"
     ]
    }
   ],
   "source": [
    "def hesapla(a,b, islem):\n",
    "    \n",
    "    if(not islem in \"*/-+\"):\n",
    "        return \"lütfen şu işlemlerden birini seçini '/','+','-','*'\"\n",
    "    \n",
    "    \n",
    "    if(islem ==\"+\"):\n",
    "        return f\"{a} {islem} {b} = {a+b} \"\n",
    "    elif(islem == \"*\"):\n",
    "        return f\"{a} {islem} {b} = {a*b} \"\n",
    "    elif(islem == \"-\"):\n",
    "        return f\"{a} {islem} {b} = {a-b} \"\n",
    "    elif(islem == \"/\"):\n",
    "        return f\"{a} {islem} {b} = {a/b} \"\n",
    "while True:\n",
    "    try:\n",
    "        a=int(input(\"ilk sayıyı giriniz: \"))\n",
    "        b=int(input(\"ikinci sayıyı giriniz: \"))\n",
    "        islem= input(\"işleminizi seçiniz +-*/\")\n",
    "        print(hesapla(a,b,islem))\n",
    "    except:\n",
    "        print(\"lütfen sayıları düzgün giriniz: \")\n",
    "    finally:\n",
    "        print(\"işleminiz bitmiştir\")"
   ]
  },
  {
   "cell_type": "code",
   "execution_count": null,
   "id": "36a1939e",
   "metadata": {},
   "outputs": [],
   "source": [
    "     "
   ]
  },
  {
   "cell_type": "code",
   "execution_count": null,
   "id": "5689dcbf",
   "metadata": {},
   "outputs": [],
   "source": []
  }
 ],
 "metadata": {
  "kernelspec": {
   "display_name": "Python 3 (ipykernel)",
   "language": "python",
   "name": "python3"
  },
  "language_info": {
   "codemirror_mode": {
    "name": "ipython",
    "version": 3
   },
   "file_extension": ".py",
   "mimetype": "text/x-python",
   "name": "python",
   "nbconvert_exporter": "python",
   "pygments_lexer": "ipython3",
   "version": "3.9.13"
  }
 },
 "nbformat": 4,
 "nbformat_minor": 5
}
