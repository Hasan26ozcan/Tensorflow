{
 "cells": [
  {
   "cell_type": "code",
   "execution_count": 1,
   "id": "d7594cdd",
   "metadata": {},
   "outputs": [],
   "source": [
    "benimlistem=list()"
   ]
  },
  {
   "cell_type": "code",
   "execution_count": 2,
   "id": "524fc6a1",
   "metadata": {},
   "outputs": [
    {
     "data": {
      "text/plain": [
       "list"
      ]
     },
     "execution_count": 2,
     "metadata": {},
     "output_type": "execute_result"
    }
   ],
   "source": [
    "type(benimlistem)"
   ]
  },
  {
   "cell_type": "markdown",
   "id": "6f59ed2d",
   "metadata": {},
   "source": [
    "## Instance & attribute"
   ]
  },
  {
   "cell_type": "code",
   "execution_count": 5,
   "id": "cf0c17d4",
   "metadata": {},
   "outputs": [],
   "source": [
    "superKahramanAdi=\"Superman\"\n",
    "superKahramanYasi=30\n",
    "superKahramanMeslegi=\"Gazeteci\""
   ]
  },
  {
   "cell_type": "code",
   "execution_count": 6,
   "id": "8423b84d",
   "metadata": {},
   "outputs": [],
   "source": [
    "ikinciSuperKahraman=\"Batman\""
   ]
  },
  {
   "cell_type": "code",
   "execution_count": 57,
   "id": "e617f478",
   "metadata": {},
   "outputs": [],
   "source": [
    "class SuperKahraman():\n",
    "    \n",
    "    ozelguc=\"Gorunmezlik\"\n",
    "    \n",
    "    def __init__(self,isimInput,yasInput,meslekInput):\n",
    "        print(\"init cağırıldı\")\n",
    "        self.isim=isimInput\n",
    "        self.yas=yasInput\n",
    "        self.meslek=meslekInput\n",
    "    def ornekmethod(self):\n",
    "        print(f\"ben superkahramanım ve mesleğim {self.meslek} \")"
   ]
  },
  {
   "cell_type": "code",
   "execution_count": 58,
   "id": "d6c5d2e4",
   "metadata": {},
   "outputs": [
    {
     "name": "stdout",
     "output_type": "stream",
     "text": [
      "init cağırıldı\n"
     ]
    }
   ],
   "source": [
    "superman=SuperKahraman(\"superman\",30,\"gazeteci\")"
   ]
  },
  {
   "cell_type": "code",
   "execution_count": 59,
   "id": "951c5ef2",
   "metadata": {},
   "outputs": [
    {
     "name": "stdout",
     "output_type": "stream",
     "text": [
      "init cağırıldı\n"
     ]
    }
   ],
   "source": [
    "batman=SuperKahraman(\"batman\",\"40\",\"iş adamı\")"
   ]
  },
  {
   "cell_type": "code",
   "execution_count": 60,
   "id": "45d65213",
   "metadata": {},
   "outputs": [
    {
     "data": {
      "text/plain": [
       "'superman'"
      ]
     },
     "execution_count": 60,
     "metadata": {},
     "output_type": "execute_result"
    }
   ],
   "source": [
    "superman.isim"
   ]
  },
  {
   "cell_type": "code",
   "execution_count": 61,
   "id": "6dec4bb0",
   "metadata": {},
   "outputs": [],
   "source": [
    "superman.isim=\"clark kent\""
   ]
  },
  {
   "cell_type": "code",
   "execution_count": 62,
   "id": "48fad3c1",
   "metadata": {},
   "outputs": [
    {
     "data": {
      "text/plain": [
       "'clark kent'"
      ]
     },
     "execution_count": 62,
     "metadata": {},
     "output_type": "execute_result"
    }
   ],
   "source": [
    "superman.isim"
   ]
  },
  {
   "cell_type": "code",
   "execution_count": 63,
   "id": "9439b98a",
   "metadata": {},
   "outputs": [
    {
     "data": {
      "text/plain": [
       "30"
      ]
     },
     "execution_count": 63,
     "metadata": {},
     "output_type": "execute_result"
    }
   ],
   "source": [
    "superman.yas"
   ]
  },
  {
   "cell_type": "code",
   "execution_count": 64,
   "id": "8b3d80ac",
   "metadata": {},
   "outputs": [
    {
     "data": {
      "text/plain": [
       "'Gorunmezlik'"
      ]
     },
     "execution_count": 64,
     "metadata": {},
     "output_type": "execute_result"
    }
   ],
   "source": [
    "superman.ozelguc"
   ]
  },
  {
   "cell_type": "code",
   "execution_count": 65,
   "id": "70d88ade",
   "metadata": {},
   "outputs": [],
   "source": [
    "superman.ozelguc=\"uçabiliyor\""
   ]
  },
  {
   "cell_type": "code",
   "execution_count": 66,
   "id": "afd47e26",
   "metadata": {},
   "outputs": [
    {
     "name": "stdout",
     "output_type": "stream",
     "text": [
      "ben superkahramanım ve mesleğim gazeteci \n"
     ]
    }
   ],
   "source": [
    "superman.ornekmethod()"
   ]
  },
  {
   "cell_type": "code",
   "execution_count": 83,
   "id": "d237b08e",
   "metadata": {},
   "outputs": [],
   "source": [
    "class kopek():\n",
    "    yilcarpani=7\n",
    "    def  __init__(self,yas=5):\n",
    "        self.yas=yas\n",
    "        self.insansayınacevirilmisattribute=self.yas*self.yilcarpani\n",
    "    def insanyas(self):\n",
    "        return self.yas*kopek.yilcarpani"
   ]
  },
  {
   "cell_type": "code",
   "execution_count": 84,
   "id": "729e07da",
   "metadata": {},
   "outputs": [],
   "source": [
    "benimkopek= kopek(3)"
   ]
  },
  {
   "cell_type": "code",
   "execution_count": 85,
   "id": "04dfb825",
   "metadata": {},
   "outputs": [
    {
     "data": {
      "text/plain": [
       "3"
      ]
     },
     "execution_count": 85,
     "metadata": {},
     "output_type": "execute_result"
    }
   ],
   "source": [
    "benimkopek.yas"
   ]
  },
  {
   "cell_type": "code",
   "execution_count": 86,
   "id": "6b27c66a",
   "metadata": {},
   "outputs": [
    {
     "data": {
      "text/plain": [
       "21"
      ]
     },
     "execution_count": 86,
     "metadata": {},
     "output_type": "execute_result"
    }
   ],
   "source": [
    "benimkopek.insanyas()"
   ]
  },
  {
   "cell_type": "code",
   "execution_count": 87,
   "id": "efbfac85",
   "metadata": {},
   "outputs": [
    {
     "data": {
      "text/plain": [
       "21"
      ]
     },
     "execution_count": 87,
     "metadata": {},
     "output_type": "execute_result"
    }
   ],
   "source": [
    "benimkopek.insansayınacevirilmisattribute"
   ]
  },
  {
   "cell_type": "markdown",
   "id": "0e50204e",
   "metadata": {},
   "source": [
    "## Inheritance"
   ]
  },
  {
   "cell_type": "code",
   "execution_count": 89,
   "id": "c1c2c3b2",
   "metadata": {},
   "outputs": [],
   "source": [
    "class hayvan():\n",
    "    def __init__(self):\n",
    "        print(\"hayvan sınıfı init çağırıldı\")\n",
    "    def method1(self):\n",
    "        print(\"hayvan sınıfı method 1 çağırıldı\")\n",
    "    def method2(self):\n",
    "        print(\"hayvan sınıfı method 2 çağırıldı\") "
   ]
  },
  {
   "cell_type": "code",
   "execution_count": 90,
   "id": "be2bf715",
   "metadata": {},
   "outputs": [
    {
     "name": "stdout",
     "output_type": "stream",
     "text": [
      "hayvan sınıfı init çağırıldı\n"
     ]
    }
   ],
   "source": [
    "benimhayvanım=hayvan()"
   ]
  },
  {
   "cell_type": "code",
   "execution_count": 91,
   "id": "432364af",
   "metadata": {},
   "outputs": [
    {
     "name": "stdout",
     "output_type": "stream",
     "text": [
      "hayvan sınıfı method 1 çağırıldı\n"
     ]
    }
   ],
   "source": [
    "benimhayvanım.method1()"
   ]
  },
  {
   "cell_type": "code",
   "execution_count": 92,
   "id": "159b4e61",
   "metadata": {},
   "outputs": [
    {
     "name": "stdout",
     "output_type": "stream",
     "text": [
      "hayvan sınıfı method 2 çağırıldı\n"
     ]
    }
   ],
   "source": [
    "benimhayvanım.method2()"
   ]
  },
  {
   "cell_type": "code",
   "execution_count": 107,
   "id": "5bbc858a",
   "metadata": {},
   "outputs": [],
   "source": [
    "class kedi(hayvan):\n",
    "    def __init__(self):\n",
    "        hayvan.__init__(self)\n",
    "        print(\"kedi sınıfı init çağırıldı\")\n",
    "    def miyavla(self):\n",
    "        print(\"miyavla\")\n",
    "    def method1(self):\n",
    "        print(\"kedi sınıfındaki method 1 çağırıldı\")"
   ]
  },
  {
   "cell_type": "code",
   "execution_count": 108,
   "id": "099e3dd8",
   "metadata": {},
   "outputs": [
    {
     "name": "stdout",
     "output_type": "stream",
     "text": [
      "hayvan sınıfı init çağırıldı\n",
      "kedi sınıfı init çağırıldı\n"
     ]
    }
   ],
   "source": [
    "benimkedim =kedi()"
   ]
  },
  {
   "cell_type": "code",
   "execution_count": 109,
   "id": "391c83a1",
   "metadata": {},
   "outputs": [
    {
     "name": "stdout",
     "output_type": "stream",
     "text": [
      "kedi sınıfındaki method 1 çağırıldı\n"
     ]
    }
   ],
   "source": [
    "benimkedim.method1()"
   ]
  },
  {
   "cell_type": "code",
   "execution_count": 110,
   "id": "d62a96d5",
   "metadata": {},
   "outputs": [
    {
     "name": "stdout",
     "output_type": "stream",
     "text": [
      "hayvan sınıfı method 2 çağırıldı\n"
     ]
    }
   ],
   "source": [
    "benimkedim.method2()"
   ]
  },
  {
   "cell_type": "code",
   "execution_count": 111,
   "id": "ea1cef08",
   "metadata": {},
   "outputs": [
    {
     "name": "stdout",
     "output_type": "stream",
     "text": [
      "miyavla\n"
     ]
    }
   ],
   "source": [
    "benimkedim.miyavla()"
   ]
  },
  {
   "cell_type": "code",
   "execution_count": 112,
   "id": "d27c7dd2",
   "metadata": {},
   "outputs": [],
   "source": [
    "#benimhayvanım.miyavla()"
   ]
  },
  {
   "cell_type": "markdown",
   "id": "b43f6e66",
   "metadata": {},
   "source": [
    "## Polymorphism"
   ]
  },
  {
   "cell_type": "code",
   "execution_count": 114,
   "id": "129081d7",
   "metadata": {},
   "outputs": [],
   "source": [
    "class Elma():\n",
    "    def __init__(self,isim):\n",
    "        self.isim=isim\n",
    "    def bilgiver(self):\n",
    "        return self.isim + \" 100 kaloridir \""
   ]
  },
  {
   "cell_type": "code",
   "execution_count": 126,
   "id": "6e57691a",
   "metadata": {},
   "outputs": [],
   "source": [
    "class Muz():\n",
    "    def __init__(self,isim):\n",
    "        self.isim=isim\n",
    "    def bilgiver(self):\n",
    "        return self.isim + \" 150 kaloridir\""
   ]
  },
  {
   "cell_type": "code",
   "execution_count": 127,
   "id": "f4d90c5b",
   "metadata": {},
   "outputs": [],
   "source": [
    "elma=Elma(\"elma\")"
   ]
  },
  {
   "cell_type": "code",
   "execution_count": 128,
   "id": "5dbaf3f3",
   "metadata": {},
   "outputs": [
    {
     "data": {
      "text/plain": [
       "'elma 100 kaloridir '"
      ]
     },
     "execution_count": 128,
     "metadata": {},
     "output_type": "execute_result"
    }
   ],
   "source": [
    "elma.bilgiver()"
   ]
  },
  {
   "cell_type": "code",
   "execution_count": 129,
   "id": "0f768bb0",
   "metadata": {},
   "outputs": [],
   "source": [
    "muz=Muz(\"muz\")"
   ]
  },
  {
   "cell_type": "code",
   "execution_count": 130,
   "id": "a72fc475",
   "metadata": {},
   "outputs": [
    {
     "data": {
      "text/plain": [
       "'muz 150 kaloridir'"
      ]
     },
     "execution_count": 130,
     "metadata": {},
     "output_type": "execute_result"
    }
   ],
   "source": [
    "muz.bilgiver()"
   ]
  },
  {
   "cell_type": "code",
   "execution_count": 131,
   "id": "690d816e",
   "metadata": {},
   "outputs": [],
   "source": [
    "meyvelistesi=[elma,muz]"
   ]
  },
  {
   "cell_type": "code",
   "execution_count": 132,
   "id": "dc559fdb",
   "metadata": {},
   "outputs": [
    {
     "name": "stdout",
     "output_type": "stream",
     "text": [
      "elma 100 kaloridir \n",
      "muz 150 kaloridir\n"
     ]
    }
   ],
   "source": [
    "for eleman in meyvelistesi:\n",
    "    print(eleman.bilgiver())"
   ]
  },
  {
   "cell_type": "code",
   "execution_count": 133,
   "id": "dbc735f8",
   "metadata": {},
   "outputs": [],
   "source": [
    "def bilgial(meyve):\n",
    "    print(meyve.bilgiver())"
   ]
  },
  {
   "cell_type": "code",
   "execution_count": 134,
   "id": "9958c7ab",
   "metadata": {},
   "outputs": [
    {
     "name": "stdout",
     "output_type": "stream",
     "text": [
      "elma 100 kaloridir \n"
     ]
    }
   ],
   "source": [
    "bilgial(elma)"
   ]
  },
  {
   "cell_type": "code",
   "execution_count": 135,
   "id": "d85c2de3",
   "metadata": {},
   "outputs": [
    {
     "name": "stdout",
     "output_type": "stream",
     "text": [
      "muz 150 kaloridir\n"
     ]
    }
   ],
   "source": [
    "bilgial(muz)"
   ]
  },
  {
   "cell_type": "code",
   "execution_count": null,
   "id": "51f58010",
   "metadata": {},
   "outputs": [],
   "source": []
  }
 ],
 "metadata": {
  "kernelspec": {
   "display_name": "Python 3 (ipykernel)",
   "language": "python",
   "name": "python3"
  },
  "language_info": {
   "codemirror_mode": {
    "name": "ipython",
    "version": 3
   },
   "file_extension": ".py",
   "mimetype": "text/x-python",
   "name": "python",
   "nbconvert_exporter": "python",
   "pygments_lexer": "ipython3",
   "version": "3.9.13"
  }
 },
 "nbformat": 4,
 "nbformat_minor": 5
}
