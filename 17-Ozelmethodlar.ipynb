{
 "cells": [
  {
   "cell_type": "code",
   "execution_count": 28,
   "id": "07462f08",
   "metadata": {},
   "outputs": [],
   "source": [
    "class meyve():\n",
    "    def __init__(self,isim,kalori):\n",
    "        self.isim=isim\n",
    "        self.kalori=kalori\n",
    "    def __str__(self):\n",
    "        return f\" {self.isim} şu kadar kolariye sahiptir {self.kalori}  \"\n",
    "    def __len__(self):\n",
    "        return self.kalori"
   ]
  },
  {
   "cell_type": "code",
   "execution_count": 29,
   "id": "6e248d27",
   "metadata": {},
   "outputs": [],
   "source": [
    "muz=meyve(\"Muz\",150)"
   ]
  },
  {
   "cell_type": "code",
   "execution_count": 30,
   "id": "442c787d",
   "metadata": {},
   "outputs": [
    {
     "data": {
      "text/plain": [
       "150"
      ]
     },
     "execution_count": 30,
     "metadata": {},
     "output_type": "execute_result"
    }
   ],
   "source": [
    "muz.kalori"
   ]
  },
  {
   "cell_type": "code",
   "execution_count": 31,
   "id": "0b8bdc84",
   "metadata": {},
   "outputs": [
    {
     "name": "stdout",
     "output_type": "stream",
     "text": [
      " Muz şu kadar kolariye sahiptir 150  \n"
     ]
    }
   ],
   "source": [
    "print(muz)"
   ]
  },
  {
   "cell_type": "code",
   "execution_count": 32,
   "id": "f6598ea7",
   "metadata": {},
   "outputs": [],
   "source": [
    "benimlistem=[1,2,3,\"a\",4.5]"
   ]
  },
  {
   "cell_type": "code",
   "execution_count": 33,
   "id": "2afcf053",
   "metadata": {},
   "outputs": [
    {
     "name": "stdout",
     "output_type": "stream",
     "text": [
      "[1, 2, 3, 'a', 4.5]\n"
     ]
    }
   ],
   "source": [
    "print(benimlistem)"
   ]
  },
  {
   "cell_type": "code",
   "execution_count": 34,
   "id": "710cdb85",
   "metadata": {},
   "outputs": [
    {
     "data": {
      "text/plain": [
       "5"
      ]
     },
     "execution_count": 34,
     "metadata": {},
     "output_type": "execute_result"
    }
   ],
   "source": [
    "len(benimlistem)"
   ]
  },
  {
   "cell_type": "code",
   "execution_count": 35,
   "id": "65a6b836",
   "metadata": {},
   "outputs": [
    {
     "data": {
      "text/plain": [
       "150"
      ]
     },
     "execution_count": 35,
     "metadata": {},
     "output_type": "execute_result"
    }
   ],
   "source": [
    "len(muz)"
   ]
  },
  {
   "cell_type": "code",
   "execution_count": 36,
   "id": "46749c8e",
   "metadata": {},
   "outputs": [],
   "source": [
    "elma=meyve(\"elma\",200)"
   ]
  },
  {
   "cell_type": "code",
   "execution_count": 37,
   "id": "a687cb60",
   "metadata": {},
   "outputs": [
    {
     "name": "stdout",
     "output_type": "stream",
     "text": [
      " elma şu kadar kolariye sahiptir 200  \n"
     ]
    }
   ],
   "source": [
    "print(elma)"
   ]
  },
  {
   "cell_type": "code",
   "execution_count": 38,
   "id": "cfb8e813",
   "metadata": {},
   "outputs": [
    {
     "data": {
      "text/plain": [
       "200"
      ]
     },
     "execution_count": 38,
     "metadata": {},
     "output_type": "execute_result"
    }
   ],
   "source": [
    "len(elma)"
   ]
  },
  {
   "cell_type": "code",
   "execution_count": null,
   "id": "faa58a2c",
   "metadata": {},
   "outputs": [],
   "source": []
  }
 ],
 "metadata": {
  "kernelspec": {
   "display_name": "Python 3 (ipykernel)",
   "language": "python",
   "name": "python3"
  },
  "language_info": {
   "codemirror_mode": {
    "name": "ipython",
    "version": 3
   },
   "file_extension": ".py",
   "mimetype": "text/x-python",
   "name": "python",
   "nbconvert_exporter": "python",
   "pygments_lexer": "ipython3",
   "version": "3.9.13"
  }
 },
 "nbformat": 4,
 "nbformat_minor": 5
}
