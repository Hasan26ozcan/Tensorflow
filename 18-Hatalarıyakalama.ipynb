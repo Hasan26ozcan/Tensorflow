{
 "cells": [
  {
   "cell_type": "code",
   "execution_count": 2,
   "id": "a091cc22",
   "metadata": {},
   "outputs": [],
   "source": [
    "def toplama(numara1,numara2):\n",
    "    return numara1+numara2"
   ]
  },
  {
   "cell_type": "code",
   "execution_count": 3,
   "id": "ea958d19",
   "metadata": {},
   "outputs": [
    {
     "name": "stdout",
     "output_type": "stream",
     "text": [
      "ilk numarayı giriniz: 10\n",
      "ikinci numarayı giriniz: 20\n"
     ]
    }
   ],
   "source": [
    "x=int(input(\"ilk numarayı giriniz: \"))\n",
    "y=int(input(\"ikinci numarayı giriniz: \"))"
   ]
  },
  {
   "cell_type": "code",
   "execution_count": 4,
   "id": "a9858f67",
   "metadata": {},
   "outputs": [
    {
     "data": {
      "text/plain": [
       "30"
      ]
     },
     "execution_count": 4,
     "metadata": {},
     "output_type": "execute_result"
    }
   ],
   "source": [
    "toplama(x,y)"
   ]
  },
  {
   "cell_type": "markdown",
   "id": "623f6658",
   "metadata": {},
   "source": [
    "## try & except & else & finally"
   ]
  },
  {
   "cell_type": "code",
   "execution_count": 6,
   "id": "f2f26e5e",
   "metadata": {},
   "outputs": [
    {
     "name": "stdout",
     "output_type": "stream",
     "text": [
      "numaranızı giriniz: asd\n",
      "lütfen gerçekten bir numara giriniz:\n",
      "finally çağırıldı\n",
      "numaranızı giriniz: asd\n",
      "lütfen gerçekten bir numara giriniz:\n",
      "finally çağırıldı\n",
      "numaranızı giriniz: 90\n",
      "teşekkürler\n",
      "finally çağırıldı\n"
     ]
    }
   ],
   "source": [
    "while True:\n",
    "    try:\n",
    "        benimınt=int(input(\"numaranızı giriniz: \"))\n",
    "    except:\n",
    "        print(\"lütfen gerçekten bir numara giriniz:\")\n",
    "        continue\n",
    "    else:\n",
    "        print(\"teşekkürler\")\n",
    "        break\n",
    "    finally:\n",
    "        print(\"finally çağırıldı\")"
   ]
  },
  {
   "cell_type": "code",
   "execution_count": null,
   "id": "adaa5535",
   "metadata": {},
   "outputs": [],
   "source": []
  }
 ],
 "metadata": {
  "kernelspec": {
   "display_name": "Python 3 (ipykernel)",
   "language": "python",
   "name": "python3"
  },
  "language_info": {
   "codemirror_mode": {
    "name": "ipython",
    "version": 3
   },
   "file_extension": ".py",
   "mimetype": "text/x-python",
   "name": "python",
   "nbconvert_exporter": "python",
   "pygments_lexer": "ipython3",
   "version": "3.9.13"
  }
 },
 "nbformat": 4,
 "nbformat_minor": 5
}
