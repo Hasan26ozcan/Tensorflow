{
 "cells": [
  {
   "cell_type": "code",
   "execution_count": 2,
   "id": "259a31a7",
   "metadata": {},
   "outputs": [],
   "source": [
    "import numpy as np"
   ]
  },
  {
   "cell_type": "markdown",
   "id": "9adcf11f",
   "metadata": {},
   "source": [
    "## Numpy array"
   ]
  },
  {
   "cell_type": "code",
   "execution_count": 3,
   "id": "ee29a9e5",
   "metadata": {},
   "outputs": [],
   "source": [
    "benimlistem=[20,30,40]"
   ]
  },
  {
   "cell_type": "code",
   "execution_count": 4,
   "id": "307b6235",
   "metadata": {},
   "outputs": [
    {
     "data": {
      "text/plain": [
       "list"
      ]
     },
     "execution_count": 4,
     "metadata": {},
     "output_type": "execute_result"
    }
   ],
   "source": [
    "type(benimlistem)"
   ]
  },
  {
   "cell_type": "code",
   "execution_count": 5,
   "id": "afae5f9b",
   "metadata": {},
   "outputs": [
    {
     "data": {
      "text/plain": [
       "array([20, 30, 40])"
      ]
     },
     "execution_count": 5,
     "metadata": {},
     "output_type": "execute_result"
    }
   ],
   "source": [
    "np.array(benimlistem)"
   ]
  },
  {
   "cell_type": "code",
   "execution_count": 6,
   "id": "fe592f78",
   "metadata": {},
   "outputs": [
    {
     "data": {
      "text/plain": [
       "numpy.ndarray"
      ]
     },
     "execution_count": 6,
     "metadata": {},
     "output_type": "execute_result"
    }
   ],
   "source": [
    "type(np.array(benimlistem))"
   ]
  },
  {
   "cell_type": "code",
   "execution_count": 7,
   "id": "580923ea",
   "metadata": {},
   "outputs": [],
   "source": [
    "matrixlistesi=[[10,20,30],[20,30,40],[30,40,50]]"
   ]
  },
  {
   "cell_type": "code",
   "execution_count": 8,
   "id": "9782bfe6",
   "metadata": {},
   "outputs": [
    {
     "data": {
      "text/plain": [
       "20"
      ]
     },
     "execution_count": 8,
     "metadata": {},
     "output_type": "execute_result"
    }
   ],
   "source": [
    "matrixlistesi[0][1]"
   ]
  },
  {
   "cell_type": "code",
   "execution_count": 9,
   "id": "e3803ea8",
   "metadata": {},
   "outputs": [
    {
     "data": {
      "text/plain": [
       "array([[10, 20, 30],\n",
       "       [20, 30, 40],\n",
       "       [30, 40, 50]])"
      ]
     },
     "execution_count": 9,
     "metadata": {},
     "output_type": "execute_result"
    }
   ],
   "source": [
    "np.array(matrixlistesi)"
   ]
  },
  {
   "cell_type": "markdown",
   "id": "ae91bf02",
   "metadata": {},
   "source": [
    "## arange"
   ]
  },
  {
   "cell_type": "code",
   "execution_count": 10,
   "id": "4095744a",
   "metadata": {},
   "outputs": [
    {
     "data": {
      "text/plain": [
       "[0, 1, 2, 3, 4, 5, 6, 7, 8, 9]"
      ]
     },
     "execution_count": 10,
     "metadata": {},
     "output_type": "execute_result"
    }
   ],
   "source": [
    "list(range(0,10))"
   ]
  },
  {
   "cell_type": "code",
   "execution_count": 11,
   "id": "924eae1f",
   "metadata": {},
   "outputs": [
    {
     "data": {
      "text/plain": [
       "array([0, 1, 2, 3, 4, 5, 6, 7, 8, 9])"
      ]
     },
     "execution_count": 11,
     "metadata": {},
     "output_type": "execute_result"
    }
   ],
   "source": [
    "np.arange(0,10)"
   ]
  },
  {
   "cell_type": "code",
   "execution_count": 12,
   "id": "2da56c35",
   "metadata": {},
   "outputs": [
    {
     "data": {
      "text/plain": [
       "array([ 0,  2,  4,  6,  8, 10, 12, 14, 16, 18])"
      ]
     },
     "execution_count": 12,
     "metadata": {},
     "output_type": "execute_result"
    }
   ],
   "source": [
    "np.arange(0,20,2)"
   ]
  },
  {
   "cell_type": "markdown",
   "id": "db74f159",
   "metadata": {},
   "source": [
    "## zeros"
   ]
  },
  {
   "cell_type": "code",
   "execution_count": 13,
   "id": "d20a7991",
   "metadata": {},
   "outputs": [
    {
     "data": {
      "text/plain": [
       "array([0., 0., 0., 0., 0., 0., 0., 0., 0., 0.])"
      ]
     },
     "execution_count": 13,
     "metadata": {},
     "output_type": "execute_result"
    }
   ],
   "source": [
    "np.zeros(10)"
   ]
  },
  {
   "cell_type": "code",
   "execution_count": 14,
   "id": "64e41788",
   "metadata": {},
   "outputs": [
    {
     "data": {
      "text/plain": [
       "array([[0., 0., 0., 0., 0., 0., 0., 0., 0.],\n",
       "       [0., 0., 0., 0., 0., 0., 0., 0., 0.],\n",
       "       [0., 0., 0., 0., 0., 0., 0., 0., 0.],\n",
       "       [0., 0., 0., 0., 0., 0., 0., 0., 0.],\n",
       "       [0., 0., 0., 0., 0., 0., 0., 0., 0.],\n",
       "       [0., 0., 0., 0., 0., 0., 0., 0., 0.],\n",
       "       [0., 0., 0., 0., 0., 0., 0., 0., 0.],\n",
       "       [0., 0., 0., 0., 0., 0., 0., 0., 0.],\n",
       "       [0., 0., 0., 0., 0., 0., 0., 0., 0.]])"
      ]
     },
     "execution_count": 14,
     "metadata": {},
     "output_type": "execute_result"
    }
   ],
   "source": [
    "np.zeros((9,9))"
   ]
  },
  {
   "cell_type": "code",
   "execution_count": 15,
   "id": "fd809c00",
   "metadata": {},
   "outputs": [
    {
     "data": {
      "text/plain": [
       "array([[1., 1., 1., 1., 1.],\n",
       "       [1., 1., 1., 1., 1.],\n",
       "       [1., 1., 1., 1., 1.],\n",
       "       [1., 1., 1., 1., 1.],\n",
       "       [1., 1., 1., 1., 1.]])"
      ]
     },
     "execution_count": 15,
     "metadata": {},
     "output_type": "execute_result"
    }
   ],
   "source": [
    "np.ones((5,5))"
   ]
  },
  {
   "cell_type": "markdown",
   "id": "bb8b7a1a",
   "metadata": {},
   "source": [
    "## linspace"
   ]
  },
  {
   "cell_type": "code",
   "execution_count": 16,
   "id": "a3ae25e0",
   "metadata": {},
   "outputs": [
    {
     "data": {
      "text/plain": [
       "array([ 0.        ,  0.52631579,  1.05263158,  1.57894737,  2.10526316,\n",
       "        2.63157895,  3.15789474,  3.68421053,  4.21052632,  4.73684211,\n",
       "        5.26315789,  5.78947368,  6.31578947,  6.84210526,  7.36842105,\n",
       "        7.89473684,  8.42105263,  8.94736842,  9.47368421, 10.        ])"
      ]
     },
     "execution_count": 16,
     "metadata": {},
     "output_type": "execute_result"
    }
   ],
   "source": [
    "np.linspace(0,10,20)"
   ]
  },
  {
   "cell_type": "markdown",
   "id": "70fd061c",
   "metadata": {},
   "source": [
    "## eye"
   ]
  },
  {
   "cell_type": "code",
   "execution_count": 17,
   "id": "709b785d",
   "metadata": {},
   "outputs": [
    {
     "data": {
      "text/plain": [
       "array([[1., 0., 0., 0., 0.],\n",
       "       [0., 1., 0., 0., 0.],\n",
       "       [0., 0., 1., 0., 0.],\n",
       "       [0., 0., 0., 1., 0.],\n",
       "       [0., 0., 0., 0., 1.]])"
      ]
     },
     "execution_count": 17,
     "metadata": {},
     "output_type": "execute_result"
    }
   ],
   "source": [
    "np.eye(5)"
   ]
  },
  {
   "cell_type": "markdown",
   "id": "c70a53d7",
   "metadata": {},
   "source": [
    "## random"
   ]
  },
  {
   "cell_type": "code",
   "execution_count": 22,
   "id": "32d8c595",
   "metadata": {},
   "outputs": [
    {
     "data": {
      "text/plain": [
       "array([[-1.45367142,  0.45312543, -0.97616562, -1.75944918,  0.26155956,\n",
       "        -0.12172924, -0.14892685, -2.68008798],\n",
       "       [ 1.72068002,  1.01213747, -0.60060247, -0.31734496,  0.63247599,\n",
       "        -1.02827731,  0.13146421,  1.07670342],\n",
       "       [-0.70500158, -0.63284181,  0.69032669, -1.590755  ,  0.84219793,\n",
       "        -1.92026212, -1.01641008,  0.28950078],\n",
       "       [ 1.22115113,  0.69735454, -1.21908966,  0.34990157,  0.44796735,\n",
       "        -0.45385778,  0.33119547,  0.50329366],\n",
       "       [ 1.64759907, -0.27424852,  0.5614954 , -0.79763423, -0.52944237,\n",
       "         0.25578669,  2.30085964,  1.5818669 ],\n",
       "       [ 0.68819348, -0.18888445, -1.12203255,  1.72949975, -1.91702326,\n",
       "         0.47131858,  0.93839643, -0.95689471],\n",
       "       [ 0.10903654, -0.44278034,  0.84171156,  1.1800415 , -0.13726994,\n",
       "        -0.18530356, -0.28927311,  1.30561408],\n",
       "       [ 0.59701127,  0.00757747,  2.13118332,  1.54037303,  0.84428565,\n",
       "        -0.3517721 ,  0.89508784, -0.35000302]])"
      ]
     },
     "execution_count": 22,
     "metadata": {},
     "output_type": "execute_result"
    }
   ],
   "source": [
    "np.random.randn(8,8)"
   ]
  },
  {
   "cell_type": "code",
   "execution_count": 29,
   "id": "54007db8",
   "metadata": {},
   "outputs": [
    {
     "data": {
      "text/plain": [
       "8"
      ]
     },
     "execution_count": 29,
     "metadata": {},
     "output_type": "execute_result"
    }
   ],
   "source": [
    "np.random.randint(5,10)"
   ]
  },
  {
   "cell_type": "code",
   "execution_count": 33,
   "id": "1e4a7adb",
   "metadata": {},
   "outputs": [
    {
     "data": {
      "text/plain": [
       "array([225, 159,  79, 202, 102, 294,  19, 237, 154, 250])"
      ]
     },
     "execution_count": 33,
     "metadata": {},
     "output_type": "execute_result"
    }
   ],
   "source": [
    "np.random.randint(1,300,10)"
   ]
  },
  {
   "cell_type": "code",
   "execution_count": 34,
   "id": "63accb25",
   "metadata": {},
   "outputs": [],
   "source": [
    "benimnumpydizim=np.arange(0,30)"
   ]
  },
  {
   "cell_type": "code",
   "execution_count": 35,
   "id": "ea7ca652",
   "metadata": {},
   "outputs": [
    {
     "data": {
      "text/plain": [
       "array([ 0,  1,  2,  3,  4,  5,  6,  7,  8,  9, 10, 11, 12, 13, 14, 15, 16,\n",
       "       17, 18, 19, 20, 21, 22, 23, 24, 25, 26, 27, 28, 29])"
      ]
     },
     "execution_count": 35,
     "metadata": {},
     "output_type": "execute_result"
    }
   ],
   "source": [
    "benimnumpydizim"
   ]
  },
  {
   "cell_type": "code",
   "execution_count": 40,
   "id": "3785dfb1",
   "metadata": {},
   "outputs": [],
   "source": [
    "benimrandomdizim=np.random.randint(0,400,20)"
   ]
  },
  {
   "cell_type": "code",
   "execution_count": 41,
   "id": "376fbdc1",
   "metadata": {},
   "outputs": [
    {
     "data": {
      "text/plain": [
       "array([139, 307,  87, 279, 275, 261, 150, 255, 189, 250,  77, 106, 320,\n",
       "       237, 312,  62,  24, 286, 107, 364])"
      ]
     },
     "execution_count": 41,
     "metadata": {},
     "output_type": "execute_result"
    }
   ],
   "source": [
    "benimrandomdizim"
   ]
  },
  {
   "cell_type": "markdown",
   "id": "712e057b",
   "metadata": {},
   "source": [
    "## numpy dizi methodları"
   ]
  },
  {
   "cell_type": "code",
   "execution_count": 43,
   "id": "db2cd7e8",
   "metadata": {},
   "outputs": [
    {
     "data": {
      "text/plain": [
       "array([[ 0,  1,  2,  3,  4,  5],\n",
       "       [ 6,  7,  8,  9, 10, 11],\n",
       "       [12, 13, 14, 15, 16, 17],\n",
       "       [18, 19, 20, 21, 22, 23],\n",
       "       [24, 25, 26, 27, 28, 29]])"
      ]
     },
     "execution_count": 43,
     "metadata": {},
     "output_type": "execute_result"
    }
   ],
   "source": [
    "benimnumpydizim.reshape(5,6)"
   ]
  },
  {
   "cell_type": "code",
   "execution_count": 44,
   "id": "cc443a2d",
   "metadata": {},
   "outputs": [
    {
     "data": {
      "text/plain": [
       "29"
      ]
     },
     "execution_count": 44,
     "metadata": {},
     "output_type": "execute_result"
    }
   ],
   "source": [
    "benimnumpydizim.max()"
   ]
  },
  {
   "cell_type": "code",
   "execution_count": 45,
   "id": "0f90e786",
   "metadata": {},
   "outputs": [
    {
     "data": {
      "text/plain": [
       "364"
      ]
     },
     "execution_count": 45,
     "metadata": {},
     "output_type": "execute_result"
    }
   ],
   "source": [
    "benimrandomdizim.max()"
   ]
  },
  {
   "cell_type": "code",
   "execution_count": 46,
   "id": "0746162a",
   "metadata": {},
   "outputs": [
    {
     "data": {
      "text/plain": [
       "24"
      ]
     },
     "execution_count": 46,
     "metadata": {},
     "output_type": "execute_result"
    }
   ],
   "source": [
    "benimrandomdizim.min()"
   ]
  },
  {
   "cell_type": "code",
   "execution_count": 51,
   "id": "af23acdf",
   "metadata": {},
   "outputs": [
    {
     "data": {
      "text/plain": [
       "30"
      ]
     },
     "execution_count": 51,
     "metadata": {},
     "output_type": "execute_result"
    }
   ],
   "source": [
    "len(benimnumpydizim)"
   ]
  },
  {
   "cell_type": "code",
   "execution_count": 52,
   "id": "eb0dfc47",
   "metadata": {},
   "outputs": [
    {
     "data": {
      "text/plain": [
       "19"
      ]
     },
     "execution_count": 52,
     "metadata": {},
     "output_type": "execute_result"
    }
   ],
   "source": [
    "benimrandomdizim.argmax()"
   ]
  },
  {
   "cell_type": "code",
   "execution_count": 53,
   "id": "38df641e",
   "metadata": {},
   "outputs": [
    {
     "data": {
      "text/plain": [
       "16"
      ]
     },
     "execution_count": 53,
     "metadata": {},
     "output_type": "execute_result"
    }
   ],
   "source": [
    "benimrandomdizim.argmin()"
   ]
  },
  {
   "cell_type": "code",
   "execution_count": 55,
   "id": "82107617",
   "metadata": {},
   "outputs": [],
   "source": [
    "benimreshapedizim=benimnumpydizim.reshape(5,6)"
   ]
  },
  {
   "cell_type": "code",
   "execution_count": 56,
   "id": "da21e1d3",
   "metadata": {},
   "outputs": [
    {
     "data": {
      "text/plain": [
       "(5, 6)"
      ]
     },
     "execution_count": 56,
     "metadata": {},
     "output_type": "execute_result"
    }
   ],
   "source": [
    "benimreshapedizim.shape "
   ]
  },
  {
   "cell_type": "code",
   "execution_count": null,
   "id": "12860fe1",
   "metadata": {},
   "outputs": [],
   "source": []
  }
 ],
 "metadata": {
  "kernelspec": {
   "display_name": "Python 3 (ipykernel)",
   "language": "python",
   "name": "python3"
  },
  "language_info": {
   "codemirror_mode": {
    "name": "ipython",
    "version": 3
   },
   "file_extension": ".py",
   "mimetype": "text/x-python",
   "name": "python",
   "nbconvert_exporter": "python",
   "pygments_lexer": "ipython3",
   "version": "3.9.13"
  }
 },
 "nbformat": 4,
 "nbformat_minor": 5
}
