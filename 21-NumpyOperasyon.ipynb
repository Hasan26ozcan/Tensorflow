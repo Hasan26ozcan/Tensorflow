{
 "cells": [
  {
   "cell_type": "code",
   "execution_count": 1,
   "id": "5b9b0ef0",
   "metadata": {},
   "outputs": [],
   "source": [
    "import numpy as np"
   ]
  },
  {
   "cell_type": "code",
   "execution_count": 2,
   "id": "cba26e7f",
   "metadata": {},
   "outputs": [],
   "source": [
    "benimdizim=np.arange(0,15)"
   ]
  },
  {
   "cell_type": "code",
   "execution_count": 3,
   "id": "8f44d4e9",
   "metadata": {},
   "outputs": [
    {
     "data": {
      "text/plain": [
       "array([ 0,  1,  2,  3,  4,  5,  6,  7,  8,  9, 10, 11, 12, 13, 14])"
      ]
     },
     "execution_count": 3,
     "metadata": {},
     "output_type": "execute_result"
    }
   ],
   "source": [
    "benimdizim"
   ]
  },
  {
   "cell_type": "code",
   "execution_count": 4,
   "id": "6f35fed4",
   "metadata": {},
   "outputs": [
    {
     "data": {
      "text/plain": [
       "5"
      ]
     },
     "execution_count": 4,
     "metadata": {},
     "output_type": "execute_result"
    }
   ],
   "source": [
    "benimdizim[5]"
   ]
  },
  {
   "cell_type": "code",
   "execution_count": 6,
   "id": "5ab450b1",
   "metadata": {},
   "outputs": [
    {
     "data": {
      "text/plain": [
       "array([3, 4, 5, 6, 7])"
      ]
     },
     "execution_count": 6,
     "metadata": {},
     "output_type": "execute_result"
    }
   ],
   "source": [
    "benimdizim[3:8]"
   ]
  },
  {
   "cell_type": "code",
   "execution_count": 7,
   "id": "d14f7540",
   "metadata": {},
   "outputs": [],
   "source": [
    "benimdizim[3:8]=-5"
   ]
  },
  {
   "cell_type": "code",
   "execution_count": 8,
   "id": "91b888da",
   "metadata": {},
   "outputs": [
    {
     "data": {
      "text/plain": [
       "array([ 0,  1,  2, -5, -5, -5, -5, -5,  8,  9, 10, 11, 12, 13, 14])"
      ]
     },
     "execution_count": 8,
     "metadata": {},
     "output_type": "execute_result"
    }
   ],
   "source": [
    "benimdizim"
   ]
  },
  {
   "cell_type": "code",
   "execution_count": 9,
   "id": "2abb984f",
   "metadata": {},
   "outputs": [],
   "source": [
    "baskadizi=np.arange(0,24)"
   ]
  },
  {
   "cell_type": "code",
   "execution_count": 10,
   "id": "d6e5c164",
   "metadata": {},
   "outputs": [
    {
     "data": {
      "text/plain": [
       "array([ 0,  1,  2,  3,  4,  5,  6,  7,  8,  9, 10, 11, 12, 13, 14, 15, 16,\n",
       "       17, 18, 19, 20, 21, 22, 23])"
      ]
     },
     "execution_count": 10,
     "metadata": {},
     "output_type": "execute_result"
    }
   ],
   "source": [
    "baskadizi"
   ]
  },
  {
   "cell_type": "code",
   "execution_count": 12,
   "id": "733f5263",
   "metadata": {},
   "outputs": [],
   "source": [
    "silicingdizisi=baskadizi[4:9]"
   ]
  },
  {
   "cell_type": "code",
   "execution_count": 13,
   "id": "b95b885d",
   "metadata": {},
   "outputs": [
    {
     "data": {
      "text/plain": [
       "array([ 0,  1,  2,  3,  4,  5,  6,  7,  8,  9, 10, 11, 12, 13, 14, 15, 16,\n",
       "       17, 18, 19, 20, 21, 22, 23])"
      ]
     },
     "execution_count": 13,
     "metadata": {},
     "output_type": "execute_result"
    }
   ],
   "source": [
    "baskadizi"
   ]
  },
  {
   "cell_type": "code",
   "execution_count": 18,
   "id": "df7849b5",
   "metadata": {},
   "outputs": [],
   "source": [
    "silicingdizisi[:]=-5"
   ]
  },
  {
   "cell_type": "code",
   "execution_count": 19,
   "id": "8b1778ec",
   "metadata": {},
   "outputs": [
    {
     "data": {
      "text/plain": [
       "array([-5, -5, -5, -5, -5])"
      ]
     },
     "execution_count": 19,
     "metadata": {},
     "output_type": "execute_result"
    }
   ],
   "source": [
    "silicingdizisi"
   ]
  },
  {
   "cell_type": "code",
   "execution_count": 20,
   "id": "1a68e7e9",
   "metadata": {},
   "outputs": [
    {
     "data": {
      "text/plain": [
       "array([ 0,  1,  2,  3, -5, -5, -5, -5, -5,  9, 10, 11, 12, 13, 14, 15, 16,\n",
       "       17, 18, 19, 20, 21, 22, 23])"
      ]
     },
     "execution_count": 20,
     "metadata": {},
     "output_type": "execute_result"
    }
   ],
   "source": [
    "baskadizi"
   ]
  },
  {
   "cell_type": "code",
   "execution_count": 21,
   "id": "0912e817",
   "metadata": {},
   "outputs": [],
   "source": [
    "ornekdizi=np.arange(0,24)"
   ]
  },
  {
   "cell_type": "code",
   "execution_count": 22,
   "id": "6b410916",
   "metadata": {},
   "outputs": [],
   "source": [
    "ornekdizikopyası=ornekdizi.copy()"
   ]
  },
  {
   "cell_type": "code",
   "execution_count": 23,
   "id": "2551fb51",
   "metadata": {},
   "outputs": [
    {
     "data": {
      "text/plain": [
       "array([ 0,  1,  2,  3,  4,  5,  6,  7,  8,  9, 10, 11, 12, 13, 14, 15, 16,\n",
       "       17, 18, 19, 20, 21, 22, 23])"
      ]
     },
     "execution_count": 23,
     "metadata": {},
     "output_type": "execute_result"
    }
   ],
   "source": [
    "ornekdizikopyası"
   ]
  },
  {
   "cell_type": "code",
   "execution_count": 24,
   "id": "dc2220ac",
   "metadata": {},
   "outputs": [
    {
     "data": {
      "text/plain": [
       "array([ 0,  1,  2,  3,  4,  5,  6,  7,  8,  9, 10, 11, 12, 13, 14, 15, 16,\n",
       "       17, 18, 19, 20, 21, 22, 23])"
      ]
     },
     "execution_count": 24,
     "metadata": {},
     "output_type": "execute_result"
    }
   ],
   "source": [
    "ornekdizi"
   ]
  },
  {
   "cell_type": "code",
   "execution_count": 25,
   "id": "122e6209",
   "metadata": {},
   "outputs": [],
   "source": [
    "ornekdizislicingkopyası=ornekdizikopyası[3:6]"
   ]
  },
  {
   "cell_type": "code",
   "execution_count": 26,
   "id": "b7318284",
   "metadata": {},
   "outputs": [
    {
     "data": {
      "text/plain": [
       "array([3, 4, 5])"
      ]
     },
     "execution_count": 26,
     "metadata": {},
     "output_type": "execute_result"
    }
   ],
   "source": [
    "ornekdizislicingkopyası"
   ]
  },
  {
   "cell_type": "code",
   "execution_count": 27,
   "id": "76f883e5",
   "metadata": {},
   "outputs": [],
   "source": [
    "ornekdizislicingkopyası[:]=5"
   ]
  },
  {
   "cell_type": "code",
   "execution_count": 28,
   "id": "9cc179ac",
   "metadata": {},
   "outputs": [
    {
     "data": {
      "text/plain": [
       "array([ 0,  1,  2,  5,  5,  5,  6,  7,  8,  9, 10, 11, 12, 13, 14, 15, 16,\n",
       "       17, 18, 19, 20, 21, 22, 23])"
      ]
     },
     "execution_count": 28,
     "metadata": {},
     "output_type": "execute_result"
    }
   ],
   "source": [
    "ornekdizikopyası"
   ]
  },
  {
   "cell_type": "code",
   "execution_count": 29,
   "id": "ab97f08b",
   "metadata": {},
   "outputs": [
    {
     "data": {
      "text/plain": [
       "array([ 0,  1,  2,  3,  4,  5,  6,  7,  8,  9, 10, 11, 12, 13, 14, 15, 16,\n",
       "       17, 18, 19, 20, 21, 22, 23])"
      ]
     },
     "execution_count": 29,
     "metadata": {},
     "output_type": "execute_result"
    }
   ],
   "source": [
    "ornekdizi"
   ]
  },
  {
   "cell_type": "markdown",
   "id": "fdc1f916",
   "metadata": {},
   "source": [
    "## Matrix"
   ]
  },
  {
   "cell_type": "code",
   "execution_count": 33,
   "id": "46ebb7ac",
   "metadata": {},
   "outputs": [],
   "source": [
    "benimlistem=[[10,20,30],[40,50,60],[70,80,90]]\n",
    "benimMatrixDizisi=np.array(benimlistem)"
   ]
  },
  {
   "cell_type": "code",
   "execution_count": 34,
   "id": "081c19d4",
   "metadata": {},
   "outputs": [
    {
     "data": {
      "text/plain": [
       "array([[10, 20, 30],\n",
       "       [40, 50, 60],\n",
       "       [70, 80, 90]])"
      ]
     },
     "execution_count": 34,
     "metadata": {},
     "output_type": "execute_result"
    }
   ],
   "source": [
    "benimMatrixDizisi"
   ]
  },
  {
   "cell_type": "code",
   "execution_count": 35,
   "id": "5b94de1f",
   "metadata": {},
   "outputs": [
    {
     "data": {
      "text/plain": [
       "array([10, 20, 30])"
      ]
     },
     "execution_count": 35,
     "metadata": {},
     "output_type": "execute_result"
    }
   ],
   "source": [
    "benimMatrixDizisi[0]"
   ]
  },
  {
   "cell_type": "code",
   "execution_count": 36,
   "id": "f9339716",
   "metadata": {},
   "outputs": [
    {
     "data": {
      "text/plain": [
       "60"
      ]
     },
     "execution_count": 36,
     "metadata": {},
     "output_type": "execute_result"
    }
   ],
   "source": [
    "benimMatrixDizisi[1][2]"
   ]
  },
  {
   "cell_type": "code",
   "execution_count": 40,
   "id": "526e01ea",
   "metadata": {},
   "outputs": [
    {
     "data": {
      "text/plain": [
       "60"
      ]
     },
     "execution_count": 40,
     "metadata": {},
     "output_type": "execute_result"
    }
   ],
   "source": [
    "benimMatrixDizisi[1,2]"
   ]
  },
  {
   "cell_type": "code",
   "execution_count": 41,
   "id": "0185b7d8",
   "metadata": {},
   "outputs": [
    {
     "data": {
      "text/plain": [
       "array([60, 90])"
      ]
     },
     "execution_count": 41,
     "metadata": {},
     "output_type": "execute_result"
    }
   ],
   "source": [
    "benimMatrixDizisi[1:,2]"
   ]
  },
  {
   "cell_type": "code",
   "execution_count": 43,
   "id": "0d83ec33",
   "metadata": {},
   "outputs": [
    {
     "data": {
      "text/plain": [
       "array([[90]])"
      ]
     },
     "execution_count": 43,
     "metadata": {},
     "output_type": "execute_result"
    }
   ],
   "source": [
    "benimMatrixDizisi[2:,2:]"
   ]
  },
  {
   "cell_type": "code",
   "execution_count": 44,
   "id": "2d62066f",
   "metadata": {},
   "outputs": [],
   "source": [
    "yenimatrix=np.arange(0,25).reshape(5,5)"
   ]
  },
  {
   "cell_type": "code",
   "execution_count": 45,
   "id": "aa522ba9",
   "metadata": {},
   "outputs": [
    {
     "data": {
      "text/plain": [
       "array([[ 0,  1,  2,  3,  4],\n",
       "       [ 5,  6,  7,  8,  9],\n",
       "       [10, 11, 12, 13, 14],\n",
       "       [15, 16, 17, 18, 19],\n",
       "       [20, 21, 22, 23, 24]])"
      ]
     },
     "execution_count": 45,
     "metadata": {},
     "output_type": "execute_result"
    }
   ],
   "source": [
    "yenimatrix"
   ]
  },
  {
   "cell_type": "code",
   "execution_count": 46,
   "id": "f68b99dc",
   "metadata": {},
   "outputs": [
    {
     "data": {
      "text/plain": [
       "array([[ 0,  1,  2,  3,  4],\n",
       "       [10, 11, 12, 13, 14],\n",
       "       [20, 21, 22, 23, 24]])"
      ]
     },
     "execution_count": 46,
     "metadata": {},
     "output_type": "execute_result"
    }
   ],
   "source": [
    "yenimatrix[[0,2,4]]"
   ]
  },
  {
   "cell_type": "code",
   "execution_count": 47,
   "id": "0ccea94b",
   "metadata": {},
   "outputs": [
    {
     "data": {
      "text/plain": [
       "array([[20, 21, 22, 23, 24],\n",
       "       [10, 11, 12, 13, 14],\n",
       "       [ 0,  1,  2,  3,  4]])"
      ]
     },
     "execution_count": 47,
     "metadata": {},
     "output_type": "execute_result"
    }
   ],
   "source": [
    "yenimatrix[[4,2,0]]"
   ]
  },
  {
   "cell_type": "markdown",
   "id": "e56e72b1",
   "metadata": {},
   "source": [
    "## operasyonlar"
   ]
  },
  {
   "cell_type": "code",
   "execution_count": 52,
   "id": "5ec02816",
   "metadata": {},
   "outputs": [],
   "source": [
    "yenibirdizi=np.random.randint(0,100,20)"
   ]
  },
  {
   "cell_type": "code",
   "execution_count": 53,
   "id": "7ca2a176",
   "metadata": {},
   "outputs": [
    {
     "data": {
      "text/plain": [
       "array([64, 12, 55, 87, 19, 31, 77, 69, 85, 51, 24, 94, 89, 35, 23, 61, 42,\n",
       "       88, 10, 79])"
      ]
     },
     "execution_count": 53,
     "metadata": {},
     "output_type": "execute_result"
    }
   ],
   "source": [
    "yenibirdizi"
   ]
  },
  {
   "cell_type": "code",
   "execution_count": 58,
   "id": "79756a11",
   "metadata": {},
   "outputs": [],
   "source": [
    "sonucdizisi=yenibirdizi>24"
   ]
  },
  {
   "cell_type": "code",
   "execution_count": 59,
   "id": "c7b58cdc",
   "metadata": {},
   "outputs": [
    {
     "data": {
      "text/plain": [
       "array([ True, False,  True,  True, False,  True,  True,  True,  True,\n",
       "        True, False,  True,  True,  True, False,  True,  True,  True,\n",
       "       False,  True])"
      ]
     },
     "execution_count": 59,
     "metadata": {},
     "output_type": "execute_result"
    }
   ],
   "source": [
    "sonucdizisi"
   ]
  },
  {
   "cell_type": "code",
   "execution_count": 60,
   "id": "46c53c82",
   "metadata": {},
   "outputs": [
    {
     "data": {
      "text/plain": [
       "array([64, 12, 55, 87, 19, 31, 77, 69, 85, 51, 24, 94, 89, 35, 23, 61, 42,\n",
       "       88, 10, 79])"
      ]
     },
     "execution_count": 60,
     "metadata": {},
     "output_type": "execute_result"
    }
   ],
   "source": [
    "yenibirdizi"
   ]
  },
  {
   "cell_type": "code",
   "execution_count": 61,
   "id": "ebe05835",
   "metadata": {},
   "outputs": [
    {
     "data": {
      "text/plain": [
       "array([64, 55, 87, 31, 77, 69, 85, 51, 94, 89, 35, 61, 42, 88, 79])"
      ]
     },
     "execution_count": 61,
     "metadata": {},
     "output_type": "execute_result"
    }
   ],
   "source": [
    "yenibirdizi[sonucdizisi]"
   ]
  },
  {
   "cell_type": "code",
   "execution_count": 62,
   "id": "bcacfc26",
   "metadata": {},
   "outputs": [],
   "source": [
    "sondizi=np.arange(0,24)"
   ]
  },
  {
   "cell_type": "code",
   "execution_count": 63,
   "id": "941b1d76",
   "metadata": {},
   "outputs": [
    {
     "data": {
      "text/plain": [
       "array([ 0,  1,  2,  3,  4,  5,  6,  7,  8,  9, 10, 11, 12, 13, 14, 15, 16,\n",
       "       17, 18, 19, 20, 21, 22, 23])"
      ]
     },
     "execution_count": 63,
     "metadata": {},
     "output_type": "execute_result"
    }
   ],
   "source": [
    "sondizi"
   ]
  },
  {
   "cell_type": "code",
   "execution_count": 64,
   "id": "ee3d3446",
   "metadata": {},
   "outputs": [
    {
     "data": {
      "text/plain": [
       "array([ 0,  2,  4,  6,  8, 10, 12, 14, 16, 18, 20, 22, 24, 26, 28, 30, 32,\n",
       "       34, 36, 38, 40, 42, 44, 46])"
      ]
     },
     "execution_count": 64,
     "metadata": {},
     "output_type": "execute_result"
    }
   ],
   "source": [
    "sondizi+sondizi"
   ]
  },
  {
   "cell_type": "code",
   "execution_count": 65,
   "id": "b49fd9eb",
   "metadata": {},
   "outputs": [
    {
     "data": {
      "text/plain": [
       "array([  0,   1,   4,   9,  16,  25,  36,  49,  64,  81, 100, 121, 144,\n",
       "       169, 196, 225, 256, 289, 324, 361, 400, 441, 484, 529])"
      ]
     },
     "execution_count": 65,
     "metadata": {},
     "output_type": "execute_result"
    }
   ],
   "source": [
    "sondizi*sondizi"
   ]
  },
  {
   "cell_type": "code",
   "execution_count": 66,
   "id": "2f3770ca",
   "metadata": {},
   "outputs": [
    {
     "name": "stderr",
     "output_type": "stream",
     "text": [
      "C:\\Users\\Hasan Özcan\\AppData\\Local\\Temp\\ipykernel_3624\\2654503216.py:1: RuntimeWarning: invalid value encountered in divide\n",
      "  sondizi/sondizi\n"
     ]
    },
    {
     "data": {
      "text/plain": [
       "array([nan,  1.,  1.,  1.,  1.,  1.,  1.,  1.,  1.,  1.,  1.,  1.,  1.,\n",
       "        1.,  1.,  1.,  1.,  1.,  1.,  1.,  1.,  1.,  1.,  1.])"
      ]
     },
     "execution_count": 66,
     "metadata": {},
     "output_type": "execute_result"
    }
   ],
   "source": [
    "sondizi/sondizi # 0/0  is a problem"
   ]
  },
  {
   "cell_type": "code",
   "execution_count": 67,
   "id": "e838941f",
   "metadata": {},
   "outputs": [
    {
     "data": {
      "text/plain": [
       "array([0.        , 1.        , 1.41421356, 1.73205081, 2.        ,\n",
       "       2.23606798, 2.44948974, 2.64575131, 2.82842712, 3.        ,\n",
       "       3.16227766, 3.31662479, 3.46410162, 3.60555128, 3.74165739,\n",
       "       3.87298335, 4.        , 4.12310563, 4.24264069, 4.35889894,\n",
       "       4.47213595, 4.58257569, 4.69041576, 4.79583152])"
      ]
     },
     "execution_count": 67,
     "metadata": {},
     "output_type": "execute_result"
    }
   ],
   "source": [
    "np.sqrt(sondizi)"
   ]
  },
  {
   "cell_type": "code",
   "execution_count": 68,
   "id": "3bfaf1b2",
   "metadata": {},
   "outputs": [
    {
     "data": {
      "text/plain": [
       "23"
      ]
     },
     "execution_count": 68,
     "metadata": {},
     "output_type": "execute_result"
    }
   ],
   "source": [
    "np.max(sondizi)"
   ]
  },
  {
   "cell_type": "code",
   "execution_count": 69,
   "id": "9c8583a2",
   "metadata": {},
   "outputs": [
    {
     "data": {
      "text/plain": [
       "0"
      ]
     },
     "execution_count": 69,
     "metadata": {},
     "output_type": "execute_result"
    }
   ],
   "source": [
    "np.min(sondizi)"
   ]
  },
  {
   "cell_type": "code",
   "execution_count": null,
   "id": "bd82390a",
   "metadata": {},
   "outputs": [],
   "source": []
  }
 ],
 "metadata": {
  "kernelspec": {
   "display_name": "Python 3 (ipykernel)",
   "language": "python",
   "name": "python3"
  },
  "language_info": {
   "codemirror_mode": {
    "name": "ipython",
    "version": 3
   },
   "file_extension": ".py",
   "mimetype": "text/x-python",
   "name": "python",
   "nbconvert_exporter": "python",
   "pygments_lexer": "ipython3",
   "version": "3.9.13"
  }
 },
 "nbformat": 4,
 "nbformat_minor": 5
}
