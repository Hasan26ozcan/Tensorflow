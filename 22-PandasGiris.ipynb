{
 "cells": [
  {
   "cell_type": "code",
   "execution_count": 2,
   "id": "152219c6",
   "metadata": {},
   "outputs": [],
   "source": [
    "import numpy as np\n",
    "import pandas as pd"
   ]
  },
  {
   "cell_type": "markdown",
   "id": "e05427ef",
   "metadata": {},
   "source": [
    "## Series"
   ]
  },
  {
   "cell_type": "code",
   "execution_count": 5,
   "id": "d526575b",
   "metadata": {},
   "outputs": [],
   "source": [
    "benimsozlugum={\"atıl\":50,\"zeynep\":40,\"mehmet\":30}"
   ]
  },
  {
   "cell_type": "code",
   "execution_count": 6,
   "id": "29c70095",
   "metadata": {},
   "outputs": [
    {
     "data": {
      "text/plain": [
       "atıl      50\n",
       "zeynep    40\n",
       "mehmet    30\n",
       "dtype: int64"
      ]
     },
     "execution_count": 6,
     "metadata": {},
     "output_type": "execute_result"
    }
   ],
   "source": [
    "pd.Series(benimsozlugum)"
   ]
  },
  {
   "cell_type": "code",
   "execution_count": 7,
   "id": "7179b3e0",
   "metadata": {},
   "outputs": [],
   "source": [
    "benimlistem=[50,40,30]\n",
    "benimislerim=[\"Hasan\",\"Özcan\",\"Mehmet\"]"
   ]
  },
  {
   "cell_type": "code",
   "execution_count": 8,
   "id": "79ea825c",
   "metadata": {},
   "outputs": [
    {
     "data": {
      "text/plain": [
       "0    50\n",
       "1    40\n",
       "2    30\n",
       "dtype: int64"
      ]
     },
     "execution_count": 8,
     "metadata": {},
     "output_type": "execute_result"
    }
   ],
   "source": [
    "pd.Series(benimlistem)"
   ]
  },
  {
   "cell_type": "code",
   "execution_count": 10,
   "id": "9f3d4a6b",
   "metadata": {},
   "outputs": [
    {
     "data": {
      "text/plain": [
       "50     Hasan\n",
       "40     Özcan\n",
       "30    Mehmet\n",
       "dtype: object"
      ]
     },
     "execution_count": 10,
     "metadata": {},
     "output_type": "execute_result"
    }
   ],
   "source": [
    "pd.Series(benimislerim,benimlistem)"
   ]
  },
  {
   "cell_type": "code",
   "execution_count": 11,
   "id": "3a509269",
   "metadata": {},
   "outputs": [
    {
     "data": {
      "text/plain": [
       "Hasan     50\n",
       "Özcan     40\n",
       "Mehmet    30\n",
       "dtype: int64"
      ]
     },
     "execution_count": 11,
     "metadata": {},
     "output_type": "execute_result"
    }
   ],
   "source": [
    "pd.Series(data=benimlistem,index=benimislerim)"
   ]
  },
  {
   "cell_type": "code",
   "execution_count": 12,
   "id": "7cd3c9ba",
   "metadata": {},
   "outputs": [],
   "source": [
    "numpydizisi=np.array([50,40,30])"
   ]
  },
  {
   "cell_type": "code",
   "execution_count": 13,
   "id": "8208d049",
   "metadata": {},
   "outputs": [
    {
     "data": {
      "text/plain": [
       "array([50, 40, 30])"
      ]
     },
     "execution_count": 13,
     "metadata": {},
     "output_type": "execute_result"
    }
   ],
   "source": [
    "numpydizisi"
   ]
  },
  {
   "cell_type": "code",
   "execution_count": 14,
   "id": "0b82aa44",
   "metadata": {},
   "outputs": [
    {
     "data": {
      "text/plain": [
       "0    50\n",
       "1    40\n",
       "2    30\n",
       "dtype: int32"
      ]
     },
     "execution_count": 14,
     "metadata": {},
     "output_type": "execute_result"
    }
   ],
   "source": [
    "pd.Series(numpydizisi)"
   ]
  },
  {
   "cell_type": "code",
   "execution_count": 15,
   "id": "cbb319c1",
   "metadata": {},
   "outputs": [
    {
     "data": {
      "text/plain": [
       "Hasan     50\n",
       "Özcan     40\n",
       "Mehmet    30\n",
       "dtype: int32"
      ]
     },
     "execution_count": 15,
     "metadata": {},
     "output_type": "execute_result"
    }
   ],
   "source": [
    "pd.Series(numpydizisi,index=benimislerim)"
   ]
  },
  {
   "cell_type": "code",
   "execution_count": 19,
   "id": "ef1115a1",
   "metadata": {},
   "outputs": [
    {
     "data": {
      "text/plain": [
       "1     Hasan\n",
       "2     Özcan\n",
       "3    Mehmet\n",
       "4       Ali\n",
       "dtype: object"
      ]
     },
     "execution_count": 19,
     "metadata": {},
     "output_type": "execute_result"
    }
   ],
   "source": [
    "pd.Series(data=[\"Hasan\",\"Özcan\",\"Mehmet\",\"Ali\"],index=[1,2,3,4])"
   ]
  },
  {
   "cell_type": "code",
   "execution_count": 22,
   "id": "9a9b6e6f",
   "metadata": {},
   "outputs": [],
   "source": [
    "yarısmasonucu1=pd.Series([10,5,1],[\"Hasan\",\"Özcan\",\"Mehmet\"])"
   ]
  },
  {
   "cell_type": "code",
   "execution_count": 23,
   "id": "78a09c34",
   "metadata": {},
   "outputs": [
    {
     "data": {
      "text/plain": [
       "Hasan     10\n",
       "Özcan      5\n",
       "Mehmet     1\n",
       "dtype: int64"
      ]
     },
     "execution_count": 23,
     "metadata": {},
     "output_type": "execute_result"
    }
   ],
   "source": [
    "yarısmasonucu1"
   ]
  },
  {
   "cell_type": "code",
   "execution_count": 49,
   "id": "58ac8d96",
   "metadata": {},
   "outputs": [],
   "source": [
    "yarısmasonucu2=pd.Series([10,20,8],[\"Özcan\",\"Hasan\",\"Mehmet\"])"
   ]
  },
  {
   "cell_type": "code",
   "execution_count": 50,
   "id": "b6df1604",
   "metadata": {},
   "outputs": [
    {
     "data": {
      "text/plain": [
       "Özcan     10\n",
       "Hasan     20\n",
       "Mehmet     8\n",
       "dtype: int64"
      ]
     },
     "execution_count": 50,
     "metadata": {},
     "output_type": "execute_result"
    }
   ],
   "source": [
    "yarısmasonucu2"
   ]
  },
  {
   "cell_type": "code",
   "execution_count": 51,
   "id": "8f42bfab",
   "metadata": {},
   "outputs": [
    {
     "data": {
      "text/plain": [
       "8"
      ]
     },
     "execution_count": 51,
     "metadata": {},
     "output_type": "execute_result"
    }
   ],
   "source": [
    " yarısmasonucu2[\"Mehmet\"]"
   ]
  },
  {
   "cell_type": "code",
   "execution_count": 52,
   "id": "92482b97",
   "metadata": {},
   "outputs": [
    {
     "data": {
      "text/plain": [
       "10"
      ]
     },
     "execution_count": 52,
     "metadata": {},
     "output_type": "execute_result"
    }
   ],
   "source": [
    "yarısmasonucu2[0]"
   ]
  },
  {
   "cell_type": "code",
   "execution_count": 53,
   "id": "8eddf09d",
   "metadata": {},
   "outputs": [],
   "source": [
    "sonuc=yarısmasonucu1+yarısmasonucu2"
   ]
  },
  {
   "cell_type": "code",
   "execution_count": 54,
   "id": "83f3666e",
   "metadata": {},
   "outputs": [
    {
     "data": {
      "text/plain": [
       "Hasan     30\n",
       "Mehmet     9\n",
       "Özcan     15\n",
       "dtype: int64"
      ]
     },
     "execution_count": 54,
     "metadata": {},
     "output_type": "execute_result"
    }
   ],
   "source": [
    "sonuc"
   ]
  },
  {
   "cell_type": "code",
   "execution_count": 57,
   "id": "b6b9ca0e",
   "metadata": {},
   "outputs": [],
   "source": [
    "farkliSeries1=pd.Series([20,30,40,50],[\"a\",\"b\",\"c\",\"d\"])"
   ]
  },
  {
   "cell_type": "code",
   "execution_count": 58,
   "id": "bd5c44ac",
   "metadata": {},
   "outputs": [],
   "source": [
    "farkliSeries2=pd.Series([10,5,3,1],[\"a\",\"c\",\"f\",\"g\"])"
   ]
  },
  {
   "cell_type": "code",
   "execution_count": 59,
   "id": "0d906f4f",
   "metadata": {},
   "outputs": [],
   "source": [
    "sonucdeger=farkliSeries1+farkliSeries2"
   ]
  },
  {
   "cell_type": "code",
   "execution_count": 61,
   "id": "2612f1eb",
   "metadata": {},
   "outputs": [
    {
     "data": {
      "text/plain": [
       "a    20\n",
       "b    30\n",
       "c    40\n",
       "d    50\n",
       "dtype: int64"
      ]
     },
     "execution_count": 61,
     "metadata": {},
     "output_type": "execute_result"
    }
   ],
   "source": [
    "farkliSeries1"
   ]
  },
  {
   "cell_type": "code",
   "execution_count": 62,
   "id": "dff71d12",
   "metadata": {},
   "outputs": [
    {
     "data": {
      "text/plain": [
       "a    10\n",
       "c     5\n",
       "f     3\n",
       "g     1\n",
       "dtype: int64"
      ]
     },
     "execution_count": 62,
     "metadata": {},
     "output_type": "execute_result"
    }
   ],
   "source": [
    "farkliSeries2"
   ]
  },
  {
   "cell_type": "code",
   "execution_count": 60,
   "id": "c9fb288b",
   "metadata": {
    "scrolled": true
   },
   "outputs": [
    {
     "data": {
      "text/plain": [
       "a    30.0\n",
       "b     NaN\n",
       "c    45.0\n",
       "d     NaN\n",
       "f     NaN\n",
       "g     NaN\n",
       "dtype: float64"
      ]
     },
     "execution_count": 60,
     "metadata": {},
     "output_type": "execute_result"
    }
   ],
   "source": [
    "sonucdeger"
   ]
  }
 ],
 "metadata": {
  "kernelspec": {
   "display_name": "Python 3 (ipykernel)",
   "language": "python",
   "name": "python3"
  },
  "language_info": {
   "codemirror_mode": {
    "name": "ipython",
    "version": 3
   },
   "file_extension": ".py",
   "mimetype": "text/x-python",
   "name": "python",
   "nbconvert_exporter": "python",
   "pygments_lexer": "ipython3",
   "version": "3.9.13"
  }
 },
 "nbformat": 4,
 "nbformat_minor": 5
}
