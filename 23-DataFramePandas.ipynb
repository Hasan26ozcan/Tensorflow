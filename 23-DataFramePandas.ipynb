{
 "cells": [
  {
   "cell_type": "code",
   "execution_count": 1,
   "id": "fcf96850",
   "metadata": {},
   "outputs": [],
   "source": [
    "import numpy as np\n",
    "import pandas as pd"
   ]
  },
  {
   "cell_type": "code",
   "execution_count": 4,
   "id": "2d52240d",
   "metadata": {},
   "outputs": [],
   "source": [
    "data=np.random.randn(3,4)"
   ]
  },
  {
   "cell_type": "code",
   "execution_count": 5,
   "id": "454f0079",
   "metadata": {},
   "outputs": [
    {
     "data": {
      "text/plain": [
       "array([[-0.92555735,  0.52635813, -0.25268545,  0.17655434],\n",
       "       [-1.46193303,  0.52637357, -0.69349777,  0.20344233],\n",
       "       [-1.25803716,  0.35544713,  0.051229  ,  1.31217729]])"
      ]
     },
     "execution_count": 5,
     "metadata": {},
     "output_type": "execute_result"
    }
   ],
   "source": [
    "data"
   ]
  },
  {
   "cell_type": "code",
   "execution_count": 6,
   "id": "c2038b9d",
   "metadata": {},
   "outputs": [],
   "source": [
    "dataFrame=pd.DataFrame(data)"
   ]
  },
  {
   "cell_type": "code",
   "execution_count": 7,
   "id": "0a72a24b",
   "metadata": {},
   "outputs": [
    {
     "data": {
      "text/html": [
       "<div>\n",
       "<style scoped>\n",
       "    .dataframe tbody tr th:only-of-type {\n",
       "        vertical-align: middle;\n",
       "    }\n",
       "\n",
       "    .dataframe tbody tr th {\n",
       "        vertical-align: top;\n",
       "    }\n",
       "\n",
       "    .dataframe thead th {\n",
       "        text-align: right;\n",
       "    }\n",
       "</style>\n",
       "<table border=\"1\" class=\"dataframe\">\n",
       "  <thead>\n",
       "    <tr style=\"text-align: right;\">\n",
       "      <th></th>\n",
       "      <th>0</th>\n",
       "      <th>1</th>\n",
       "      <th>2</th>\n",
       "      <th>3</th>\n",
       "    </tr>\n",
       "  </thead>\n",
       "  <tbody>\n",
       "    <tr>\n",
       "      <th>0</th>\n",
       "      <td>-0.925557</td>\n",
       "      <td>0.526358</td>\n",
       "      <td>-0.252685</td>\n",
       "      <td>0.176554</td>\n",
       "    </tr>\n",
       "    <tr>\n",
       "      <th>1</th>\n",
       "      <td>-1.461933</td>\n",
       "      <td>0.526374</td>\n",
       "      <td>-0.693498</td>\n",
       "      <td>0.203442</td>\n",
       "    </tr>\n",
       "    <tr>\n",
       "      <th>2</th>\n",
       "      <td>-1.258037</td>\n",
       "      <td>0.355447</td>\n",
       "      <td>0.051229</td>\n",
       "      <td>1.312177</td>\n",
       "    </tr>\n",
       "  </tbody>\n",
       "</table>\n",
       "</div>"
      ],
      "text/plain": [
       "          0         1         2         3\n",
       "0 -0.925557  0.526358 -0.252685  0.176554\n",
       "1 -1.461933  0.526374 -0.693498  0.203442\n",
       "2 -1.258037  0.355447  0.051229  1.312177"
      ]
     },
     "execution_count": 7,
     "metadata": {},
     "output_type": "execute_result"
    }
   ],
   "source": [
    "dataFrame"
   ]
  },
  {
   "cell_type": "code",
   "execution_count": 8,
   "id": "85c10797",
   "metadata": {},
   "outputs": [
    {
     "data": {
      "text/plain": [
       "0   -0.925557\n",
       "1   -1.461933\n",
       "2   -1.258037\n",
       "Name: 0, dtype: float64"
      ]
     },
     "execution_count": 8,
     "metadata": {},
     "output_type": "execute_result"
    }
   ],
   "source": [
    "dataFrame[0]"
   ]
  },
  {
   "cell_type": "code",
   "execution_count": 9,
   "id": "6ba68414",
   "metadata": {},
   "outputs": [
    {
     "data": {
      "text/plain": [
       "pandas.core.series.Series"
      ]
     },
     "execution_count": 9,
     "metadata": {},
     "output_type": "execute_result"
    }
   ],
   "source": [
    "type(dataFrame[0])"
   ]
  },
  {
   "cell_type": "code",
   "execution_count": 105,
   "id": "4e6a17d4",
   "metadata": {},
   "outputs": [],
   "source": [
    "yeniDataFrame=pd.DataFrame(data,index=[\"Hasan\",\"Ozcan\",\"Mehmet\"],columns=[\"maas\",\"yas\",\"calisma\",\"sure\"])"
   ]
  },
  {
   "cell_type": "code",
   "execution_count": 89,
   "id": "2d09d1da",
   "metadata": {},
   "outputs": [
    {
     "data": {
      "text/html": [
       "<div>\n",
       "<style scoped>\n",
       "    .dataframe tbody tr th:only-of-type {\n",
       "        vertical-align: middle;\n",
       "    }\n",
       "\n",
       "    .dataframe tbody tr th {\n",
       "        vertical-align: top;\n",
       "    }\n",
       "\n",
       "    .dataframe thead th {\n",
       "        text-align: right;\n",
       "    }\n",
       "</style>\n",
       "<table border=\"1\" class=\"dataframe\">\n",
       "  <thead>\n",
       "    <tr style=\"text-align: right;\">\n",
       "      <th></th>\n",
       "      <th>maas</th>\n",
       "      <th>yas</th>\n",
       "      <th>calisma</th>\n",
       "      <th>sure</th>\n",
       "    </tr>\n",
       "  </thead>\n",
       "  <tbody>\n",
       "    <tr>\n",
       "      <th>Hasan</th>\n",
       "      <td>-0.925557</td>\n",
       "      <td>0.526358</td>\n",
       "      <td>-0.252685</td>\n",
       "      <td>0.176554</td>\n",
       "    </tr>\n",
       "    <tr>\n",
       "      <th>Özcan</th>\n",
       "      <td>-1.461933</td>\n",
       "      <td>0.526374</td>\n",
       "      <td>-0.693498</td>\n",
       "      <td>0.203442</td>\n",
       "    </tr>\n",
       "    <tr>\n",
       "      <th>Mehmet</th>\n",
       "      <td>-1.258037</td>\n",
       "      <td>0.355447</td>\n",
       "      <td>0.051229</td>\n",
       "      <td>1.312177</td>\n",
       "    </tr>\n",
       "  </tbody>\n",
       "</table>\n",
       "</div>"
      ],
      "text/plain": [
       "            maas       yas   calisma      sure\n",
       "Hasan  -0.925557  0.526358 -0.252685  0.176554\n",
       "Özcan  -1.461933  0.526374 -0.693498  0.203442\n",
       "Mehmet -1.258037  0.355447  0.051229  1.312177"
      ]
     },
     "execution_count": 89,
     "metadata": {},
     "output_type": "execute_result"
    }
   ],
   "source": [
    "yeniDataFrame"
   ]
  },
  {
   "cell_type": "code",
   "execution_count": 90,
   "id": "1d932cbc",
   "metadata": {},
   "outputs": [
    {
     "data": {
      "text/plain": [
       "Hasan    -0.925557\n",
       "Özcan    -1.461933\n",
       "Mehmet   -1.258037\n",
       "Name: maas, dtype: float64"
      ]
     },
     "execution_count": 90,
     "metadata": {},
     "output_type": "execute_result"
    }
   ],
   "source": [
    "yeniDataFrame[\"maas\"]"
   ]
  },
  {
   "cell_type": "code",
   "execution_count": 91,
   "id": "c237706c",
   "metadata": {},
   "outputs": [
    {
     "data": {
      "text/plain": [
       "Hasan    -0.252685\n",
       "Özcan    -0.693498\n",
       "Mehmet    0.051229\n",
       "Name: calisma, dtype: float64"
      ]
     },
     "execution_count": 91,
     "metadata": {},
     "output_type": "execute_result"
    }
   ],
   "source": [
    "yeniDataFrame[\"calisma\"]"
   ]
  },
  {
   "cell_type": "code",
   "execution_count": 92,
   "id": "01245822",
   "metadata": {},
   "outputs": [
    {
     "data": {
      "text/html": [
       "<div>\n",
       "<style scoped>\n",
       "    .dataframe tbody tr th:only-of-type {\n",
       "        vertical-align: middle;\n",
       "    }\n",
       "\n",
       "    .dataframe tbody tr th {\n",
       "        vertical-align: top;\n",
       "    }\n",
       "\n",
       "    .dataframe thead th {\n",
       "        text-align: right;\n",
       "    }\n",
       "</style>\n",
       "<table border=\"1\" class=\"dataframe\">\n",
       "  <thead>\n",
       "    <tr style=\"text-align: right;\">\n",
       "      <th></th>\n",
       "      <th>maas</th>\n",
       "      <th>yas</th>\n",
       "    </tr>\n",
       "  </thead>\n",
       "  <tbody>\n",
       "    <tr>\n",
       "      <th>Hasan</th>\n",
       "      <td>-0.925557</td>\n",
       "      <td>0.526358</td>\n",
       "    </tr>\n",
       "    <tr>\n",
       "      <th>Özcan</th>\n",
       "      <td>-1.461933</td>\n",
       "      <td>0.526374</td>\n",
       "    </tr>\n",
       "    <tr>\n",
       "      <th>Mehmet</th>\n",
       "      <td>-1.258037</td>\n",
       "      <td>0.355447</td>\n",
       "    </tr>\n",
       "  </tbody>\n",
       "</table>\n",
       "</div>"
      ],
      "text/plain": [
       "            maas       yas\n",
       "Hasan  -0.925557  0.526358\n",
       "Özcan  -1.461933  0.526374\n",
       "Mehmet -1.258037  0.355447"
      ]
     },
     "execution_count": 92,
     "metadata": {},
     "output_type": "execute_result"
    }
   ],
   "source": [
    "yeniDataFrame[[\"maas\",\"yas\"]]"
   ]
  },
  {
   "cell_type": "code",
   "execution_count": 93,
   "id": "1273327a",
   "metadata": {},
   "outputs": [
    {
     "data": {
      "text/plain": [
       "maas      -0.925557\n",
       "yas        0.526358\n",
       "calisma   -0.252685\n",
       "sure       0.176554\n",
       "Name: Hasan, dtype: float64"
      ]
     },
     "execution_count": 93,
     "metadata": {},
     "output_type": "execute_result"
    }
   ],
   "source": [
    "yeniDataFrame.iloc[0,:] ## index "
   ]
  },
  {
   "cell_type": "code",
   "execution_count": 94,
   "id": "420a8f9a",
   "metadata": {},
   "outputs": [
    {
     "data": {
      "text/plain": [
       "maas      -0.925557\n",
       "yas        0.526358\n",
       "calisma   -0.252685\n",
       "sure       0.176554\n",
       "Name: Hasan, dtype: float64"
      ]
     },
     "execution_count": 94,
     "metadata": {},
     "output_type": "execute_result"
    }
   ],
   "source": [
    "yeniDataFrame.loc[\"Hasan\"] ##key"
   ]
  },
  {
   "cell_type": "code",
   "execution_count": 95,
   "id": "35898b5f",
   "metadata": {},
   "outputs": [
    {
     "data": {
      "text/html": [
       "<div>\n",
       "<style scoped>\n",
       "    .dataframe tbody tr th:only-of-type {\n",
       "        vertical-align: middle;\n",
       "    }\n",
       "\n",
       "    .dataframe tbody tr th {\n",
       "        vertical-align: top;\n",
       "    }\n",
       "\n",
       "    .dataframe thead th {\n",
       "        text-align: right;\n",
       "    }\n",
       "</style>\n",
       "<table border=\"1\" class=\"dataframe\">\n",
       "  <thead>\n",
       "    <tr style=\"text-align: right;\">\n",
       "      <th></th>\n",
       "      <th>maas</th>\n",
       "      <th>yas</th>\n",
       "      <th>calisma</th>\n",
       "      <th>sure</th>\n",
       "    </tr>\n",
       "  </thead>\n",
       "  <tbody>\n",
       "    <tr>\n",
       "      <th>Hasan</th>\n",
       "      <td>-0.925557</td>\n",
       "      <td>0.526358</td>\n",
       "      <td>-0.252685</td>\n",
       "      <td>0.176554</td>\n",
       "    </tr>\n",
       "    <tr>\n",
       "      <th>Özcan</th>\n",
       "      <td>-1.461933</td>\n",
       "      <td>0.526374</td>\n",
       "      <td>-0.693498</td>\n",
       "      <td>0.203442</td>\n",
       "    </tr>\n",
       "    <tr>\n",
       "      <th>Mehmet</th>\n",
       "      <td>-1.258037</td>\n",
       "      <td>0.355447</td>\n",
       "      <td>0.051229</td>\n",
       "      <td>1.312177</td>\n",
       "    </tr>\n",
       "  </tbody>\n",
       "</table>\n",
       "</div>"
      ],
      "text/plain": [
       "            maas       yas   calisma      sure\n",
       "Hasan  -0.925557  0.526358 -0.252685  0.176554\n",
       "Özcan  -1.461933  0.526374 -0.693498  0.203442\n",
       "Mehmet -1.258037  0.355447  0.051229  1.312177"
      ]
     },
     "execution_count": 95,
     "metadata": {},
     "output_type": "execute_result"
    }
   ],
   "source": [
    "yeniDataFrame"
   ]
  },
  {
   "cell_type": "code",
   "execution_count": 96,
   "id": "8baed146",
   "metadata": {},
   "outputs": [],
   "source": [
    "yeniDataFrame[\"emeklilik\"]=yeniDataFrame[\"yas\"]*5"
   ]
  },
  {
   "cell_type": "code",
   "execution_count": 97,
   "id": "fb941f70",
   "metadata": {},
   "outputs": [
    {
     "data": {
      "text/html": [
       "<div>\n",
       "<style scoped>\n",
       "    .dataframe tbody tr th:only-of-type {\n",
       "        vertical-align: middle;\n",
       "    }\n",
       "\n",
       "    .dataframe tbody tr th {\n",
       "        vertical-align: top;\n",
       "    }\n",
       "\n",
       "    .dataframe thead th {\n",
       "        text-align: right;\n",
       "    }\n",
       "</style>\n",
       "<table border=\"1\" class=\"dataframe\">\n",
       "  <thead>\n",
       "    <tr style=\"text-align: right;\">\n",
       "      <th></th>\n",
       "      <th>maas</th>\n",
       "      <th>yas</th>\n",
       "      <th>calisma</th>\n",
       "      <th>sure</th>\n",
       "      <th>emeklilik</th>\n",
       "    </tr>\n",
       "  </thead>\n",
       "  <tbody>\n",
       "    <tr>\n",
       "      <th>Hasan</th>\n",
       "      <td>-0.925557</td>\n",
       "      <td>0.526358</td>\n",
       "      <td>-0.252685</td>\n",
       "      <td>0.176554</td>\n",
       "      <td>2.631791</td>\n",
       "    </tr>\n",
       "    <tr>\n",
       "      <th>Özcan</th>\n",
       "      <td>-1.461933</td>\n",
       "      <td>0.526374</td>\n",
       "      <td>-0.693498</td>\n",
       "      <td>0.203442</td>\n",
       "      <td>2.631868</td>\n",
       "    </tr>\n",
       "    <tr>\n",
       "      <th>Mehmet</th>\n",
       "      <td>-1.258037</td>\n",
       "      <td>0.355447</td>\n",
       "      <td>0.051229</td>\n",
       "      <td>1.312177</td>\n",
       "      <td>1.777236</td>\n",
       "    </tr>\n",
       "  </tbody>\n",
       "</table>\n",
       "</div>"
      ],
      "text/plain": [
       "            maas       yas   calisma      sure  emeklilik\n",
       "Hasan  -0.925557  0.526358 -0.252685  0.176554   2.631791\n",
       "Özcan  -1.461933  0.526374 -0.693498  0.203442   2.631868\n",
       "Mehmet -1.258037  0.355447  0.051229  1.312177   1.777236"
      ]
     },
     "execution_count": 97,
     "metadata": {},
     "output_type": "execute_result"
    }
   ],
   "source": [
    "yeniDataFrame"
   ]
  },
  {
   "cell_type": "code",
   "execution_count": 98,
   "id": "3d93ee0b",
   "metadata": {},
   "outputs": [
    {
     "data": {
      "text/html": [
       "<div>\n",
       "<style scoped>\n",
       "    .dataframe tbody tr th:only-of-type {\n",
       "        vertical-align: middle;\n",
       "    }\n",
       "\n",
       "    .dataframe tbody tr th {\n",
       "        vertical-align: top;\n",
       "    }\n",
       "\n",
       "    .dataframe thead th {\n",
       "        text-align: right;\n",
       "    }\n",
       "</style>\n",
       "<table border=\"1\" class=\"dataframe\">\n",
       "  <thead>\n",
       "    <tr style=\"text-align: right;\">\n",
       "      <th></th>\n",
       "      <th>maas</th>\n",
       "      <th>yas</th>\n",
       "      <th>calisma</th>\n",
       "      <th>sure</th>\n",
       "    </tr>\n",
       "  </thead>\n",
       "  <tbody>\n",
       "    <tr>\n",
       "      <th>Hasan</th>\n",
       "      <td>-0.925557</td>\n",
       "      <td>0.526358</td>\n",
       "      <td>-0.252685</td>\n",
       "      <td>0.176554</td>\n",
       "    </tr>\n",
       "    <tr>\n",
       "      <th>Özcan</th>\n",
       "      <td>-1.461933</td>\n",
       "      <td>0.526374</td>\n",
       "      <td>-0.693498</td>\n",
       "      <td>0.203442</td>\n",
       "    </tr>\n",
       "    <tr>\n",
       "      <th>Mehmet</th>\n",
       "      <td>-1.258037</td>\n",
       "      <td>0.355447</td>\n",
       "      <td>0.051229</td>\n",
       "      <td>1.312177</td>\n",
       "    </tr>\n",
       "  </tbody>\n",
       "</table>\n",
       "</div>"
      ],
      "text/plain": [
       "            maas       yas   calisma      sure\n",
       "Hasan  -0.925557  0.526358 -0.252685  0.176554\n",
       "Özcan  -1.461933  0.526374 -0.693498  0.203442\n",
       "Mehmet -1.258037  0.355447  0.051229  1.312177"
      ]
     },
     "execution_count": 98,
     "metadata": {},
     "output_type": "execute_result"
    }
   ],
   "source": [
    "yeniDataFrame.drop(\"emeklilik\",axis=1)"
   ]
  },
  {
   "cell_type": "code",
   "execution_count": 99,
   "id": "b7234ef5",
   "metadata": {},
   "outputs": [
    {
     "data": {
      "text/html": [
       "<div>\n",
       "<style scoped>\n",
       "    .dataframe tbody tr th:only-of-type {\n",
       "        vertical-align: middle;\n",
       "    }\n",
       "\n",
       "    .dataframe tbody tr th {\n",
       "        vertical-align: top;\n",
       "    }\n",
       "\n",
       "    .dataframe thead th {\n",
       "        text-align: right;\n",
       "    }\n",
       "</style>\n",
       "<table border=\"1\" class=\"dataframe\">\n",
       "  <thead>\n",
       "    <tr style=\"text-align: right;\">\n",
       "      <th></th>\n",
       "      <th>maas</th>\n",
       "      <th>yas</th>\n",
       "      <th>calisma</th>\n",
       "      <th>sure</th>\n",
       "      <th>emeklilik</th>\n",
       "    </tr>\n",
       "  </thead>\n",
       "  <tbody>\n",
       "    <tr>\n",
       "      <th>Hasan</th>\n",
       "      <td>-0.925557</td>\n",
       "      <td>0.526358</td>\n",
       "      <td>-0.252685</td>\n",
       "      <td>0.176554</td>\n",
       "      <td>2.631791</td>\n",
       "    </tr>\n",
       "    <tr>\n",
       "      <th>Özcan</th>\n",
       "      <td>-1.461933</td>\n",
       "      <td>0.526374</td>\n",
       "      <td>-0.693498</td>\n",
       "      <td>0.203442</td>\n",
       "      <td>2.631868</td>\n",
       "    </tr>\n",
       "  </tbody>\n",
       "</table>\n",
       "</div>"
      ],
      "text/plain": [
       "           maas       yas   calisma      sure  emeklilik\n",
       "Hasan -0.925557  0.526358 -0.252685  0.176554   2.631791\n",
       "Özcan -1.461933  0.526374 -0.693498  0.203442   2.631868"
      ]
     },
     "execution_count": 99,
     "metadata": {},
     "output_type": "execute_result"
    }
   ],
   "source": [
    "yeniDataFrame.drop(\"Mehmet\",axis=0)"
   ]
  },
  {
   "cell_type": "code",
   "execution_count": 100,
   "id": "14824b69",
   "metadata": {},
   "outputs": [],
   "source": [
    "yeniDataFrame.drop(\"emeklilik\",axis=1,inplace=True)"
   ]
  },
  {
   "cell_type": "code",
   "execution_count": 101,
   "id": "970b0b3c",
   "metadata": {},
   "outputs": [
    {
     "data": {
      "text/html": [
       "<div>\n",
       "<style scoped>\n",
       "    .dataframe tbody tr th:only-of-type {\n",
       "        vertical-align: middle;\n",
       "    }\n",
       "\n",
       "    .dataframe tbody tr th {\n",
       "        vertical-align: top;\n",
       "    }\n",
       "\n",
       "    .dataframe thead th {\n",
       "        text-align: right;\n",
       "    }\n",
       "</style>\n",
       "<table border=\"1\" class=\"dataframe\">\n",
       "  <thead>\n",
       "    <tr style=\"text-align: right;\">\n",
       "      <th></th>\n",
       "      <th>maas</th>\n",
       "      <th>yas</th>\n",
       "      <th>calisma</th>\n",
       "      <th>sure</th>\n",
       "    </tr>\n",
       "  </thead>\n",
       "  <tbody>\n",
       "    <tr>\n",
       "      <th>Hasan</th>\n",
       "      <td>-0.925557</td>\n",
       "      <td>0.526358</td>\n",
       "      <td>-0.252685</td>\n",
       "      <td>0.176554</td>\n",
       "    </tr>\n",
       "    <tr>\n",
       "      <th>Özcan</th>\n",
       "      <td>-1.461933</td>\n",
       "      <td>0.526374</td>\n",
       "      <td>-0.693498</td>\n",
       "      <td>0.203442</td>\n",
       "    </tr>\n",
       "    <tr>\n",
       "      <th>Mehmet</th>\n",
       "      <td>-1.258037</td>\n",
       "      <td>0.355447</td>\n",
       "      <td>0.051229</td>\n",
       "      <td>1.312177</td>\n",
       "    </tr>\n",
       "  </tbody>\n",
       "</table>\n",
       "</div>"
      ],
      "text/plain": [
       "            maas       yas   calisma      sure\n",
       "Hasan  -0.925557  0.526358 -0.252685  0.176554\n",
       "Özcan  -1.461933  0.526374 -0.693498  0.203442\n",
       "Mehmet -1.258037  0.355447  0.051229  1.312177"
      ]
     },
     "execution_count": 101,
     "metadata": {},
     "output_type": "execute_result"
    }
   ],
   "source": [
    "yeniDataFrame"
   ]
  },
  {
   "cell_type": "code",
   "execution_count": 102,
   "id": "c83106d8",
   "metadata": {},
   "outputs": [
    {
     "data": {
      "text/plain": [
       "-0.9255573453439115"
      ]
     },
     "execution_count": 102,
     "metadata": {},
     "output_type": "execute_result"
    }
   ],
   "source": [
    "yeniDataFrame.loc[\"Hasan\"][\"maas\"]"
   ]
  },
  {
   "cell_type": "code",
   "execution_count": 106,
   "id": "dc135881",
   "metadata": {},
   "outputs": [
    {
     "data": {
      "text/plain": [
       "0.5263735679272095"
      ]
     },
     "execution_count": 106,
     "metadata": {},
     "output_type": "execute_result"
    }
   ],
   "source": [
    "yeniDataFrame.loc[\"Ozcan\",\"yas\"]"
   ]
  },
  {
   "cell_type": "code",
   "execution_count": 108,
   "id": "8679821d",
   "metadata": {},
   "outputs": [],
   "source": [
    "booleanFrame=yeniDataFrame<0"
   ]
  },
  {
   "cell_type": "code",
   "execution_count": 109,
   "id": "0ed7b40c",
   "metadata": {},
   "outputs": [
    {
     "data": {
      "text/html": [
       "<div>\n",
       "<style scoped>\n",
       "    .dataframe tbody tr th:only-of-type {\n",
       "        vertical-align: middle;\n",
       "    }\n",
       "\n",
       "    .dataframe tbody tr th {\n",
       "        vertical-align: top;\n",
       "    }\n",
       "\n",
       "    .dataframe thead th {\n",
       "        text-align: right;\n",
       "    }\n",
       "</style>\n",
       "<table border=\"1\" class=\"dataframe\">\n",
       "  <thead>\n",
       "    <tr style=\"text-align: right;\">\n",
       "      <th></th>\n",
       "      <th>maas</th>\n",
       "      <th>yas</th>\n",
       "      <th>calisma</th>\n",
       "      <th>sure</th>\n",
       "    </tr>\n",
       "  </thead>\n",
       "  <tbody>\n",
       "    <tr>\n",
       "      <th>Hasan</th>\n",
       "      <td>-0.925557</td>\n",
       "      <td>NaN</td>\n",
       "      <td>-0.252685</td>\n",
       "      <td>NaN</td>\n",
       "    </tr>\n",
       "    <tr>\n",
       "      <th>Ozcan</th>\n",
       "      <td>-1.461933</td>\n",
       "      <td>NaN</td>\n",
       "      <td>-0.693498</td>\n",
       "      <td>NaN</td>\n",
       "    </tr>\n",
       "    <tr>\n",
       "      <th>Mehmet</th>\n",
       "      <td>-1.258037</td>\n",
       "      <td>NaN</td>\n",
       "      <td>NaN</td>\n",
       "      <td>NaN</td>\n",
       "    </tr>\n",
       "  </tbody>\n",
       "</table>\n",
       "</div>"
      ],
      "text/plain": [
       "            maas  yas   calisma  sure\n",
       "Hasan  -0.925557  NaN -0.252685   NaN\n",
       "Ozcan  -1.461933  NaN -0.693498   NaN\n",
       "Mehmet -1.258037  NaN       NaN   NaN"
      ]
     },
     "execution_count": 109,
     "metadata": {},
     "output_type": "execute_result"
    }
   ],
   "source": [
    "yeniDataFrame[booleanFrame]"
   ]
  },
  {
   "cell_type": "code",
   "execution_count": 110,
   "id": "a32b0215",
   "metadata": {},
   "outputs": [
    {
     "data": {
      "text/html": [
       "<div>\n",
       "<style scoped>\n",
       "    .dataframe tbody tr th:only-of-type {\n",
       "        vertical-align: middle;\n",
       "    }\n",
       "\n",
       "    .dataframe tbody tr th {\n",
       "        vertical-align: top;\n",
       "    }\n",
       "\n",
       "    .dataframe thead th {\n",
       "        text-align: right;\n",
       "    }\n",
       "</style>\n",
       "<table border=\"1\" class=\"dataframe\">\n",
       "  <thead>\n",
       "    <tr style=\"text-align: right;\">\n",
       "      <th></th>\n",
       "      <th>maas</th>\n",
       "      <th>yas</th>\n",
       "      <th>calisma</th>\n",
       "      <th>sure</th>\n",
       "    </tr>\n",
       "  </thead>\n",
       "  <tbody>\n",
       "    <tr>\n",
       "      <th>Hasan</th>\n",
       "      <td>NaN</td>\n",
       "      <td>0.526358</td>\n",
       "      <td>NaN</td>\n",
       "      <td>0.176554</td>\n",
       "    </tr>\n",
       "    <tr>\n",
       "      <th>Ozcan</th>\n",
       "      <td>NaN</td>\n",
       "      <td>0.526374</td>\n",
       "      <td>NaN</td>\n",
       "      <td>0.203442</td>\n",
       "    </tr>\n",
       "    <tr>\n",
       "      <th>Mehmet</th>\n",
       "      <td>NaN</td>\n",
       "      <td>0.355447</td>\n",
       "      <td>0.051229</td>\n",
       "      <td>1.312177</td>\n",
       "    </tr>\n",
       "  </tbody>\n",
       "</table>\n",
       "</div>"
      ],
      "text/plain": [
       "        maas       yas   calisma      sure\n",
       "Hasan    NaN  0.526358       NaN  0.176554\n",
       "Ozcan    NaN  0.526374       NaN  0.203442\n",
       "Mehmet   NaN  0.355447  0.051229  1.312177"
      ]
     },
     "execution_count": 110,
     "metadata": {},
     "output_type": "execute_result"
    }
   ],
   "source": [
    "yeniDataFrame[yeniDataFrame>0]"
   ]
  },
  {
   "cell_type": "code",
   "execution_count": 112,
   "id": "01d82e1e",
   "metadata": {},
   "outputs": [
    {
     "data": {
      "text/plain": [
       "Hasan     True\n",
       "Ozcan     True\n",
       "Mehmet    True\n",
       "Name: yas, dtype: bool"
      ]
     },
     "execution_count": 112,
     "metadata": {},
     "output_type": "execute_result"
    }
   ],
   "source": [
    "yeniDataFrame[\"yas\"]>0"
   ]
  },
  {
   "cell_type": "code",
   "execution_count": 117,
   "id": "9855487c",
   "metadata": {},
   "outputs": [
    {
     "data": {
      "text/html": [
       "<div>\n",
       "<style scoped>\n",
       "    .dataframe tbody tr th:only-of-type {\n",
       "        vertical-align: middle;\n",
       "    }\n",
       "\n",
       "    .dataframe tbody tr th {\n",
       "        vertical-align: top;\n",
       "    }\n",
       "\n",
       "    .dataframe thead th {\n",
       "        text-align: right;\n",
       "    }\n",
       "</style>\n",
       "<table border=\"1\" class=\"dataframe\">\n",
       "  <thead>\n",
       "    <tr style=\"text-align: right;\">\n",
       "      <th></th>\n",
       "      <th>maas</th>\n",
       "      <th>yas</th>\n",
       "      <th>calisma</th>\n",
       "      <th>sure</th>\n",
       "    </tr>\n",
       "  </thead>\n",
       "  <tbody>\n",
       "    <tr>\n",
       "      <th>Hasan</th>\n",
       "      <td>-0.925557</td>\n",
       "      <td>0.526358</td>\n",
       "      <td>-0.252685</td>\n",
       "      <td>0.176554</td>\n",
       "    </tr>\n",
       "    <tr>\n",
       "      <th>Ozcan</th>\n",
       "      <td>-1.461933</td>\n",
       "      <td>0.526374</td>\n",
       "      <td>-0.693498</td>\n",
       "      <td>0.203442</td>\n",
       "    </tr>\n",
       "  </tbody>\n",
       "</table>\n",
       "</div>"
      ],
      "text/plain": [
       "           maas       yas   calisma      sure\n",
       "Hasan -0.925557  0.526358 -0.252685  0.176554\n",
       "Ozcan -1.461933  0.526374 -0.693498  0.203442"
      ]
     },
     "execution_count": 117,
     "metadata": {},
     "output_type": "execute_result"
    }
   ],
   "source": [
    "yeniDataFrame[yeniDataFrame['calisma']<0] ## the filtering process "
   ]
  },
  {
   "cell_type": "code",
   "execution_count": 121,
   "id": "c394e952",
   "metadata": {},
   "outputs": [
    {
     "data": {
      "text/html": [
       "<div>\n",
       "<style scoped>\n",
       "    .dataframe tbody tr th:only-of-type {\n",
       "        vertical-align: middle;\n",
       "    }\n",
       "\n",
       "    .dataframe tbody tr th {\n",
       "        vertical-align: top;\n",
       "    }\n",
       "\n",
       "    .dataframe thead th {\n",
       "        text-align: right;\n",
       "    }\n",
       "</style>\n",
       "<table border=\"1\" class=\"dataframe\">\n",
       "  <thead>\n",
       "    <tr style=\"text-align: right;\">\n",
       "      <th></th>\n",
       "      <th>maas</th>\n",
       "      <th>yas</th>\n",
       "      <th>calisma</th>\n",
       "      <th>sure</th>\n",
       "    </tr>\n",
       "  </thead>\n",
       "  <tbody>\n",
       "    <tr>\n",
       "      <th>Hasan</th>\n",
       "      <td>-0.925557</td>\n",
       "      <td>0.526358</td>\n",
       "      <td>-0.252685</td>\n",
       "      <td>0.176554</td>\n",
       "    </tr>\n",
       "    <tr>\n",
       "      <th>Ozcan</th>\n",
       "      <td>-1.461933</td>\n",
       "      <td>0.526374</td>\n",
       "      <td>-0.693498</td>\n",
       "      <td>0.203442</td>\n",
       "    </tr>\n",
       "    <tr>\n",
       "      <th>Mehmet</th>\n",
       "      <td>-1.258037</td>\n",
       "      <td>0.355447</td>\n",
       "      <td>0.051229</td>\n",
       "      <td>1.312177</td>\n",
       "    </tr>\n",
       "  </tbody>\n",
       "</table>\n",
       "</div>"
      ],
      "text/plain": [
       "            maas       yas   calisma      sure\n",
       "Hasan  -0.925557  0.526358 -0.252685  0.176554\n",
       "Ozcan  -1.461933  0.526374 -0.693498  0.203442\n",
       "Mehmet -1.258037  0.355447  0.051229  1.312177"
      ]
     },
     "execution_count": 121,
     "metadata": {},
     "output_type": "execute_result"
    }
   ],
   "source": [
    "yeniDataFrame"
   ]
  },
  {
   "cell_type": "code",
   "execution_count": 197,
   "id": "26641f05",
   "metadata": {},
   "outputs": [
    {
     "data": {
      "text/html": [
       "<div>\n",
       "<style scoped>\n",
       "    .dataframe tbody tr th:only-of-type {\n",
       "        vertical-align: middle;\n",
       "    }\n",
       "\n",
       "    .dataframe tbody tr th {\n",
       "        vertical-align: top;\n",
       "    }\n",
       "\n",
       "    .dataframe thead th {\n",
       "        text-align: right;\n",
       "    }\n",
       "</style>\n",
       "<table border=\"1\" class=\"dataframe\">\n",
       "  <thead>\n",
       "    <tr style=\"text-align: right;\">\n",
       "      <th></th>\n",
       "      <th>index</th>\n",
       "      <th>maas</th>\n",
       "      <th>yas</th>\n",
       "      <th>calisma</th>\n",
       "      <th>sure</th>\n",
       "      <th>yeniin</th>\n",
       "    </tr>\n",
       "  </thead>\n",
       "  <tbody>\n",
       "    <tr>\n",
       "      <th>0</th>\n",
       "      <td>HAS</td>\n",
       "      <td>-0.925557</td>\n",
       "      <td>0.526358</td>\n",
       "      <td>-0.252685</td>\n",
       "      <td>0.176554</td>\n",
       "      <td>HAS</td>\n",
       "    </tr>\n",
       "    <tr>\n",
       "      <th>1</th>\n",
       "      <td>OZC</td>\n",
       "      <td>-1.461933</td>\n",
       "      <td>0.526374</td>\n",
       "      <td>-0.693498</td>\n",
       "      <td>0.203442</td>\n",
       "      <td>OZC</td>\n",
       "    </tr>\n",
       "    <tr>\n",
       "      <th>2</th>\n",
       "      <td>MEH</td>\n",
       "      <td>-1.258037</td>\n",
       "      <td>0.355447</td>\n",
       "      <td>0.051229</td>\n",
       "      <td>1.312177</td>\n",
       "      <td>MEH</td>\n",
       "    </tr>\n",
       "  </tbody>\n",
       "</table>\n",
       "</div>"
      ],
      "text/plain": [
       "  index      maas       yas   calisma      sure yeniin\n",
       "0   HAS -0.925557  0.526358 -0.252685  0.176554    HAS\n",
       "1   OZC -1.461933  0.526374 -0.693498  0.203442    OZC\n",
       "2   MEH -1.258037  0.355447  0.051229  1.312177    MEH"
      ]
     },
     "execution_count": 197,
     "metadata": {},
     "output_type": "execute_result"
    }
   ],
   "source": [
    "yeniDataFrame.reset_index()"
   ]
  },
  {
   "cell_type": "code",
   "execution_count": 198,
   "id": "522332d2",
   "metadata": {},
   "outputs": [
    {
     "data": {
      "text/html": [
       "<div>\n",
       "<style scoped>\n",
       "    .dataframe tbody tr th:only-of-type {\n",
       "        vertical-align: middle;\n",
       "    }\n",
       "\n",
       "    .dataframe tbody tr th {\n",
       "        vertical-align: top;\n",
       "    }\n",
       "\n",
       "    .dataframe thead th {\n",
       "        text-align: right;\n",
       "    }\n",
       "</style>\n",
       "<table border=\"1\" class=\"dataframe\">\n",
       "  <thead>\n",
       "    <tr style=\"text-align: right;\">\n",
       "      <th></th>\n",
       "      <th>maas</th>\n",
       "      <th>yas</th>\n",
       "      <th>calisma</th>\n",
       "      <th>sure</th>\n",
       "      <th>yeniin</th>\n",
       "    </tr>\n",
       "  </thead>\n",
       "  <tbody>\n",
       "    <tr>\n",
       "      <th>HAS</th>\n",
       "      <td>-0.925557</td>\n",
       "      <td>0.526358</td>\n",
       "      <td>-0.252685</td>\n",
       "      <td>0.176554</td>\n",
       "      <td>HAS</td>\n",
       "    </tr>\n",
       "    <tr>\n",
       "      <th>OZC</th>\n",
       "      <td>-1.461933</td>\n",
       "      <td>0.526374</td>\n",
       "      <td>-0.693498</td>\n",
       "      <td>0.203442</td>\n",
       "      <td>OZC</td>\n",
       "    </tr>\n",
       "    <tr>\n",
       "      <th>MEH</th>\n",
       "      <td>-1.258037</td>\n",
       "      <td>0.355447</td>\n",
       "      <td>0.051229</td>\n",
       "      <td>1.312177</td>\n",
       "      <td>MEH</td>\n",
       "    </tr>\n",
       "  </tbody>\n",
       "</table>\n",
       "</div>"
      ],
      "text/plain": [
       "         maas       yas   calisma      sure yeniin\n",
       "HAS -0.925557  0.526358 -0.252685  0.176554    HAS\n",
       "OZC -1.461933  0.526374 -0.693498  0.203442    OZC\n",
       "MEH -1.258037  0.355447  0.051229  1.312177    MEH"
      ]
     },
     "execution_count": 198,
     "metadata": {},
     "output_type": "execute_result"
    }
   ],
   "source": [
    "yeniDataFrame"
   ]
  },
  {
   "cell_type": "code",
   "execution_count": 125,
   "id": "587bc42f",
   "metadata": {},
   "outputs": [
    {
     "data": {
      "text/plain": [
       "Index(['Hasan', 'Ozcan', 'Mehmet'], dtype='object')"
      ]
     },
     "execution_count": 125,
     "metadata": {},
     "output_type": "execute_result"
    }
   ],
   "source": [
    "yeniDataFrame.index"
   ]
  },
  {
   "cell_type": "code",
   "execution_count": 206,
   "id": "dedb12eb",
   "metadata": {},
   "outputs": [],
   "source": [
    "yeniIndeksListesi=[\"HAS\",\"OZC\",\"MEH\"]"
   ]
  },
  {
   "cell_type": "code",
   "execution_count": 207,
   "id": "f42b7b04",
   "metadata": {},
   "outputs": [
    {
     "data": {
      "text/html": [
       "<div>\n",
       "<style scoped>\n",
       "    .dataframe tbody tr th:only-of-type {\n",
       "        vertical-align: middle;\n",
       "    }\n",
       "\n",
       "    .dataframe tbody tr th {\n",
       "        vertical-align: top;\n",
       "    }\n",
       "\n",
       "    .dataframe thead th {\n",
       "        text-align: right;\n",
       "    }\n",
       "</style>\n",
       "<table border=\"1\" class=\"dataframe\">\n",
       "  <thead>\n",
       "    <tr style=\"text-align: right;\">\n",
       "      <th></th>\n",
       "      <th>maas</th>\n",
       "      <th>yas</th>\n",
       "      <th>calisma</th>\n",
       "      <th>sure</th>\n",
       "      <th>yeniin</th>\n",
       "    </tr>\n",
       "  </thead>\n",
       "  <tbody>\n",
       "    <tr>\n",
       "      <th>HAS</th>\n",
       "      <td>-0.925557</td>\n",
       "      <td>0.526358</td>\n",
       "      <td>-0.252685</td>\n",
       "      <td>0.176554</td>\n",
       "      <td>HAS</td>\n",
       "    </tr>\n",
       "    <tr>\n",
       "      <th>OZC</th>\n",
       "      <td>-1.461933</td>\n",
       "      <td>0.526374</td>\n",
       "      <td>-0.693498</td>\n",
       "      <td>0.203442</td>\n",
       "      <td>OZC</td>\n",
       "    </tr>\n",
       "    <tr>\n",
       "      <th>MEH</th>\n",
       "      <td>-1.258037</td>\n",
       "      <td>0.355447</td>\n",
       "      <td>0.051229</td>\n",
       "      <td>1.312177</td>\n",
       "      <td>MEH</td>\n",
       "    </tr>\n",
       "  </tbody>\n",
       "</table>\n",
       "</div>"
      ],
      "text/plain": [
       "         maas       yas   calisma      sure yeniin\n",
       "HAS -0.925557  0.526358 -0.252685  0.176554    HAS\n",
       "OZC -1.461933  0.526374 -0.693498  0.203442    OZC\n",
       "MEH -1.258037  0.355447  0.051229  1.312177    MEH"
      ]
     },
     "execution_count": 207,
     "metadata": {},
     "output_type": "execute_result"
    }
   ],
   "source": [
    "yeniDataFrame"
   ]
  },
  {
   "cell_type": "code",
   "execution_count": 208,
   "id": "94527465",
   "metadata": {},
   "outputs": [],
   "source": [
    "yeniDataFrame[\"yeniin\"]=yeniIndeksListesi"
   ]
  },
  {
   "cell_type": "code",
   "execution_count": 213,
   "id": "65adfb59",
   "metadata": {},
   "outputs": [
    {
     "data": {
      "text/html": [
       "<div>\n",
       "<style scoped>\n",
       "    .dataframe tbody tr th:only-of-type {\n",
       "        vertical-align: middle;\n",
       "    }\n",
       "\n",
       "    .dataframe tbody tr th {\n",
       "        vertical-align: top;\n",
       "    }\n",
       "\n",
       "    .dataframe thead th {\n",
       "        text-align: right;\n",
       "    }\n",
       "</style>\n",
       "<table border=\"1\" class=\"dataframe\">\n",
       "  <thead>\n",
       "    <tr style=\"text-align: right;\">\n",
       "      <th></th>\n",
       "      <th>index</th>\n",
       "      <th>maas</th>\n",
       "      <th>yas</th>\n",
       "      <th>calisma</th>\n",
       "      <th>sure</th>\n",
       "      <th>yeniin</th>\n",
       "    </tr>\n",
       "  </thead>\n",
       "  <tbody>\n",
       "    <tr>\n",
       "      <th>0</th>\n",
       "      <td>HAS</td>\n",
       "      <td>-0.925557</td>\n",
       "      <td>0.526358</td>\n",
       "      <td>-0.252685</td>\n",
       "      <td>0.176554</td>\n",
       "      <td>HAS</td>\n",
       "    </tr>\n",
       "    <tr>\n",
       "      <th>1</th>\n",
       "      <td>OZC</td>\n",
       "      <td>-1.461933</td>\n",
       "      <td>0.526374</td>\n",
       "      <td>-0.693498</td>\n",
       "      <td>0.203442</td>\n",
       "      <td>OZC</td>\n",
       "    </tr>\n",
       "    <tr>\n",
       "      <th>2</th>\n",
       "      <td>MEH</td>\n",
       "      <td>-1.258037</td>\n",
       "      <td>0.355447</td>\n",
       "      <td>0.051229</td>\n",
       "      <td>1.312177</td>\n",
       "      <td>MEH</td>\n",
       "    </tr>\n",
       "  </tbody>\n",
       "</table>\n",
       "</div>"
      ],
      "text/plain": [
       "  index      maas       yas   calisma      sure yeniin\n",
       "0   HAS -0.925557  0.526358 -0.252685  0.176554    HAS\n",
       "1   OZC -1.461933  0.526374 -0.693498  0.203442    OZC\n",
       "2   MEH -1.258037  0.355447  0.051229  1.312177    MEH"
      ]
     },
     "execution_count": 213,
     "metadata": {},
     "output_type": "execute_result"
    }
   ],
   "source": [
    "yeniDataFrame"
   ]
  },
  {
   "cell_type": "code",
   "execution_count": 214,
   "id": "3ccde005",
   "metadata": {},
   "outputs": [
    {
     "data": {
      "text/html": [
       "<div>\n",
       "<style scoped>\n",
       "    .dataframe tbody tr th:only-of-type {\n",
       "        vertical-align: middle;\n",
       "    }\n",
       "\n",
       "    .dataframe tbody tr th {\n",
       "        vertical-align: top;\n",
       "    }\n",
       "\n",
       "    .dataframe thead th {\n",
       "        text-align: right;\n",
       "    }\n",
       "</style>\n",
       "<table border=\"1\" class=\"dataframe\">\n",
       "  <thead>\n",
       "    <tr style=\"text-align: right;\">\n",
       "      <th></th>\n",
       "      <th>index</th>\n",
       "      <th>maas</th>\n",
       "      <th>yas</th>\n",
       "      <th>calisma</th>\n",
       "      <th>sure</th>\n",
       "    </tr>\n",
       "    <tr>\n",
       "      <th>yeniin</th>\n",
       "      <th></th>\n",
       "      <th></th>\n",
       "      <th></th>\n",
       "      <th></th>\n",
       "      <th></th>\n",
       "    </tr>\n",
       "  </thead>\n",
       "  <tbody>\n",
       "    <tr>\n",
       "      <th>HAS</th>\n",
       "      <td>HAS</td>\n",
       "      <td>-0.925557</td>\n",
       "      <td>0.526358</td>\n",
       "      <td>-0.252685</td>\n",
       "      <td>0.176554</td>\n",
       "    </tr>\n",
       "    <tr>\n",
       "      <th>OZC</th>\n",
       "      <td>OZC</td>\n",
       "      <td>-1.461933</td>\n",
       "      <td>0.526374</td>\n",
       "      <td>-0.693498</td>\n",
       "      <td>0.203442</td>\n",
       "    </tr>\n",
       "    <tr>\n",
       "      <th>MEH</th>\n",
       "      <td>MEH</td>\n",
       "      <td>-1.258037</td>\n",
       "      <td>0.355447</td>\n",
       "      <td>0.051229</td>\n",
       "      <td>1.312177</td>\n",
       "    </tr>\n",
       "  </tbody>\n",
       "</table>\n",
       "</div>"
      ],
      "text/plain": [
       "       index      maas       yas   calisma      sure\n",
       "yeniin                                              \n",
       "HAS      HAS -0.925557  0.526358 -0.252685  0.176554\n",
       "OZC      OZC -1.461933  0.526374 -0.693498  0.203442\n",
       "MEH      MEH -1.258037  0.355447  0.051229  1.312177"
      ]
     },
     "execution_count": 214,
     "metadata": {},
     "output_type": "execute_result"
    }
   ],
   "source": [
    "yeniDataFrame.set_index(\"yeniin\")"
   ]
  },
  {
   "cell_type": "code",
   "execution_count": 215,
   "id": "d39f30f6",
   "metadata": {
    "scrolled": true
   },
   "outputs": [],
   "source": [
    "yeniDataFrame.set_index(\"yeniin\",inplace=True)"
   ]
  },
  {
   "cell_type": "code",
   "execution_count": 216,
   "id": "33cef88b",
   "metadata": {},
   "outputs": [
    {
     "data": {
      "text/html": [
       "<div>\n",
       "<style scoped>\n",
       "    .dataframe tbody tr th:only-of-type {\n",
       "        vertical-align: middle;\n",
       "    }\n",
       "\n",
       "    .dataframe tbody tr th {\n",
       "        vertical-align: top;\n",
       "    }\n",
       "\n",
       "    .dataframe thead th {\n",
       "        text-align: right;\n",
       "    }\n",
       "</style>\n",
       "<table border=\"1\" class=\"dataframe\">\n",
       "  <thead>\n",
       "    <tr style=\"text-align: right;\">\n",
       "      <th></th>\n",
       "      <th>index</th>\n",
       "      <th>maas</th>\n",
       "      <th>yas</th>\n",
       "      <th>calisma</th>\n",
       "      <th>sure</th>\n",
       "    </tr>\n",
       "    <tr>\n",
       "      <th>yeniin</th>\n",
       "      <th></th>\n",
       "      <th></th>\n",
       "      <th></th>\n",
       "      <th></th>\n",
       "      <th></th>\n",
       "    </tr>\n",
       "  </thead>\n",
       "  <tbody>\n",
       "    <tr>\n",
       "      <th>HAS</th>\n",
       "      <td>HAS</td>\n",
       "      <td>-0.925557</td>\n",
       "      <td>0.526358</td>\n",
       "      <td>-0.252685</td>\n",
       "      <td>0.176554</td>\n",
       "    </tr>\n",
       "    <tr>\n",
       "      <th>OZC</th>\n",
       "      <td>OZC</td>\n",
       "      <td>-1.461933</td>\n",
       "      <td>0.526374</td>\n",
       "      <td>-0.693498</td>\n",
       "      <td>0.203442</td>\n",
       "    </tr>\n",
       "    <tr>\n",
       "      <th>MEH</th>\n",
       "      <td>MEH</td>\n",
       "      <td>-1.258037</td>\n",
       "      <td>0.355447</td>\n",
       "      <td>0.051229</td>\n",
       "      <td>1.312177</td>\n",
       "    </tr>\n",
       "  </tbody>\n",
       "</table>\n",
       "</div>"
      ],
      "text/plain": [
       "       index      maas       yas   calisma      sure\n",
       "yeniin                                              \n",
       "HAS      HAS -0.925557  0.526358 -0.252685  0.176554\n",
       "OZC      OZC -1.461933  0.526374 -0.693498  0.203442\n",
       "MEH      MEH -1.258037  0.355447  0.051229  1.312177"
      ]
     },
     "execution_count": 216,
     "metadata": {},
     "output_type": "execute_result"
    }
   ],
   "source": [
    "yeniDataFrame"
   ]
  },
  {
   "cell_type": "code",
   "execution_count": 217,
   "id": "a4fbfea2",
   "metadata": {},
   "outputs": [
    {
     "data": {
      "text/html": [
       "<div>\n",
       "<style scoped>\n",
       "    .dataframe tbody tr th:only-of-type {\n",
       "        vertical-align: middle;\n",
       "    }\n",
       "\n",
       "    .dataframe tbody tr th {\n",
       "        vertical-align: top;\n",
       "    }\n",
       "\n",
       "    .dataframe thead th {\n",
       "        text-align: right;\n",
       "    }\n",
       "</style>\n",
       "<table border=\"1\" class=\"dataframe\">\n",
       "  <thead>\n",
       "    <tr style=\"text-align: right;\">\n",
       "      <th></th>\n",
       "      <th>index</th>\n",
       "      <th>maas</th>\n",
       "      <th>yas</th>\n",
       "      <th>calisma</th>\n",
       "      <th>sure</th>\n",
       "    </tr>\n",
       "    <tr>\n",
       "      <th>yeniin</th>\n",
       "      <th></th>\n",
       "      <th></th>\n",
       "      <th></th>\n",
       "      <th></th>\n",
       "      <th></th>\n",
       "    </tr>\n",
       "  </thead>\n",
       "  <tbody>\n",
       "    <tr>\n",
       "      <th>HAS</th>\n",
       "      <td>HAS</td>\n",
       "      <td>-0.925557</td>\n",
       "      <td>0.526358</td>\n",
       "      <td>-0.252685</td>\n",
       "      <td>0.176554</td>\n",
       "    </tr>\n",
       "    <tr>\n",
       "      <th>OZC</th>\n",
       "      <td>OZC</td>\n",
       "      <td>-1.461933</td>\n",
       "      <td>0.526374</td>\n",
       "      <td>-0.693498</td>\n",
       "      <td>0.203442</td>\n",
       "    </tr>\n",
       "    <tr>\n",
       "      <th>MEH</th>\n",
       "      <td>MEH</td>\n",
       "      <td>-1.258037</td>\n",
       "      <td>0.355447</td>\n",
       "      <td>0.051229</td>\n",
       "      <td>1.312177</td>\n",
       "    </tr>\n",
       "  </tbody>\n",
       "</table>\n",
       "</div>"
      ],
      "text/plain": [
       "       index      maas       yas   calisma      sure\n",
       "yeniin                                              \n",
       "HAS      HAS -0.925557  0.526358 -0.252685  0.176554\n",
       "OZC      OZC -1.461933  0.526374 -0.693498  0.203442\n",
       "MEH      MEH -1.258037  0.355447  0.051229  1.312177"
      ]
     },
     "execution_count": 217,
     "metadata": {},
     "output_type": "execute_result"
    }
   ],
   "source": [
    "yeniDataFrame"
   ]
  },
  {
   "cell_type": "code",
   "execution_count": 219,
   "id": "b17b8cc0",
   "metadata": {},
   "outputs": [
    {
     "data": {
      "text/plain": [
       "index           HAS\n",
       "maas      -0.925557\n",
       "yas        0.526358\n",
       "calisma   -0.252685\n",
       "sure       0.176554\n",
       "Name: HAS, dtype: object"
      ]
     },
     "execution_count": 219,
     "metadata": {},
     "output_type": "execute_result"
    }
   ],
   "source": [
    "yeniDataFrame.loc[\"HAS\"]"
   ]
  },
  {
   "cell_type": "code",
   "execution_count": 220,
   "id": "f33a7e02",
   "metadata": {},
   "outputs": [],
   "source": [
    "ilkIndeksler=[\"Simpson\",\"Simpson\",\"Simpson\",\"South Park\",\"South Park\",\"South Park\"]"
   ]
  },
  {
   "cell_type": "code",
   "execution_count": 221,
   "id": "6dc0d3e8",
   "metadata": {},
   "outputs": [
    {
     "data": {
      "text/plain": [
       "['Simpson', 'Simpson', 'Simpson', 'South Park', 'South Park', 'South Park']"
      ]
     },
     "execution_count": 221,
     "metadata": {},
     "output_type": "execute_result"
    }
   ],
   "source": [
    "ilkIndeksler"
   ]
  },
  {
   "cell_type": "code",
   "execution_count": 222,
   "id": "312fda53",
   "metadata": {},
   "outputs": [],
   "source": [
    "icIndeksler=[\"Homer\",\"Bart\",\"Marge\",\"Cartman\",\"Kenny\",\"Kyle\"]"
   ]
  },
  {
   "cell_type": "code",
   "execution_count": 223,
   "id": "73f228ef",
   "metadata": {},
   "outputs": [],
   "source": [
    "birlesmisIndeks=list(zip(ilkIndeksler,icIndeksler))"
   ]
  },
  {
   "cell_type": "code",
   "execution_count": 224,
   "id": "aff11250",
   "metadata": {},
   "outputs": [
    {
     "data": {
      "text/plain": [
       "[('Simpson', 'Homer'),\n",
       " ('Simpson', 'Bart'),\n",
       " ('Simpson', 'Marge'),\n",
       " ('South Park', 'Cartman'),\n",
       " ('South Park', 'Kenny'),\n",
       " ('South Park', 'Kyle')]"
      ]
     },
     "execution_count": 224,
     "metadata": {},
     "output_type": "execute_result"
    }
   ],
   "source": [
    "birlesmisIndeks"
   ]
  },
  {
   "cell_type": "code",
   "execution_count": 225,
   "id": "243b1d4f",
   "metadata": {},
   "outputs": [],
   "source": [
    "birlesmisIndeks = pd.MultiIndex.from_tuples(birlesmisIndeks)"
   ]
  },
  {
   "cell_type": "code",
   "execution_count": 226,
   "id": "986b7f5b",
   "metadata": {},
   "outputs": [
    {
     "data": {
      "text/plain": [
       "MultiIndex([(   'Simpson',   'Homer'),\n",
       "            (   'Simpson',    'Bart'),\n",
       "            (   'Simpson',   'Marge'),\n",
       "            ('South Park', 'Cartman'),\n",
       "            ('South Park',   'Kenny'),\n",
       "            ('South Park',    'Kyle')],\n",
       "           )"
      ]
     },
     "execution_count": 226,
     "metadata": {},
     "output_type": "execute_result"
    }
   ],
   "source": [
    "birlesmisIndeks"
   ]
  },
  {
   "cell_type": "code",
   "execution_count": 227,
   "id": "6ac44df0",
   "metadata": {},
   "outputs": [
    {
     "data": {
      "text/plain": [
       "pandas.core.indexes.multi.MultiIndex"
      ]
     },
     "execution_count": 227,
     "metadata": {},
     "output_type": "execute_result"
    }
   ],
   "source": [
    "type(birlesmisIndeks)"
   ]
  },
  {
   "cell_type": "code",
   "execution_count": 228,
   "id": "cfec21e6",
   "metadata": {},
   "outputs": [],
   "source": [
    "cizgifilmlistem=[[40,\"A\"],[10,\"B\"],[30,\"C\"],[9,\"D\"],[10,\"E\"],[11,\"F\"]]"
   ]
  },
  {
   "cell_type": "code",
   "execution_count": 229,
   "id": "23ae0711",
   "metadata": {},
   "outputs": [
    {
     "data": {
      "text/plain": [
       "[[40, 'A'], [10, 'B'], [30, 'C'], [9, 'D'], [10, 'E'], [11, 'F']]"
      ]
     },
     "execution_count": 229,
     "metadata": {},
     "output_type": "execute_result"
    }
   ],
   "source": [
    "cizgifilmlistem"
   ]
  },
  {
   "cell_type": "code",
   "execution_count": 230,
   "id": "3d7f445e",
   "metadata": {},
   "outputs": [],
   "source": [
    "cizgifilmnumpydizisi=np.array(cizgifilmlistem)"
   ]
  },
  {
   "cell_type": "code",
   "execution_count": 231,
   "id": "dd81caa8",
   "metadata": {},
   "outputs": [
    {
     "data": {
      "text/plain": [
       "array([['40', 'A'],\n",
       "       ['10', 'B'],\n",
       "       ['30', 'C'],\n",
       "       ['9', 'D'],\n",
       "       ['10', 'E'],\n",
       "       ['11', 'F']], dtype='<U11')"
      ]
     },
     "execution_count": 231,
     "metadata": {},
     "output_type": "execute_result"
    }
   ],
   "source": [
    "cizgifilmnumpydizisi"
   ]
  },
  {
   "cell_type": "code",
   "execution_count": 238,
   "id": "bb230c12",
   "metadata": {},
   "outputs": [],
   "source": [
    "cizgiFilmDataFrame=pd.DataFrame(index=birlesmisIndeks,data=cizgifilmnumpydizisi,columns=[\"Yas\",\"Meslek\"])"
   ]
  },
  {
   "cell_type": "code",
   "execution_count": 239,
   "id": "47775e8b",
   "metadata": {},
   "outputs": [
    {
     "data": {
      "text/html": [
       "<div>\n",
       "<style scoped>\n",
       "    .dataframe tbody tr th:only-of-type {\n",
       "        vertical-align: middle;\n",
       "    }\n",
       "\n",
       "    .dataframe tbody tr th {\n",
       "        vertical-align: top;\n",
       "    }\n",
       "\n",
       "    .dataframe thead th {\n",
       "        text-align: right;\n",
       "    }\n",
       "</style>\n",
       "<table border=\"1\" class=\"dataframe\">\n",
       "  <thead>\n",
       "    <tr style=\"text-align: right;\">\n",
       "      <th></th>\n",
       "      <th></th>\n",
       "      <th>Yas</th>\n",
       "      <th>Meslek</th>\n",
       "    </tr>\n",
       "  </thead>\n",
       "  <tbody>\n",
       "    <tr>\n",
       "      <th rowspan=\"3\" valign=\"top\">Simpson</th>\n",
       "      <th>Homer</th>\n",
       "      <td>40</td>\n",
       "      <td>A</td>\n",
       "    </tr>\n",
       "    <tr>\n",
       "      <th>Bart</th>\n",
       "      <td>10</td>\n",
       "      <td>B</td>\n",
       "    </tr>\n",
       "    <tr>\n",
       "      <th>Marge</th>\n",
       "      <td>30</td>\n",
       "      <td>C</td>\n",
       "    </tr>\n",
       "    <tr>\n",
       "      <th rowspan=\"3\" valign=\"top\">South Park</th>\n",
       "      <th>Cartman</th>\n",
       "      <td>9</td>\n",
       "      <td>D</td>\n",
       "    </tr>\n",
       "    <tr>\n",
       "      <th>Kenny</th>\n",
       "      <td>10</td>\n",
       "      <td>E</td>\n",
       "    </tr>\n",
       "    <tr>\n",
       "      <th>Kyle</th>\n",
       "      <td>11</td>\n",
       "      <td>F</td>\n",
       "    </tr>\n",
       "  </tbody>\n",
       "</table>\n",
       "</div>"
      ],
      "text/plain": [
       "                   Yas Meslek\n",
       "Simpson    Homer    40      A\n",
       "           Bart     10      B\n",
       "           Marge    30      C\n",
       "South Park Cartman   9      D\n",
       "           Kenny    10      E\n",
       "           Kyle     11      F"
      ]
     },
     "execution_count": 239,
     "metadata": {},
     "output_type": "execute_result"
    }
   ],
   "source": [
    "cizgiFilmDataFrame"
   ]
  },
  {
   "cell_type": "code",
   "execution_count": 243,
   "id": "66b432eb",
   "metadata": {},
   "outputs": [
    {
     "data": {
      "text/plain": [
       "Yas       40\n",
       "Meslek     A\n",
       "Name: Homer, dtype: object"
      ]
     },
     "execution_count": 243,
     "metadata": {},
     "output_type": "execute_result"
    }
   ],
   "source": [
    "cizgiFilmDataFrame.loc[\"Simpson\"].loc[\"Homer\"]"
   ]
  },
  {
   "cell_type": "code",
   "execution_count": 245,
   "id": "7a12a7c0",
   "metadata": {},
   "outputs": [
    {
     "data": {
      "text/plain": [
       "Yas       10\n",
       "Meslek     E\n",
       "Name: Kenny, dtype: object"
      ]
     },
     "execution_count": 245,
     "metadata": {},
     "output_type": "execute_result"
    }
   ],
   "source": [
    "cizgiFilmDataFrame.loc[\"South Park\"].loc[\"Kenny\"]"
   ]
  },
  {
   "cell_type": "code",
   "execution_count": 247,
   "id": "61c765c0",
   "metadata": {},
   "outputs": [],
   "source": [
    "cizgiFilmDataFrame.index.names=[\"Film Adı\",\"isim\"]"
   ]
  },
  {
   "cell_type": "code",
   "execution_count": 248,
   "id": "794458f1",
   "metadata": {},
   "outputs": [
    {
     "data": {
      "text/html": [
       "<div>\n",
       "<style scoped>\n",
       "    .dataframe tbody tr th:only-of-type {\n",
       "        vertical-align: middle;\n",
       "    }\n",
       "\n",
       "    .dataframe tbody tr th {\n",
       "        vertical-align: top;\n",
       "    }\n",
       "\n",
       "    .dataframe thead th {\n",
       "        text-align: right;\n",
       "    }\n",
       "</style>\n",
       "<table border=\"1\" class=\"dataframe\">\n",
       "  <thead>\n",
       "    <tr style=\"text-align: right;\">\n",
       "      <th></th>\n",
       "      <th></th>\n",
       "      <th>Yas</th>\n",
       "      <th>Meslek</th>\n",
       "    </tr>\n",
       "    <tr>\n",
       "      <th>Film Adı</th>\n",
       "      <th>isim</th>\n",
       "      <th></th>\n",
       "      <th></th>\n",
       "    </tr>\n",
       "  </thead>\n",
       "  <tbody>\n",
       "    <tr>\n",
       "      <th rowspan=\"3\" valign=\"top\">Simpson</th>\n",
       "      <th>Homer</th>\n",
       "      <td>40</td>\n",
       "      <td>A</td>\n",
       "    </tr>\n",
       "    <tr>\n",
       "      <th>Bart</th>\n",
       "      <td>10</td>\n",
       "      <td>B</td>\n",
       "    </tr>\n",
       "    <tr>\n",
       "      <th>Marge</th>\n",
       "      <td>30</td>\n",
       "      <td>C</td>\n",
       "    </tr>\n",
       "    <tr>\n",
       "      <th rowspan=\"3\" valign=\"top\">South Park</th>\n",
       "      <th>Cartman</th>\n",
       "      <td>9</td>\n",
       "      <td>D</td>\n",
       "    </tr>\n",
       "    <tr>\n",
       "      <th>Kenny</th>\n",
       "      <td>10</td>\n",
       "      <td>E</td>\n",
       "    </tr>\n",
       "    <tr>\n",
       "      <th>Kyle</th>\n",
       "      <td>11</td>\n",
       "      <td>F</td>\n",
       "    </tr>\n",
       "  </tbody>\n",
       "</table>\n",
       "</div>"
      ],
      "text/plain": [
       "                   Yas Meslek\n",
       "Film Adı   isim              \n",
       "Simpson    Homer    40      A\n",
       "           Bart     10      B\n",
       "           Marge    30      C\n",
       "South Park Cartman   9      D\n",
       "           Kenny    10      E\n",
       "           Kyle     11      F"
      ]
     },
     "execution_count": 248,
     "metadata": {},
     "output_type": "execute_result"
    }
   ],
   "source": [
    "cizgiFilmDataFrame"
   ]
  },
  {
   "cell_type": "code",
   "execution_count": null,
   "id": "d82e139a",
   "metadata": {},
   "outputs": [],
   "source": []
  }
 ],
 "metadata": {
  "kernelspec": {
   "display_name": "Python 3 (ipykernel)",
   "language": "python",
   "name": "python3"
  },
  "language_info": {
   "codemirror_mode": {
    "name": "ipython",
    "version": 3
   },
   "file_extension": ".py",
   "mimetype": "text/x-python",
   "name": "python",
   "nbconvert_exporter": "python",
   "pygments_lexer": "ipython3",
   "version": "3.9.13"
  }
 },
 "nbformat": 4,
 "nbformat_minor": 5
}
